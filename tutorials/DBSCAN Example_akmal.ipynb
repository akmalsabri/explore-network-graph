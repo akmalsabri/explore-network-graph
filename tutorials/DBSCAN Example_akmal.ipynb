{
 "cells": [
  {
   "cell_type": "markdown",
   "metadata": {},
   "source": [
    "# DBSCAN  - Clustering Algorithm"
   ]
  },
  {
   "cell_type": "markdown",
   "metadata": {
    "collapsed": true
   },
   "source": [
    "Import packages for analysis of data"
   ]
  },
  {
   "cell_type": "code",
   "execution_count": null,
   "metadata": {},
   "outputs": [],
   "source": [
    "import numpy as np \n",
    "import pandas as pd"
   ]
  },
  {
   "cell_type": "markdown",
   "metadata": {
    "collapsed": true
   },
   "source": [
    "Url for dataset that is to be used"
   ]
  },
  {
   "cell_type": "code",
   "execution_count": null,
   "metadata": {},
   "outputs": [],
   "source": [
    "url = \"http://archive.ics.uci.edu/ml/machine-learning-databases/iris/iris.data\""
   ]
  },
  {
   "cell_type": "markdown",
   "metadata": {
    "collapsed": true
   },
   "source": [
    "Assign dataset column names and assing the dataset to a pandas dataframe"
   ]
  },
  {
   "cell_type": "code",
   "execution_count": null,
   "metadata": {},
   "outputs": [],
   "source": [
    "# Assign colum names to the dataset\n",
    "names = ['sepal-length', 'sepal-width', 'petal-length', 'petal-width', 'Class']\n",
    "\n",
    "# Read dataset to pandas dataframe\n",
    "dataset = pd.read_csv(url, names=names) \n",
    "\n"
   ]
  },
  {
   "cell_type": "markdown",
   "metadata": {
    "collapsed": true
   },
   "source": [
    "Inspect dataset"
   ]
  },
  {
   "cell_type": "code",
   "execution_count": null,
   "metadata": {},
   "outputs": [],
   "source": [
    "dataset.head()"
   ]
  },
  {
   "cell_type": "markdown",
   "metadata": {
    "collapsed": true
   },
   "source": [
    "Obtain only the values for the clustering algorithm. Without the classes"
   ]
  },
  {
   "cell_type": "code",
   "execution_count": null,
   "metadata": {},
   "outputs": [],
   "source": [
    "data = dataset.drop(['Class'], axis=1)"
   ]
  },
  {
   "cell_type": "markdown",
   "metadata": {
    "collapsed": true
   },
   "source": [
    "Check data"
   ]
  },
  {
   "cell_type": "code",
   "execution_count": null,
   "metadata": {},
   "outputs": [],
   "source": [
    "data"
   ]
  },
  {
   "cell_type": "markdown",
   "metadata": {
    "collapsed": true
   },
   "source": [
    "View data only from the first column "
   ]
  },
  {
   "cell_type": "code",
   "execution_count": null,
   "metadata": {},
   "outputs": [],
   "source": [
    "data['sepal-length']"
   ]
  },
  {
   "cell_type": "markdown",
   "metadata": {
    "collapsed": true
   },
   "source": [
    "### Plot graphs"
   ]
  },
  {
   "cell_type": "markdown",
   "metadata": {
    "collapsed": true
   },
   "source": [
    "Import packages to plot graphs "
   ]
  },
  {
   "cell_type": "code",
   "execution_count": null,
   "metadata": {},
   "outputs": [],
   "source": [
    "import matplotlib.pyplot as plt  "
   ]
  },
  {
   "cell_type": "markdown",
   "metadata": {
    "collapsed": true
   },
   "source": [
    "#### Plot graph for Sepal Length and Sepal Width"
   ]
  },
  {
   "cell_type": "code",
   "execution_count": null,
   "metadata": {},
   "outputs": [],
   "source": [
    "plt.figure(figsize=(12, 6))  \n",
    "plt.scatter(data['sepal-length'],data['sepal-width'], c= 'k')\n",
    "plt.title('Sepal Comparison') \n",
    "plt.xlabel('Sepal Length')\n",
    "plt.ylabel('Sepal Width')\n",
    "plt.show()\n",
    "# ask class to add title and color"
   ]
  },
  {
   "cell_type": "markdown",
   "metadata": {
    "collapsed": true
   },
   "source": [
    "#### Plot graph for Petal Width and Petal Length "
   ]
  },
  {
   "cell_type": "code",
   "execution_count": null,
   "metadata": {},
   "outputs": [],
   "source": [
    "plt.figure(figsize=(12, 6))  \n",
    "plt.scatter(data['petal-length'],data['petal-width'], c= 'm')\n",
    "plt.title('Petal Comparison')  \n",
    "plt.xlabel('Petal Length')\n",
    "plt.ylabel('Petal Width')\n",
    "plt.show()\n"
   ]
  },
  {
   "cell_type": "markdown",
   "metadata": {},
   "source": [
    "### Standardize the data \n",
    "Data is standardizes as distance is a critical part of this machine learning algorithm"
   ]
  },
  {
   "cell_type": "code",
   "execution_count": null,
   "metadata": {},
   "outputs": [],
   "source": [
    "from sklearn.preprocessing import StandardScaler\n",
    "scaler = StandardScaler()\n",
    "Xs = scaler.fit_transform(data)"
   ]
  },
  {
   "cell_type": "markdown",
   "metadata": {
    "collapsed": true
   },
   "source": [
    "## DBSCAN machine learning"
   ]
  },
  {
   "cell_type": "markdown",
   "metadata": {
    "collapsed": true
   },
   "source": [
    "Import packages to conduct machine learning "
   ]
  },
  {
   "cell_type": "code",
   "execution_count": null,
   "metadata": {},
   "outputs": [],
   "source": [
    "from sklearn.cluster import DBSCAN\n",
    "from sklearn.metrics import accuracy_score"
   ]
  },
  {
   "cell_type": "markdown",
   "metadata": {
    "collapsed": true
   },
   "source": [
    "Fit the machine learning algorithm with selected parameters"
   ]
  },
  {
   "cell_type": "code",
   "execution_count": null,
   "metadata": {},
   "outputs": [],
   "source": [
    "dbscan = DBSCAN(eps=0.5, min_samples=5)\n"
   ]
  },
  {
   "cell_type": "markdown",
   "metadata": {
    "collapsed": true
   },
   "source": [
    "Obtain the predicted values of the classes"
   ]
  },
  {
   "cell_type": "code",
   "execution_count": null,
   "metadata": {},
   "outputs": [],
   "source": [
    "pred = dbscan.fit_predict(Xs)"
   ]
  },
  {
   "cell_type": "markdown",
   "metadata": {},
   "source": [
    " First let's see the predicted values, what did it give numerically"
   ]
  },
  {
   "cell_type": "code",
   "execution_count": null,
   "metadata": {},
   "outputs": [],
   "source": [
    "pred"
   ]
  },
  {
   "cell_type": "code",
   "execution_count": null,
   "metadata": {},
   "outputs": [],
   "source": [
    "dataset['prediction'] = pred"
   ]
  },
  {
   "cell_type": "code",
   "execution_count": null,
   "metadata": {},
   "outputs": [],
   "source": [
    "dataset['prediction'].value_counts()"
   ]
  },
  {
   "cell_type": "markdown",
   "metadata": {},
   "source": [
    "# Draw graphs for the predictions "
   ]
  },
  {
   "cell_type": "code",
   "execution_count": null,
   "metadata": {},
   "outputs": [],
   "source": [
    "# viewing data where prediction = 0\n",
    "dataset[dataset['prediction']==0]"
   ]
  },
  {
   "cell_type": "markdown",
   "metadata": {},
   "source": [
    "View the plot of the actual data:\n",
    "\n",
    "Seperate data according to their `Class` to plot "
   ]
  },
  {
   "cell_type": "code",
   "execution_count": null,
   "metadata": {},
   "outputs": [],
   "source": [
    "# Predictions\n",
    "pred_1 = dataset[dataset['prediction'] == 1]\n",
    "pred_0 = dataset[dataset['prediction'] == 0]\n",
    "pred_n1 = dataset[dataset['prediction'] == -1]"
   ]
  },
  {
   "cell_type": "code",
   "execution_count": null,
   "metadata": {},
   "outputs": [],
   "source": [
    "# Actual\n",
    "setosa = dataset[dataset['Class'] == 'Iris-setosa']\n",
    "virginica  = dataset[dataset['Class'] == 'Iris-virginica']\n",
    "versicolor = dataset[dataset['Class'] == 'Iris-versicolor']"
   ]
  },
  {
   "cell_type": "markdown",
   "metadata": {},
   "source": [
    "### Plot actual and predicted data side by side \n",
    "#### Predicted & Actual Sepal length and width"
   ]
  },
  {
   "cell_type": "code",
   "execution_count": null,
   "metadata": {},
   "outputs": [],
   "source": [
    "plt.figure(figsize=(12,6))\n",
    "plt.subplot(1, 2, 1)\n",
    "\n",
    "## Predicted sepal length and width\n",
    "\n",
    "\n",
    "plt.scatter(pred_0['sepal-length'], pred_0['sepal-width'])\n",
    "plt.scatter(pred_1['sepal-length'], pred_1['sepal-width'])\n",
    "plt.scatter(pred_n1['sepal-length'], pred_n1['sepal-width'])\n",
    "\n",
    "\n",
    "plt.legend(['setosa','versicolor','virginica'])\n",
    "plt.title('Predicted Sepal Comparison')  \n",
    "plt.xlabel('Sepal Length')  \n",
    "plt.ylabel(\"Sepal Width\") \n",
    "\n",
    "plt.subplot(1, 2, 2)\n",
    "\n",
    "# Actual Sepal Length and Width \n",
    "plt.scatter(setosa['sepal-length'], setosa['sepal-width'])\n",
    "plt.scatter(versicolor['sepal-length'], versicolor['sepal-width'])\n",
    "plt.scatter(virginica['sepal-length'], virginica['sepal-width'])\n",
    "\n",
    "plt.legend(['setosa','versicolor','virginica'])\n",
    "plt.title('Actual Sepal Comparison')\n",
    "plt.xlabel('Sepal Length')\n",
    "plt.ylabel('Sepal Width')\n",
    "\n",
    "\n",
    " \n",
    "\n",
    "\n",
    "plt.show()"
   ]
  },
  {
   "cell_type": "markdown",
   "metadata": {
    "collapsed": true
   },
   "source": [
    "#### Predicted & Actual Petal length and width"
   ]
  },
  {
   "cell_type": "code",
   "execution_count": null,
   "metadata": {},
   "outputs": [],
   "source": [
    "plt.figure(figsize=(12,6))\n",
    "plt.subplot(1, 2, 1)\n",
    "\n",
    "#predicted \n",
    "\n",
    "\n",
    "plt.scatter(pred_0['petal-length'], pred_0['petal-width'])\n",
    "plt.scatter(pred_1['petal-length'], pred_1['petal-width'])\n",
    "plt.scatter(pred_n1['petal-length'], pred_n1['petal-width'])\n",
    "\n",
    "plt.legend(['setosa','versicolor','virginica'])\n",
    "plt.title('Predicted Petal Comparison')  \n",
    "plt.xlabel('Petal Length')  \n",
    "plt.ylabel(\"Petal Width\")  \n",
    "\n",
    "# actual \n",
    "\n",
    "plt.subplot(1, 2, 2)\n",
    "plt.scatter(setosa['petal-length'], setosa['petal-width'])\n",
    "plt.scatter(versicolor['petal-length'], versicolor['petal-width'])\n",
    "plt.scatter(virginica['petal-length'], virginica['petal-width'])\n",
    "\n",
    "plt.legend(['setosa','versicolor','virginica'])\n",
    "plt.title('Actual Petal Comparison')\n",
    "plt.xlabel('Petal Length')\n",
    "plt.ylabel('Petal Width')\n",
    "\n",
    "\n",
    "plt.show()"
   ]
  },
  {
   "cell_type": "code",
   "execution_count": null,
   "metadata": {},
   "outputs": [],
   "source": [
    "import seaborn as sns"
   ]
  },
  {
   "cell_type": "markdown",
   "metadata": {},
   "source": [
    "### Exercise 1 \n",
    "Test each combination ( manual grid search )\n",
    "- Change the value of eps to 0.1, 1,10 \n",
    "- Change the value of min_samples to 1,5,10\n",
    "- Note down the changes that you see in the figure below"
   ]
  },
  {
   "cell_type": "code",
   "execution_count": null,
   "metadata": {},
   "outputs": [],
   "source": [
    "#### replace values here \n",
    "dbscan = DBSCAN(eps=1, min_samples=5)\n",
    "\n",
    "\n",
    "\n",
    "\n",
    "\n",
    "pred = dbscan.fit_predict(Xs)\n",
    "dataset['prediction'] = pred\n",
    "fig,ax = plt.subplots(figsize=(12,6))\n",
    "\n",
    "plt.subplot(1, 2, 1)\n",
    "plt.title('Predicted Petal Comparison')  \n",
    "sns.scatterplot(data=dataset, hue='prediction', x='petal-length', y='petal-width',palette='Accent')\n",
    "plt.subplot(1, 2, 2)\n",
    "plt.title('Actual Petal Comparison')  \n",
    "sns.scatterplot(data=dataset, hue='Class', x='petal-length', y='petal-width',palette='Accent' )\n",
    "\n",
    "plt.show()"
   ]
  },
  {
   "cell_type": "markdown",
   "metadata": {},
   "source": [
    "## Cool Example "
   ]
  },
  {
   "cell_type": "markdown",
   "metadata": {},
   "source": [
    "https://www.naftaliharris.com/blog/visualizing-dbscan-clustering/"
   ]
  }
 ],
 "metadata": {
  "kernelspec": {
   "display_name": "Python 3",
   "language": "python",
   "name": "python3"
  },
  "language_info": {
   "codemirror_mode": {
    "name": "ipython",
    "version": 3
   },
   "file_extension": ".py",
   "mimetype": "text/x-python",
   "name": "python",
   "nbconvert_exporter": "python",
   "pygments_lexer": "ipython3",
   "version": "3.8.3"
  }
 },
 "nbformat": 4,
 "nbformat_minor": 2
}
