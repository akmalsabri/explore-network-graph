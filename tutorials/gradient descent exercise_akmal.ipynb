{
 "cells": [
  {
   "cell_type": "markdown",
   "metadata": {},
   "source": [
    "### Reference for this code \n",
    "https://github.com/mattnedrich/GradientDescentExample"
   ]
  },
  {
   "cell_type": "markdown",
   "metadata": {},
   "source": [
    "# Gradient descent excercise "
   ]
  },
  {
   "cell_type": "markdown",
   "metadata": {},
   "source": [
    "Run the next 4 cells once"
   ]
  },
  {
   "cell_type": "code",
   "execution_count": 1,
   "metadata": {},
   "outputs": [],
   "source": [
    "from numpy import *\n",
    "from datetime import datetime\n",
    "import pandas as pd\n",
    "\n",
    "# y = mx + b\n",
    "# m is slope, b is y-intercept\n",
    "def compute_error_for_line_given_points(b, m, points):\n",
    "    totalError = 0\n",
    "    for i in range(0, len(points)):\n",
    "        x = points[i, 0]\n",
    "        y = points[i, 1]\n",
    "        totalError += (y - (m * x + b)) ** 2\n",
    "    return totalError / float(len(points))"
   ]
  },
  {
   "cell_type": "code",
   "execution_count": 2,
   "metadata": {},
   "outputs": [],
   "source": [
    "def step_gradient(b_current, m_current, points, learningRate):\n",
    "    b_gradient = 0\n",
    "    m_gradient = 0\n",
    "    N = float(len(points))\n",
    "    for i in range(0, len(points)):\n",
    "        x = points[i, 0]\n",
    "        y = points[i, 1]\n",
    "        b_gradient += -(2/N) * (y - ((m_current * x) + b_current))\n",
    "        m_gradient += -(2/N) * x * (y - ((m_current * x) + b_current))\n",
    "    new_b = b_current - (learningRate * b_gradient)\n",
    "    new_m = m_current - (learningRate * m_gradient)\n",
    "    return [new_b, new_m]\n",
    "\n",
    "\n"
   ]
  },
  {
   "cell_type": "code",
   "execution_count": 3,
   "metadata": {},
   "outputs": [],
   "source": [
    "def gradient_descent_runner(points, starting_b, starting_m, learning_rate, num_iterations):\n",
    "    b = starting_b\n",
    "    m = starting_m\n",
    "    for i in range(num_iterations):\n",
    "        b, m = step_gradient(b, m, array(points), learning_rate)\n",
    "    return [b, m]\n"
   ]
  },
  {
   "cell_type": "code",
   "execution_count": 4,
   "metadata": {},
   "outputs": [],
   "source": [
    "def run(lr,b_v,m_v,i):\n",
    "    points = genfromtxt(\"data/gd_data.csv\", delimiter=\",\")\n",
    "    learning_rate = lr # try ( 0.00001 and 0.1 )\n",
    "    initial_b =b_v # initial y-intercept guess\n",
    "    initial_m =m_v # initial slope guess\n",
    "    num_iterations = i# try ( 10 and 10000)\n",
    "\n",
    "    \n",
    "    start_time = datetime.now()\n",
    "    \n",
    "   \n",
    "    print (\"Starting gradient descent at b = {0}, m = {1}, error = {2}\".format(initial_b, initial_m, compute_error_for_line_given_points(initial_b, initial_m, points))) \n",
    "    print (\"Running...\")\n",
    "     \n",
    "    [b, m] = gradient_descent_runner(points, initial_b, initial_m, learning_rate, num_iterations)\n",
    "    print (\"After {0} iterations b = {1}, m = {2}, error = {3}\".format(num_iterations, b, m, compute_error_for_line_given_points(b, m, points)))\n",
    "    \n",
    "    end_time = datetime.now()\n",
    "    print('Duration: {}'.format(end_time - start_time))\n"
   ]
  },
  {
   "cell_type": "markdown",
   "metadata": {},
   "source": [
    "### Test Different Variables \n",
    "- Run the code below with different variables according to the followinig exercise:"
   ]
  },
  {
   "cell_type": "markdown",
   "metadata": {},
   "source": [
    "### Exercise : \n",
    "    1. What are the results obtained from manipulating the learning rate? - try ( 0.00001 and 0.1 )\n",
    "    2. What are the results obtainedfrom manipulating the num_iteration? - try ( 10 and 10000)\n",
    "    3. How does manipulating the initial b and m cause change in the results ?\n",
    "    4. Start the initial_b and initial_m at 10 what are the changes that you see ?\n",
    "    5. Start the initial_b and initial_m at -10 what are the changes that you see ?\n",
    "    6. What is the minimum error that you can get ?\n",
    "    7. How are the values of the m , b and error different from that of the one manually calculated, when using Scikit Learn?\n",
    "        - Obtain the mean squared error\n",
    "        - intercept_\n",
    "        - coef_\n",
    "  "
   ]
  },
  {
   "cell_type": "code",
   "execution_count": 5,
   "metadata": {},
   "outputs": [
    {
     "output_type": "stream",
     "name": "stdout",
     "text": [
      "Starting gradient descent at b = 10, m = 0.5, error = 1637.3790484995645\nRunning...\nAfter 100 iterations b = -1.6492782424958336e+58, m = -8.391268428965048e+59, error = 1.7553255068785434e+123\nDuration: 0:00:00.022160\n"
     ]
    }
   ],
   "source": [
    "# note some values may give you error, just change it a bit \n",
    "\n",
    "learning_rate =  0.001         \n",
    "initial_b = 10                # initial y-intercept guess\n",
    "initial_m = 0.5               # initial slope guess\n",
    "num_iterations = 100 \n",
    "run(learning_rate,initial_b,initial_m,num_iterations)\n"
   ]
  },
  {
   "cell_type": "code",
   "execution_count": 6,
   "metadata": {},
   "outputs": [
    {
     "output_type": "stream",
     "name": "stdout",
     "text": [
      "Starting gradient descent at b = 10, m = 0.5, error = 1637.3790484995645\nRunning...\nAfter 100 iterations b = -7.182427235712127e+267, m = -3.654306068766448e+269, error = inf\nDuration: 0:00:00.022904\n"
     ]
    }
   ],
   "source": [
    "# learning rate 0.1\n",
    "\n",
    "learning_rate =  0.1         \n",
    "initial_b = 10                # initial y-intercept guess\n",
    "initial_m = 0.5               # initial slope guess\n",
    "num_iterations = 100 \n",
    "run(learning_rate,initial_b,initial_m,num_iterations)"
   ]
  },
  {
   "cell_type": "code",
   "execution_count": 24,
   "metadata": {},
   "outputs": [
    {
     "output_type": "stream",
     "name": "stdout",
     "text": [
      "Starting gradient descent at b = 10, m = 0.5, error = 1637.3790484995645\nRunning...\nAfter 100 iterations b = 10.015137183282315, m = 1.277932701051702, error = 110.46745020249041\nDuration: 0:00:00.027333\n"
     ]
    }
   ],
   "source": [
    "# learning rate 0.00001\n",
    "\n",
    "learning_rate =  0.00001         \n",
    "initial_b = 10                # initial y-intercept guess\n",
    "initial_m = 0.5               # initial slope guess\n",
    "num_iterations = 100 \n",
    "run(learning_rate,initial_b,initial_m,num_iterations)"
   ]
  },
  {
   "source": [
    "learning rate affect the error value. best learning rate 0.001"
   ],
   "cell_type": "markdown",
   "metadata": {}
  },
  {
   "cell_type": "code",
   "execution_count": 8,
   "metadata": {},
   "outputs": [
    {
     "output_type": "stream",
     "name": "stdout",
     "text": [
      "Starting gradient descent at b = 10, m = 0.5, error = 1637.3790484995645\nRunning...\nAfter 10 iterations b = -15480.16091917473, m = -788114.4590746979, error = 1548397423449867.2\nDuration: 0:00:00.005965\n"
     ]
    }
   ],
   "source": [
    "# number iteration\n",
    "\n",
    "learning_rate =  0.001         \n",
    "initial_b = 10               # initial y-intercept guess\n",
    "initial_m = 0.5               # initial slope guess\n",
    "num_iterations = 10\n",
    "run(learning_rate,initial_b,initial_m,num_iterations)"
   ]
  },
  {
   "cell_type": "code",
   "execution_count": 10,
   "metadata": {},
   "outputs": [
    {
     "output_type": "stream",
     "name": "stdout",
     "text": [
      "Starting gradient descent at b = 10, m = 0.5, error = 1637.3790484995645\nRunning...\nAfter 10000 iterations b = nan, m = nan, error = nan\nDuration: 0:00:01.384571\n"
     ]
    }
   ],
   "source": [
    "# number iteration 1000\n",
    "\n",
    "learning_rate =  0.001         \n",
    "initial_b = 10               # initial y-intercept guess\n",
    "initial_m = 0.5               # initial slope guess\n",
    "num_iterations = 10000\n",
    "run(learning_rate,initial_b,initial_m,num_iterations)"
   ]
  },
  {
   "cell_type": "code",
   "execution_count": 11,
   "metadata": {},
   "outputs": [
    {
     "output_type": "stream",
     "name": "stdout",
     "text": [
      "Starting gradient descent at b = 10, m = 10, error = 189391.1642878167\nRunning...\nAfter 1000 iterations b = nan, m = nan, error = nan\nDuration: 0:00:00.150159\n"
     ]
    }
   ],
   "source": [
    "#Start the initial_b and initial_m at 10 what are the changes that you see ? initial 10\n",
    "\n",
    "learning_rate =  0.001         \n",
    "initial_b = 10               # initial y-intercept guess\n",
    "initial_m = 10               # initial slope guess\n",
    "num_iterations = 1000\n",
    "run(learning_rate,initial_b,initial_m,num_iterations)\n"
   ]
  },
  {
   "cell_type": "code",
   "execution_count": null,
   "metadata": {},
   "outputs": [],
   "source": [
    "bigger iteration,lower error"
   ]
  },
  {
   "cell_type": "code",
   "execution_count": 28,
   "metadata": {},
   "outputs": [
    {
     "output_type": "stream",
     "name": "stdout",
     "text": [
      "Starting gradient descent at b = 10, m = 10, error = 189391.1642878167\nRunning...\nAfter 100 iterations b = 1.8362523680277467e+59, m = 9.342563387076555e+60, error = 2.175878004013662e+125\nDuration: 0:00:00.038271\n"
     ]
    }
   ],
   "source": [
    "learning_rate =  0.001         \n",
    "initial_b = 10               # initial y-intercept guess\n",
    "initial_m = 10               # initial slope guess\n",
    "num_iterations = 100\n",
    "run(learning_rate,initial_b,initial_m,num_iterations)"
   ]
  },
  {
   "cell_type": "code",
   "execution_count": 29,
   "metadata": {},
   "outputs": [
    {
     "output_type": "stream",
     "name": "stdout",
     "text": [
      "Starting gradient descent at b = -10, m = -10, error = 339714.62578178523\nRunning...\nAfter 100 iterations b = -2.4595640092780524e+59, m = -1.2513875032293553e+61, error = 3.9037865460519866e+125\nDuration: 0:00:00.023112\n"
     ]
    }
   ],
   "source": [
    "# initial -10\n",
    "\n",
    "learning_rate =  0.001         \n",
    "initial_b = -10               # initial y-intercept guess\n",
    "initial_m = -10               # initial slope guess\n",
    "num_iterations = 100\n",
    "run(learning_rate,initial_b,initial_m,num_iterations)"
   ]
  },
  {
   "source": [
    "Initial b,m\n",
    "\n",
    "error increase when initial b,m negative value"
   ],
   "cell_type": "markdown",
   "metadata": {}
  },
  {
   "cell_type": "markdown",
   "metadata": {},
   "source": [
    "### Question 7.\n",
    "- Comparing to Scikit Learn \n"
   ]
  },
  {
   "cell_type": "code",
   "execution_count": 13,
   "metadata": {},
   "outputs": [],
   "source": [
    "data = pd.read_csv('data/gd_data.csv',names =['x','y'])"
   ]
  },
  {
   "cell_type": "code",
   "execution_count": 14,
   "metadata": {},
   "outputs": [
    {
     "output_type": "execute_result",
     "data": {
      "text/plain": [
       "           x          y\n",
       "0  32.502345  31.707006\n",
       "1  53.426804  68.777596\n",
       "2  61.530358  62.562382\n",
       "3  47.475640  71.546632\n",
       "4  59.813208  87.230925"
      ],
      "text/html": "<div>\n<style scoped>\n    .dataframe tbody tr th:only-of-type {\n        vertical-align: middle;\n    }\n\n    .dataframe tbody tr th {\n        vertical-align: top;\n    }\n\n    .dataframe thead th {\n        text-align: right;\n    }\n</style>\n<table border=\"1\" class=\"dataframe\">\n  <thead>\n    <tr style=\"text-align: right;\">\n      <th></th>\n      <th>x</th>\n      <th>y</th>\n    </tr>\n  </thead>\n  <tbody>\n    <tr>\n      <th>0</th>\n      <td>32.502345</td>\n      <td>31.707006</td>\n    </tr>\n    <tr>\n      <th>1</th>\n      <td>53.426804</td>\n      <td>68.777596</td>\n    </tr>\n    <tr>\n      <th>2</th>\n      <td>61.530358</td>\n      <td>62.562382</td>\n    </tr>\n    <tr>\n      <th>3</th>\n      <td>47.475640</td>\n      <td>71.546632</td>\n    </tr>\n    <tr>\n      <th>4</th>\n      <td>59.813208</td>\n      <td>87.230925</td>\n    </tr>\n  </tbody>\n</table>\n</div>"
     },
     "metadata": {},
     "execution_count": 14
    }
   ],
   "source": [
    "data.head()"
   ]
  },
  {
   "cell_type": "code",
   "execution_count": 15,
   "metadata": {},
   "outputs": [],
   "source": [
    "X = data[['x']]\n",
    "y = data['y']"
   ]
  },
  {
   "cell_type": "code",
   "execution_count": 16,
   "metadata": {},
   "outputs": [],
   "source": [
    "from sklearn.linear_model import LinearRegression\n",
    "from sklearn.metrics import mean_squared_error"
   ]
  },
  {
   "cell_type": "code",
   "execution_count": 18,
   "metadata": {},
   "outputs": [],
   "source": [
    "lr = LinearRegression()\n",
    "model = lr.fit(X, y)\n"
   ]
  },
  {
   "cell_type": "code",
   "execution_count": 19,
   "metadata": {},
   "outputs": [
    {
     "output_type": "stream",
     "name": "stdout",
     "text": [
      "intercept: 7.991020982270399\nslope: [1.32243102]\n"
     ]
    }
   ],
   "source": [
    "print('intercept:', model.intercept_)\n",
    "\n",
    "print('slope:', model.coef_)"
   ]
  },
  {
   "cell_type": "code",
   "execution_count": 22,
   "metadata": {},
   "outputs": [],
   "source": [
    "y_predict = model.predict(X)\n"
   ]
  },
  {
   "cell_type": "code",
   "execution_count": 23,
   "metadata": {},
   "outputs": [
    {
     "output_type": "execute_result",
     "data": {
      "text/plain": [
       "110.25738346621316"
      ]
     },
     "metadata": {},
     "execution_count": 23
    }
   ],
   "source": [
    "mean_squared_error(y,y_predict)"
   ]
  },
  {
   "cell_type": "code",
   "execution_count": null,
   "metadata": {},
   "outputs": [],
   "source": []
  }
 ],
 "metadata": {
  "kernelspec": {
   "display_name": "Python 3.7.5 64-bit",
   "language": "python",
   "name": "python37564bit78260c2933a848af8571fd98d2c806cf"
  },
  "language_info": {
   "codemirror_mode": {
    "name": "ipython",
    "version": 3
   },
   "file_extension": ".py",
   "mimetype": "text/x-python",
   "name": "python",
   "nbconvert_exporter": "python",
   "pygments_lexer": "ipython3",
   "version": "3.7.5-final"
  }
 },
 "nbformat": 4,
 "nbformat_minor": 2
}