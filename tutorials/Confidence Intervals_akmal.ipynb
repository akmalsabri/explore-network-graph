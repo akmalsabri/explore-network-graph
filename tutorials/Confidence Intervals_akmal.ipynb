{
 "cells": [
  {
   "cell_type": "markdown",
   "metadata": {},
   "source": [
    "# Confidence Interval"
   ]
  },
  {
   "cell_type": "markdown",
   "metadata": {},
   "source": [
    "### Before we go into Confidence Interval, first let us recall the Central Limit Theorem\n",
    "- We learned that if we collect **means** from different samples over and over again, the **means** will finally make a **normal distribution**. \n",
    "- This allows us to use the **Confidence Interval** as it will build on the assumption from the Central Limit Theorem."
   ]
  },
  {
   "cell_type": "markdown",
   "metadata": {},
   "source": [
    "### Standard Error\n",
    "The term **standard error** is used to refer to the standard deviation of various sample statistics, such as the mean or median. For example, the \"standard error of the mean\" refers to the standard deviation of the distribution of sample means taken from a population. **The smaller the standard error, the more representative the sample will be of the overall population.**\n",
    "\n",
    "$$ SE_{}= \\frac{s_{}}{\\sqrt{n}} $$\n",
    "\n",
    "Short video explaining Standard Error\n",
    "- https://www.investopedia.com/terms/s/standard-error.asp"
   ]
  },
  {
   "cell_type": "markdown",
   "metadata": {},
   "source": [
    "### The Confidence Interval !!!\n",
    "- The Confidence interval refers to the probability that a population parameter will fall between a set of values for a certain proportion of times.\n",
    "- In our case, using the confidence interval, we can determine from the samples, the range of values of the means where we are confident the mean of the population is. \n",
    "\n",
    "\n",
    "**Confidence Interval =  Estimate ± z-score x Standard Error**\n",
    "\n",
    "For our case\n",
    "\n",
    "**Confidence Interval =  Sample Mean ± z-score x Standard Error**\n",
    "\n",
    "$$\\text{CI} = \\bar{x} \\pm z_{} \\cdot SE_{}$$\n",
    "\n",
    "\n",
    "**** we do not have to calculate the z-score, we can just use a function from scipy.stats"
   ]
  },
  {
   "cell_type": "code",
   "execution_count": 1,
   "metadata": {},
   "outputs": [],
   "source": [
    "import pandas as pd \n",
    "import numpy as np\n",
    "import random\n",
    "import scipy.stats as st"
   ]
  },
  {
   "cell_type": "markdown",
   "metadata": {},
   "source": [
    "#### The data used in this class is obtained from Kaggle- [Property Listing KL](https://www.kaggle.com/dragonduck/property-listings-in-kuala-lumpur)\n"
   ]
  },
  {
   "cell_type": "code",
   "execution_count": 2,
   "metadata": {},
   "outputs": [],
   "source": [
    "kl = pd.read_csv(\"./data/property_kl.csv\")"
   ]
  },
  {
   "cell_type": "code",
   "execution_count": 3,
   "metadata": {},
   "outputs": [
    {
     "output_type": "execute_result",
     "data": {
      "text/plain": [
       "53883"
      ]
     },
     "metadata": {},
     "execution_count": 3
    }
   ],
   "source": [
    "len(kl)"
   ]
  },
  {
   "cell_type": "code",
   "execution_count": 4,
   "metadata": {},
   "outputs": [
    {
     "output_type": "execute_result",
     "data": {
      "text/plain": [
       "                          Location         Price Rooms  Bathrooms  Car Parks  \\\n",
       "0               KLCC, Kuala Lumpur  RM 1,250,000   2+1        3.0        2.0   \n",
       "1  Damansara Heights, Kuala Lumpur  RM 6,800,000     6        7.0        NaN   \n",
       "2            Dutamas, Kuala Lumpur  RM 1,030,000     3        4.0        2.0   \n",
       "3             Cheras, Kuala Lumpur           NaN   NaN        NaN        NaN   \n",
       "4        Bukit Jalil, Kuala Lumpur    RM 900,000   4+1        3.0        2.0   \n",
       "\n",
       "          Property Type                      Size        Furnishing  \n",
       "0    Serviced Residence  Built-up : 1,335 sq. ft.   Fully Furnished  \n",
       "1              Bungalow  Land area : 6900 sq. ft.  Partly Furnished  \n",
       "2  Condominium (Corner)  Built-up : 1,875 sq. ft.  Partly Furnished  \n",
       "3                   NaN                       NaN               NaN  \n",
       "4  Condominium (Corner)  Built-up : 1,513 sq. ft.  Partly Furnished  "
      ],
      "text/html": "<div>\n<style scoped>\n    .dataframe tbody tr th:only-of-type {\n        vertical-align: middle;\n    }\n\n    .dataframe tbody tr th {\n        vertical-align: top;\n    }\n\n    .dataframe thead th {\n        text-align: right;\n    }\n</style>\n<table border=\"1\" class=\"dataframe\">\n  <thead>\n    <tr style=\"text-align: right;\">\n      <th></th>\n      <th>Location</th>\n      <th>Price</th>\n      <th>Rooms</th>\n      <th>Bathrooms</th>\n      <th>Car Parks</th>\n      <th>Property Type</th>\n      <th>Size</th>\n      <th>Furnishing</th>\n    </tr>\n  </thead>\n  <tbody>\n    <tr>\n      <th>0</th>\n      <td>KLCC, Kuala Lumpur</td>\n      <td>RM 1,250,000</td>\n      <td>2+1</td>\n      <td>3.0</td>\n      <td>2.0</td>\n      <td>Serviced Residence</td>\n      <td>Built-up : 1,335 sq. ft.</td>\n      <td>Fully Furnished</td>\n    </tr>\n    <tr>\n      <th>1</th>\n      <td>Damansara Heights, Kuala Lumpur</td>\n      <td>RM 6,800,000</td>\n      <td>6</td>\n      <td>7.0</td>\n      <td>NaN</td>\n      <td>Bungalow</td>\n      <td>Land area : 6900 sq. ft.</td>\n      <td>Partly Furnished</td>\n    </tr>\n    <tr>\n      <th>2</th>\n      <td>Dutamas, Kuala Lumpur</td>\n      <td>RM 1,030,000</td>\n      <td>3</td>\n      <td>4.0</td>\n      <td>2.0</td>\n      <td>Condominium (Corner)</td>\n      <td>Built-up : 1,875 sq. ft.</td>\n      <td>Partly Furnished</td>\n    </tr>\n    <tr>\n      <th>3</th>\n      <td>Cheras, Kuala Lumpur</td>\n      <td>NaN</td>\n      <td>NaN</td>\n      <td>NaN</td>\n      <td>NaN</td>\n      <td>NaN</td>\n      <td>NaN</td>\n      <td>NaN</td>\n    </tr>\n    <tr>\n      <th>4</th>\n      <td>Bukit Jalil, Kuala Lumpur</td>\n      <td>RM 900,000</td>\n      <td>4+1</td>\n      <td>3.0</td>\n      <td>2.0</td>\n      <td>Condominium (Corner)</td>\n      <td>Built-up : 1,513 sq. ft.</td>\n      <td>Partly Furnished</td>\n    </tr>\n  </tbody>\n</table>\n</div>"
     },
     "metadata": {},
     "execution_count": 4
    }
   ],
   "source": [
    "kl.head()"
   ]
  },
  {
   "cell_type": "code",
   "execution_count": 5,
   "metadata": {},
   "outputs": [
    {
     "output_type": "stream",
     "name": "stdout",
     "text": [
      "<class 'pandas.core.frame.DataFrame'>\nRangeIndex: 53883 entries, 0 to 53882\nData columns (total 8 columns):\n #   Column         Non-Null Count  Dtype  \n---  ------         --------------  -----  \n 0   Location       53883 non-null  object \n 1   Price          53635 non-null  object \n 2   Rooms          52177 non-null  object \n 3   Bathrooms      51870 non-null  float64\n 4   Car Parks      36316 non-null  float64\n 5   Property Type  53858 non-null  object \n 6   Size           52820 non-null  object \n 7   Furnishing     46953 non-null  object \ndtypes: float64(2), object(6)\nmemory usage: 3.3+ MB\n"
     ]
    }
   ],
   "source": [
    "kl.info()"
   ]
  },
  {
   "cell_type": "markdown",
   "metadata": {},
   "source": [
    "### For our purpose today, we are only going to look at the column `Price`"
   ]
  },
  {
   "cell_type": "markdown",
   "metadata": {},
   "source": [
    "#### Some Cleaning"
   ]
  },
  {
   "cell_type": "code",
   "execution_count": 7,
   "metadata": {},
   "outputs": [],
   "source": [
    "price_clean = kl['Price'].dropna()"
   ]
  },
  {
   "cell_type": "code",
   "execution_count": 8,
   "metadata": {},
   "outputs": [
    {
     "output_type": "execute_result",
     "data": {
      "text/plain": [
       "0        RM 1,250,000\n",
       "1        RM 6,800,000\n",
       "2        RM 1,030,000\n",
       "4          RM 900,000\n",
       "5        RM 5,350,000\n",
       "             ...     \n",
       "53878    RM 5,100,000\n",
       "53879    RM 5,000,000\n",
       "53880    RM 5,500,000\n",
       "53881      RM 480,000\n",
       "53882      RM 540,000\n",
       "Name: Price, Length: 53635, dtype: object"
      ]
     },
     "metadata": {},
     "execution_count": 8
    }
   ],
   "source": [
    "price_clean"
   ]
  },
  {
   "cell_type": "code",
   "execution_count": 9,
   "metadata": {},
   "outputs": [
    {
     "output_type": "execute_result",
     "data": {
      "text/plain": [
       "str"
      ]
     },
     "metadata": {},
     "execution_count": 9
    }
   ],
   "source": [
    "# checking data type\n",
    "type(price_clean[0])"
   ]
  },
  {
   "cell_type": "code",
   "execution_count": 10,
   "metadata": {},
   "outputs": [],
   "source": [
    "#Removing ',' and RM \n",
    "price_clean = price_clean.str.replace('[^A-Za-z0-9]+', '')\n",
    "price_clean = price_clean.str.replace('RM', '')"
   ]
  },
  {
   "cell_type": "code",
   "execution_count": 11,
   "metadata": {},
   "outputs": [],
   "source": [
    "price_clean = price_clean.apply(int)"
   ]
  },
  {
   "cell_type": "code",
   "execution_count": 12,
   "metadata": {},
   "outputs": [
    {
     "output_type": "execute_result",
     "data": {
      "text/plain": [
       "0        1250000\n",
       "1        6800000\n",
       "2        1030000\n",
       "4         900000\n",
       "5        5350000\n",
       "          ...   \n",
       "53878    5100000\n",
       "53879    5000000\n",
       "53880    5500000\n",
       "53881     480000\n",
       "53882     540000\n",
       "Name: Price, Length: 53635, dtype: int64"
      ]
     },
     "metadata": {},
     "execution_count": 12
    }
   ],
   "source": [
    "price_clean"
   ]
  },
  {
   "cell_type": "code",
   "execution_count": 13,
   "metadata": {},
   "outputs": [],
   "source": [
    "# making the price data in a list\n",
    "price_list = list(price_clean.values)"
   ]
  },
  {
   "cell_type": "markdown",
   "metadata": {},
   "source": [
    "#### Done Cleaning"
   ]
  },
  {
   "cell_type": "markdown",
   "metadata": {},
   "source": [
    "### Now let us take samples of our data "
   ]
  },
  {
   "cell_type": "code",
   "execution_count": 14,
   "metadata": {},
   "outputs": [],
   "source": [
    "# Here we are choosing 100 data randomly from the price_clean dataset\n",
    "\n",
    "sample = random.sample(price_list, 100)\n"
   ]
  },
  {
   "cell_type": "code",
   "execution_count": 15,
   "metadata": {
    "scrolled": true
   },
   "outputs": [
    {
     "output_type": "execute_result",
     "data": {
      "text/plain": [
       "2484319.77"
      ]
     },
     "metadata": {},
     "execution_count": 15
    }
   ],
   "source": [
    "# now we will take the mean of the sample\n",
    "np.mean(sample)"
   ]
  },
  {
   "cell_type": "markdown",
   "metadata": {},
   "source": [
    "### Lets obtain the standard error for our data\n",
    "$$ SE_{}= \\frac{s_{}}{\\sqrt{n}} $$"
   ]
  },
  {
   "cell_type": "code",
   "execution_count": 16,
   "metadata": {},
   "outputs": [],
   "source": [
    "# standard deviation / square root of sample size"
   ]
  },
  {
   "cell_type": "code",
   "execution_count": 17,
   "metadata": {},
   "outputs": [],
   "source": [
    "# standard deviation (s)\n",
    "std = np.std(sample)"
   ]
  },
  {
   "cell_type": "code",
   "execution_count": 20,
   "metadata": {},
   "outputs": [
    {
     "output_type": "execute_result",
     "data": {
      "text/plain": [
       "100"
      ]
     },
     "metadata": {},
     "execution_count": 20
    }
   ],
   "source": [
    "# number of samples (n)\n",
    "n = len(sample)\n",
    "n"
   ]
  },
  {
   "cell_type": "code",
   "execution_count": 21,
   "metadata": {},
   "outputs": [
    {
     "output_type": "execute_result",
     "data": {
      "text/plain": [
       "236399.63499045424"
      ]
     },
     "metadata": {},
     "execution_count": 21
    }
   ],
   "source": [
    "# standard error (SE)\n",
    "se = std/(np.sqrt(n))\n",
    "se"
   ]
  },
  {
   "cell_type": "markdown",
   "metadata": {},
   "source": [
    "**Confidence Interval =  Sample Mean ± z-score x Standard Error**\n",
    "\n",
    "$$\\text{CI} = \\bar{x} \\pm z_{} \\cdot SE_{}$$"
   ]
  },
  {
   "cell_type": "code",
   "execution_count": 22,
   "metadata": {},
   "outputs": [],
   "source": [
    "# For this, we actually need the z-score, but we can just use the function from the scipy.stats library."
   ]
  },
  {
   "cell_type": "code",
   "execution_count": 23,
   "metadata": {},
   "outputs": [
    {
     "output_type": "execute_result",
     "data": {
      "text/plain": [
       "(2020984.9994602948, 2947654.540539705)"
      ]
     },
     "metadata": {},
     "execution_count": 23
    }
   ],
   "source": [
    "# In the function below we are placing 0.95 to represent 95%. The interval that we obtain represent that we are 95% confident\n",
    "st.norm.interval(alpha=0.95, loc=np.mean(sample), scale=se)"
   ]
  },
  {
   "source": [],
   "cell_type": "markdown",
   "metadata": {}
  },
  {
   "cell_type": "markdown",
   "metadata": {},
   "source": [
    "### Interpreting the results... \n",
    "- These 2 values obtained are the **upper** and **lower** limits of our **confidence interval**. \n",
    "- For example:\n",
    "    - Sample mean - RM 1,750,785.60\n",
    "    - Confidence interval (95%) - RM 1,796,140.57, RM 2,178,206.15\n",
    "    - What the confidence interval is saying is that:\n",
    "        - From the sample that we have taken, we are 95% confident that the **mean of the population** (average price of the houses in KL) is between \n",
    "        - **RM 1,796,140.57** and  **RM 2,178,206.15**"
   ]
  },
  {
   "cell_type": "code",
   "execution_count": 24,
   "metadata": {},
   "outputs": [
    {
     "output_type": "execute_result",
     "data": {
      "text/plain": [
       "2091946.8565116061"
      ]
     },
     "metadata": {},
     "execution_count": 24
    }
   ],
   "source": [
    "### If we check the actual mean value of the data, we get...\n",
    "np.mean(price_list)"
   ]
  },
  {
   "cell_type": "markdown",
   "metadata": {},
   "source": [
    "The mean price of houses from our dataset is **RM 2,091,946.85**. This is within our confidence interval. Thus, proving the theory."
   ]
  },
  {
   "cell_type": "markdown",
   "metadata": {},
   "source": [
    "### Exercise 1. \n",
    "- Find the confidence interval for a sample size (n) - 50000. What is the difference you see?\n",
    "- Find the confidence interval for a sample size (n) - 50. What is the difference you see?\n",
    "- Change the alpha value to 99%, what difference do you see?"
   ]
  },
  {
   "cell_type": "code",
   "execution_count": 38,
   "metadata": {},
   "outputs": [],
   "source": [
    "# sample size 50000\n",
    "sample_5k = random.sample(price_list, 50000)\n",
    "std_5k = np.std(sample_5k)\n",
    "n_5k = len(sample_5k)\n"
   ]
  },
  {
   "cell_type": "code",
   "execution_count": 39,
   "metadata": {},
   "outputs": [
    {
     "output_type": "execute_result",
     "data": {
      "text/plain": [
       "(1970549.7770693835, 2205321.1821706165)"
      ]
     },
     "metadata": {},
     "execution_count": 39
    }
   ],
   "source": [
    "se_5k = std_5k/(np.sqrt(n_5k))\n",
    "st.norm.interval(alpha=0.95, loc=np.mean(sample_5k), scale=se_5k)"
   ]
  },
  {
   "source": [
    "the lower and upper limit are too big."
   ],
   "cell_type": "markdown",
   "metadata": {}
  },
  {
   "cell_type": "code",
   "execution_count": 40,
   "metadata": {},
   "outputs": [
    {
     "output_type": "execute_result",
     "data": {
      "text/plain": [
       "(1144862.2330500414, 1872100.3669499587)"
      ]
     },
     "metadata": {},
     "execution_count": 40
    }
   ],
   "source": [
    "# sample size 50\n",
    "sample_50 = random.sample(price_list, 50)\n",
    "std_50 = np.std(sample_50)\n",
    "n_50 = len(sample_50)\n",
    "se_50 = std_50/(np.sqrt(n_50))\n",
    "st.norm.interval(alpha=0.95, loc=np.mean(sample_50), scale=se_50)"
   ]
  },
  {
   "source": [
    "The lower and upper limit are small. Miss the actual mean value."
   ],
   "cell_type": "markdown",
   "metadata": {}
  },
  {
   "source": [
    "Aplha value 99%"
   ],
   "cell_type": "markdown",
   "metadata": {}
  },
  {
   "cell_type": "code",
   "execution_count": 41,
   "metadata": {},
   "outputs": [
    {
     "output_type": "execute_result",
     "data": {
      "text/plain": [
       "(1933664.5160550706, 2242206.44318493)"
      ]
     },
     "metadata": {},
     "execution_count": 41
    }
   ],
   "source": [
    "# sample size 50000\n",
    "st.norm.interval(alpha=0.99, loc=np.mean(sample_5k), scale=se_5k)"
   ]
  },
  {
   "cell_type": "code",
   "execution_count": 42,
   "metadata": {},
   "outputs": [
    {
     "output_type": "execute_result",
     "data": {
      "text/plain": [
       "(1030604.8413677205, 1986357.7586322795)"
      ]
     },
     "metadata": {},
     "execution_count": 42
    }
   ],
   "source": [
    "# sample size 50\n",
    "st.norm.interval(alpha=0.99, loc=np.mean(sample_50), scale=se_50)"
   ]
  },
  {
   "cell_type": "markdown",
   "metadata": {},
   "source": [
    "### Aplication in Stocks (Maybe)\n",
    "- [Difference between confidence level and confidence interval value risk var](https://www.investopedia.com/ask/answers/041615/whats-difference-between-confidence-level-and-confidence-interval-value-risk-var.asp)"
   ]
  },
  {
   "cell_type": "markdown",
   "metadata": {},
   "source": [
    "### Videos Explaining Confidence Intervals\n",
    "- https://www.youtube.com/watch?v=tFWsuO9f74o\n",
    "- https://www.youtube.com/watch?v=s4SRdaTycaw"
   ]
  },
  {
   "cell_type": "markdown",
   "metadata": {},
   "source": [
    "### Refence\n",
    "- [Investopedia Confidence Interval](https://www.investopedia.com/terms/c/confidenceinterval.asp)"
   ]
  },
  {
   "cell_type": "code",
   "execution_count": null,
   "metadata": {},
   "outputs": [],
   "source": []
  }
 ],
 "metadata": {
  "kernelspec": {
   "display_name": "Python 3.7.5 64-bit",
   "language": "python",
   "name": "python37564bit78260c2933a848af8571fd98d2c806cf"
  },
  "language_info": {
   "codemirror_mode": {
    "name": "ipython",
    "version": 3
   },
   "file_extension": ".py",
   "mimetype": "text/x-python",
   "name": "python",
   "nbconvert_exporter": "python",
   "pygments_lexer": "ipython3",
   "version": "3.7.5-final"
  }
 },
 "nbformat": 4,
 "nbformat_minor": 4
}