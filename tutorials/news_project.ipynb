{
 "metadata": {
  "language_info": {
   "codemirror_mode": {
    "name": "ipython",
    "version": 3
   },
   "file_extension": ".py",
   "mimetype": "text/x-python",
   "name": "python",
   "nbconvert_exporter": "python",
   "pygments_lexer": "ipython3",
   "version": "3.7.5-final"
  },
  "orig_nbformat": 2,
  "kernelspec": {
   "name": "python37564bit78260c2933a848af8571fd98d2c806cf",
   "display_name": "Python 3.7.5 64-bit",
   "language": "python"
  }
 },
 "nbformat": 4,
 "nbformat_minor": 2,
 "cells": [
  {
   "cell_type": "code",
   "execution_count": 2,
   "metadata": {},
   "outputs": [],
   "source": [
    "# pymongo\n",
    "\n",
    "import pymongo\n",
    "from pymongo import MongoClient"
   ]
  },
  {
   "source": [
    "1. Create database\n",
    "\n",
    "\n",
    "        a. Create collection\n",
    "\n",
    "\n",
    "-----\n",
    "\n",
    "Database [ News Project ]\n",
    "        Collection [ New's Today]\n",
    "----"
   ],
   "cell_type": "markdown",
   "metadata": {}
  },
  {
   "cell_type": "code",
   "execution_count": 3,
   "metadata": {},
   "outputs": [],
   "source": [
    "# Create news's project Database\n",
    "\n",
    "myclient = pymongo.MongoClient(\"mongodb://localhost:27017/\")\n",
    "\n",
    "mydb = myclient[\"News_Project\"]"
   ]
  },
  {
   "cell_type": "code",
   "execution_count": 4,
   "metadata": {},
   "outputs": [],
   "source": [
    "# Create news collection , new's today\n",
    "\n",
    "collection = mydb.news_today\n"
   ]
  },
  {
   "source": [
    "## Scrapping TheEdge's news "
   ],
   "cell_type": "markdown",
   "metadata": {}
  },
  {
   "cell_type": "code",
   "execution_count": 5,
   "metadata": {},
   "outputs": [],
   "source": [
    "# import important libraries\n",
    "\n",
    "from selenium import webdriver\n",
    "from selenium.common.exceptions import *\n",
    "from selenium.webdriver.common.keys import Keys\n",
    "import time\n",
    "import pandas as pd \n",
    "from datetime import datetime\n",
    "from datetime import date\n",
    "\n",
    "\n",
    "# NLTK library\n",
    "import nltk\n",
    "from newspaper import Article\n",
    "#from nltk.stem import WordNetLemmatizer\n",
    "#from nltk.tokenize import word_tokenize\n",
    "#from nltk.stem import PorterStemmer \n",
    "#from nltk.tokenize import word_tokenize "
   ]
  },
  {
   "cell_type": "code",
   "execution_count": 8,
   "metadata": {},
   "outputs": [
    {
     "output_type": "stream",
     "name": "stdout",
     "text": [
      "https://www.theedgemarkets.com/categories/malaysia?page=0\n",
      "https://www.theedgemarkets.com/article/covid19-malaysia-records-1340-new-cases-four-new-deaths-and-three-new-clusters\n",
      "2020-12-20 19:50:00+08:00\n",
      "Today's news !\n",
      "{'Title': 'Covid-19: Malaysia records 1,340 new cases, four new deaths and three new clusters', 'Date': datetime.datetime(2020, 12, 20, 19, 50, tzinfo=tzoffset(None, 28800)), 'Date str': '20-Dec-2020 19:50'}\n",
      "https://www.theedgemarkets.com/article/10000-guests-drive-through-ku-nan-sons-wedding-reception\n",
      "2020-12-20 18:19:45+08:00\n",
      "Today's news !\n",
      "{'Title': \"10,000 guests drive through Ku Nan son's wedding reception\", 'Date': datetime.datetime(2020, 12, 20, 18, 19, 45, tzinfo=tzoffset(None, 28800)), 'Date str': '20-Dec-2020 18:19'}\n",
      "https://www.theedgemarkets.com/article/ku-nan-who-turns-70-today-know-graft-charge-verdict-tomorrow\n",
      "2020-12-20 15:49:57+08:00\n",
      "Today's news !\n",
      "{'Title': 'Ku Nan, who turns 70 today, to know graft charge verdict tomorrow', 'Date': datetime.datetime(2020, 12, 20, 15, 49, 57, tzinfo=tzoffset(None, 28800)), 'Date str': '20-Dec-2020 15:49'}\n",
      "https://www.theedgemarkets.com/article/bank-islam-named-malaysias-strongest-islamic-retail-bank\n",
      "2020-12-20 15:34:42+08:00\n",
      "Today's news !\n",
      "{'Title': \"Bank Islam named Malaysia's strongest Islamic retail bank\", 'Date': datetime.datetime(2020, 12, 20, 15, 34, 42, tzinfo=tzoffset(None, 28800)), 'Date str': '20-Dec-2020 15:34'}\n",
      "https://www.theedgemarkets.com/article/partial-closure-cheras-lhdn-branch-tomorrow-sanitisation\n",
      "2020-12-20 13:19:15+08:00\n",
      "Today's news !\n",
      "{'Title': 'Partial closure of Cheras LHDN branch from tomorrow for sanitisation', 'Date': datetime.datetime(2020, 12, 20, 13, 19, 15, tzinfo=tzoffset(None, 28800)), 'Date str': '20-Dec-2020 13:19'}\n",
      "https://www.theedgemarkets.com/article/sime-darby-plantation-places-paramount-importance-workers-welfare\n",
      "2020-12-19 20:32:04+08:00\n",
      "not today..\n",
      "2020-12-19 yesterday news\n",
      "End Loop\n"
     ]
    }
   ],
   "source": [
    "# list urls from main page \n",
    "\n",
    "list_url = []\n",
    "\n",
    "count = 0\n",
    "\n",
    "while True :\n",
    "\n",
    "    page = str(count)\n",
    "\n",
    "    url_main = 'https://www.theedgemarkets.com/categories/malaysia?page='+page\n",
    "    print(url_main)\n",
    "\n",
    "    count += 1\n",
    "\n",
    "\n",
    "    # use Selenium\n",
    "\n",
    "    options = webdriver.ChromeOptions()\n",
    "    options.add_argument('--headless') \n",
    "    options.add_argument('start-maximized') \n",
    "    options.add_argument('disable-infobars')\n",
    "    options.add_argument('--disable-extensions')\n",
    "    # Open the Chrome browser\n",
    "    browser = webdriver.Chrome( options=options)\n",
    "    browser.get(url_main)\n",
    "    time.sleep(3)\n",
    "\n",
    "    # get urls from main page\n",
    "\n",
    "    link_news = browser.find_elements_by_xpath('//*[@id=\"block-system-main\"]/div/div[2]/div/div/div/div/div/div/div/div[6]/div/span/a')\n",
    "\n",
    "    for element in link_news :\n",
    "\n",
    "        list_url.append(element.get_attribute('href'))\n",
    "        \n",
    "    \n",
    "    time.sleep(3)\n",
    "\n",
    "\n",
    "    # get title and date\n",
    "\n",
    "    for i in list_url :\n",
    "\n",
    "        print(i)\n",
    "        \n",
    "        time.sleep(3)\n",
    "        \n",
    "        url_nltk = i\n",
    "\n",
    "        article = Article(url_nltk, language=\"en\") \n",
    "        article.download() \n",
    "        article.parse() \n",
    "        article.nlp()\n",
    "\n",
    "\n",
    "        news_date_dt = article.publish_date\n",
    "        print(news_date_dt)\n",
    "        news_title = article.title\n",
    "\n",
    "        # check if news date is today\n",
    "\n",
    "        if news_date_dt.date() == date.today():\n",
    "\n",
    "            print (\"Today's news !\")\n",
    "\n",
    "            # readable date in str , iSaham format\n",
    "\n",
    "            date_str = str(news_date_dt.strftime('%d-%b-%Y %H:%M'))\n",
    "\n",
    "            # save title and date as dictionary\n",
    "\n",
    "            ''' Next step insert to pymongo '''\n",
    "\n",
    "\n",
    "            dict_to_pymongo = {\n",
    "\n",
    "                \"Title\": news_title ,\n",
    "                \"Date\" : news_date_dt,\n",
    "                \"Date str\" : date_str\n",
    "\n",
    "            }\n",
    "\n",
    "            print(dict_to_pymongo)\n",
    "\n",
    "            values_dict = collection.insert_one(dict_to_pymongo).inserted_id\n",
    "\n",
    "\n",
    "        \n",
    "        else:\n",
    "\n",
    "            print(\"not today..\")\n",
    "            print(news_date_dt.date(), \"yesterday news\")\n",
    "\n",
    "            break\n",
    "\n",
    "    #print (dict_to_pymongo)\n",
    "\n",
    "    print('End Loop')\n",
    "    break"
   ]
  },
  {
   "cell_type": "code",
   "execution_count": 9,
   "metadata": {},
   "outputs": [],
   "source": [
    "list_news_today = collection.find()\n"
   ]
  },
  {
   "cell_type": "code",
   "execution_count": 10,
   "metadata": {},
   "outputs": [
    {
     "output_type": "stream",
     "name": "stdout",
     "text": [
      "{'_id': ObjectId('5fdef79bdb1f07bc6b399063'), 'Title': \"Decision on RM2 million graft case will be Ku Nan's unforgettable 70th birthday gift\", 'Date': datetime.datetime(2020, 12, 20, 6, 26, 9), 'Date str': '20-Dec-2020 14:26'}\n{'_id': ObjectId('5fdef79edb1f07bc6b399064'), 'Title': 'Partial closure of Cheras LHDN branch from tomorrow for sanitisation', 'Date': datetime.datetime(2020, 12, 20, 5, 19, 15), 'Date str': '20-Dec-2020 13:19'}\n{'_id': ObjectId('5fdf701b2e653043e42fc993'), 'Title': 'Covid-19: Malaysia records 1,340 new cases, four new deaths and three new clusters', 'Date': datetime.datetime(2020, 12, 20, 11, 50), 'Date str': '20-Dec-2020 19:50'}\n{'_id': ObjectId('5fdf70222e653043e42fc994'), 'Title': \"10,000 guests drive through Ku Nan son's wedding reception\", 'Date': datetime.datetime(2020, 12, 20, 10, 19, 45), 'Date str': '20-Dec-2020 18:19'}\n{'_id': ObjectId('5fdf70262e653043e42fc995'), 'Title': 'Ku Nan, who turns 70 today, to know graft charge verdict tomorrow', 'Date': datetime.datetime(2020, 12, 20, 7, 49, 57), 'Date str': '20-Dec-2020 15:49'}\n{'_id': ObjectId('5fdf702a2e653043e42fc996'), 'Title': \"Bank Islam named Malaysia's strongest Islamic retail bank\", 'Date': datetime.datetime(2020, 12, 20, 7, 34, 42), 'Date str': '20-Dec-2020 15:34'}\n{'_id': ObjectId('5fdf70302e653043e42fc997'), 'Title': 'Partial closure of Cheras LHDN branch from tomorrow for sanitisation', 'Date': datetime.datetime(2020, 12, 20, 5, 19, 15), 'Date str': '20-Dec-2020 13:19'}\n"
     ]
    }
   ],
   "source": [
    "for i in list_news_today :\n",
    "\n",
    "    print(i)"
   ]
  },
  {
   "cell_type": "code",
   "execution_count": 19,
   "metadata": {},
   "outputs": [],
   "source": [
    "# create unique id , overlap issues\n",
    "\n",
    "# create new collection from [news project] database\n",
    "\n",
    "# cassign id , \"_id\"\n",
    "\n",
    "\n",
    "collection = mydb.news_today_with_id\n",
    "\n"
   ]
  },
  {
   "cell_type": "code",
   "execution_count": 20,
   "metadata": {},
   "outputs": [
    {
     "output_type": "stream",
     "name": "stdout",
     "text": [
      "https://www.theedgemarkets.com/categories/malaysia?page=0\n",
      "https://www.theedgemarkets.com/content/advertise/protect-your-business-digitally-covid19-side-effects\n",
      "2020-12-21 00:00:00+08:00\n",
      "Today's news !\n",
      "{'_id': datetime.datetime(2020, 12, 21, 0, 0, tzinfo=tzoffset(None, 28800)), 'Title': 'Protect your business digitally from Covid-19 side effects', 'Date': datetime.datetime(2020, 12, 21, 0, 0, tzinfo=tzoffset(None, 28800)), 'Date str': '21-Dec-2020 00:00'}\n",
      "https://www.theedgemarkets.com/article/covid19-malaysia-records-1340-new-cases-four-new-deaths-and-three-new-clusters\n",
      "2020-12-20 19:50:00+08:00\n",
      "not today..\n",
      "2020-12-20 yesterday news\n",
      "End Loop\n"
     ]
    }
   ],
   "source": [
    "# list urls from main page \n",
    "\n",
    "list_url = []\n",
    "\n",
    "count = 0\n",
    "\n",
    "while True :\n",
    "\n",
    "    page = str(count)\n",
    "\n",
    "    url_main = 'https://www.theedgemarkets.com/categories/malaysia?page='+page\n",
    "    print(url_main)\n",
    "\n",
    "    count += 1\n",
    "\n",
    "\n",
    "    # use Selenium\n",
    "\n",
    "    options = webdriver.ChromeOptions()\n",
    "    options.add_argument('--headless') \n",
    "    options.add_argument('start-maximized') \n",
    "    options.add_argument('disable-infobars')\n",
    "    options.add_argument('--disable-extensions')\n",
    "    # Open the Chrome browser\n",
    "    browser = webdriver.Chrome( options=options)\n",
    "    browser.get(url_main)\n",
    "    time.sleep(3)\n",
    "\n",
    "    # get urls from main page\n",
    "\n",
    "    link_news = browser.find_elements_by_xpath('//*[@id=\"block-system-main\"]/div/div[2]/div/div/div/div/div/div/div/div[6]/div/span/a')\n",
    "\n",
    "    for element in link_news :\n",
    "\n",
    "        list_url.append(element.get_attribute('href'))\n",
    "        \n",
    "    \n",
    "    time.sleep(3)\n",
    "\n",
    "\n",
    "    # get title and date\n",
    "\n",
    "    for i in list_url :\n",
    "\n",
    "        print(i)\n",
    "        \n",
    "        time.sleep(3)\n",
    "        \n",
    "        url_nltk = i\n",
    "\n",
    "        article = Article(url_nltk, language=\"en\") \n",
    "        article.download() \n",
    "        article.parse() \n",
    "        article.nlp()\n",
    "\n",
    "\n",
    "        news_date_dt = article.publish_date\n",
    "        print(news_date_dt)\n",
    "        news_title = article.title\n",
    "\n",
    "        # check if news date is today\n",
    "\n",
    "        if news_date_dt.date() == date.today():\n",
    "\n",
    "            print (\"Today's news !\")\n",
    "\n",
    "            # readable date in str , iSaham format\n",
    "\n",
    "            date_str = str(news_date_dt.strftime('%d-%b-%Y %H:%M'))\n",
    "\n",
    "            # save title and date as dictionary\n",
    "\n",
    "            ''' Next step insert to pymongo '''\n",
    "\n",
    "\n",
    "            dict_to_pymongo = {\n",
    "\n",
    "                \"_id\":news_date_dt,\n",
    "                \"Title\": news_title ,\n",
    "                \"Date\" : news_date_dt,\n",
    "                \"Date str\" : date_str\n",
    "\n",
    "            }\n",
    "\n",
    "            print(dict_to_pymongo)\n",
    "\n",
    "            values_dict = collection.insert_one(dict_to_pymongo).inserted_id\n",
    "\n",
    "\n",
    "        \n",
    "        else:\n",
    "\n",
    "            print(\"not today..\")\n",
    "            print(news_date_dt.date(), \"yesterday news\")\n",
    "\n",
    "            break\n",
    "\n",
    "    #print (dict_to_pymongo)\n",
    "\n",
    "    print('End Loop')\n",
    "    break"
   ]
  },
  {
   "cell_type": "code",
   "execution_count": 21,
   "metadata": {},
   "outputs": [],
   "source": [
    "list_news_today_id = collection.find()\n"
   ]
  },
  {
   "cell_type": "code",
   "execution_count": 22,
   "metadata": {},
   "outputs": [
    {
     "output_type": "stream",
     "name": "stdout",
     "text": [
      "{'_id': datetime.datetime(2020, 12, 20, 16, 0), 'Title': 'Protect your business digitally from Covid-19 side effects', 'Date': datetime.datetime(2020, 12, 20, 16, 0), 'Date str': '21-Dec-2020 00:00'}\n"
     ]
    }
   ],
   "source": [
    "# check , find the list of news\n",
    "\n",
    "for i in list_news_today_id:\n",
    "    print(i)"
   ]
  },
  {
   "cell_type": "code",
   "execution_count": 23,
   "metadata": {},
   "outputs": [
    {
     "output_type": "stream",
     "name": "stdout",
     "text": [
      "['news_today', 'news_today_with_id']\n"
     ]
    }
   ],
   "source": [
    "print(mydb.list_collection_names())\n"
   ]
  },
  {
   "cell_type": "code",
   "execution_count": 24,
   "metadata": {},
   "outputs": [
    {
     "output_type": "stream",
     "name": "stdout",
     "text": [
      "['News_Project', 'admin', 'config', 'local', 'test-database']\n"
     ]
    }
   ],
   "source": [
    "print(myclient.list_database_names())\n"
   ]
  },
  {
   "cell_type": "code",
   "execution_count": null,
   "metadata": {},
   "outputs": [],
   "source": []
  }
 ]
}