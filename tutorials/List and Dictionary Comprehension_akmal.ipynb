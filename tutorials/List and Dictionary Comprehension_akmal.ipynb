{
 "cells": [
  {
   "cell_type": "markdown",
   "metadata": {},
   "source": [
    "# List Comprehension \n",
    "- List comprehension is a method to modify elemets and place them in a list "
   ]
  },
  {
   "cell_type": "code",
   "execution_count": 1,
   "metadata": {},
   "outputs": [],
   "source": [
    "li1 = [5, 32,44, 211, 56, 81]"
   ]
  },
  {
   "cell_type": "markdown",
   "metadata": {},
   "source": [
    "From our previous knowledge, one way we can modify this list is by using a `for loop` and placing the new modified values in a new `list`"
   ]
  },
  {
   "cell_type": "code",
   "execution_count": 2,
   "metadata": {},
   "outputs": [],
   "source": [
    "\n",
    "l = []\n",
    "for i in li1:\n",
    "    l.append(i*3)\n",
    "\n",
    "        "
   ]
  },
  {
   "cell_type": "code",
   "execution_count": 3,
   "metadata": {},
   "outputs": [
    {
     "output_type": "execute_result",
     "data": {
      "text/plain": [
       "[15, 96, 132, 633, 168, 243]"
      ]
     },
     "metadata": {},
     "execution_count": 3
    }
   ],
   "source": [
    "l"
   ]
  },
  {
   "cell_type": "markdown",
   "metadata": {},
   "source": [
    "### Using `list comprehension` this process can be made shorter."
   ]
  },
  {
   "cell_type": "markdown",
   "metadata": {},
   "source": [
    "What we do basically with list comprehension is that we place the for loop in the list. This makes the code shorter and more compact"
   ]
  },
  {
   "cell_type": "code",
   "execution_count": 4,
   "metadata": {},
   "outputs": [
    {
     "output_type": "execute_result",
     "data": {
      "text/plain": [
       "[15, 96, 132, 633, 168, 243]"
      ]
     },
     "metadata": {},
     "execution_count": 4
    }
   ],
   "source": [
    "# using list comprehension: \n",
    "\n",
    "[i*3 for i in li1]"
   ]
  },
  {
   "cell_type": "markdown",
   "metadata": {},
   "source": [
    "### Exercise 1\n",
    "- make all the string in the list below to be lower case and save the new list as a new variable\n"
   ]
  },
  {
   "cell_type": "code",
   "execution_count": 5,
   "metadata": {},
   "outputs": [],
   "source": [
    "lx = ['Kuala Lumpur' , 'SELANGOR', 'Sabah' ,' Perlis', 'KELANTAN']"
   ]
  },
  {
   "cell_type": "code",
   "execution_count": 6,
   "metadata": {},
   "outputs": [
    {
     "output_type": "execute_result",
     "data": {
      "text/plain": [
       "['kuala lumpur', 'selangor', 'sabah', ' perlis', 'kelantan']"
      ]
     },
     "metadata": {},
     "execution_count": 6
    }
   ],
   "source": [
    "new_lx = []\n",
    "\n",
    "for i in lx :\n",
    "    new_lx.append(i.lower())\n",
    "\n",
    "new_lx\n"
   ]
  },
  {
   "cell_type": "code",
   "execution_count": 8,
   "metadata": {},
   "outputs": [
    {
     "output_type": "execute_result",
     "data": {
      "text/plain": [
       "['kuala lumpur', 'selangor', 'sabah', ' perlis', 'kelantan']"
      ]
     },
     "metadata": {},
     "execution_count": 8
    }
   ],
   "source": [
    "[i.lower() for i in lx ]"
   ]
  },
  {
   "cell_type": "markdown",
   "metadata": {},
   "source": [
    "# Dictionary Comprehension \n",
    "- Dictionary comprehension is similar to that of list comprehension, just that we are placing the values in a Dictionary"
   ]
  },
  {
   "cell_type": "code",
   "execution_count": 9,
   "metadata": {},
   "outputs": [],
   "source": [
    "l_sukan = ['Ping-Pong', 'Bola Sepak', 'Netball', 'Bola Baling']"
   ]
  },
  {
   "cell_type": "code",
   "execution_count": 10,
   "metadata": {},
   "outputs": [],
   "source": [
    "# Counting the length of each element in the string and placing it in a dictionary\n",
    "s_len={}\n",
    "for x in l_sukan:\n",
    "    \n",
    "    s_len[x] = len(x)"
   ]
  },
  {
   "cell_type": "code",
   "execution_count": 11,
   "metadata": {},
   "outputs": [
    {
     "output_type": "execute_result",
     "data": {
      "text/plain": [
       "{'Ping-Pong': 9, 'Bola Sepak': 10, 'Netball': 7, 'Bola Baling': 11}"
      ]
     },
     "metadata": {},
     "execution_count": 11
    }
   ],
   "source": [
    "s_len"
   ]
  },
  {
   "cell_type": "code",
   "execution_count": 12,
   "metadata": {},
   "outputs": [
    {
     "output_type": "execute_result",
     "data": {
      "text/plain": [
       "{'Ping-Pong': 9, 'Bola Sepak': 10, 'Netball': 7, 'Bola Baling': 11}"
      ]
     },
     "metadata": {},
     "execution_count": 12
    }
   ],
   "source": [
    "# using dictionary comprehension:\n",
    "\n",
    "{x:len(x) for x in l_sukan}"
   ]
  },
  {
   "cell_type": "markdown",
   "metadata": {},
   "source": [
    "### Exercise 2 \n",
    "- Make a dictionary of the numbers below as the key of the dictionary and it's multiple of 2 as its value pair"
   ]
  },
  {
   "cell_type": "code",
   "execution_count": 19,
   "metadata": {},
   "outputs": [],
   "source": [
    "no = [32, 84, 55, 90, 1]"
   ]
  },
  {
   "cell_type": "code",
   "execution_count": 20,
   "metadata": {},
   "outputs": [
    {
     "output_type": "execute_result",
     "data": {
      "text/plain": [
       "{32: 64, 84: 168, 55: 110, 90: 180, 1: 2}"
      ]
     },
     "metadata": {},
     "execution_count": 20
    }
   ],
   "source": [
    "{i:i*2 for i in no}"
   ]
  },
  {
   "cell_type": "code",
   "execution_count": 22,
   "metadata": {},
   "outputs": [
    {
     "output_type": "execute_result",
     "data": {
      "text/plain": [
       "{32: 64, 84: 168, 55: 110, 90: 180, 1: 2}"
      ]
     },
     "metadata": {},
     "execution_count": 22
    }
   ],
   "source": [
    "no_dict ={}\n",
    "\n",
    "for i in no:\n",
    "    no_dict[i] = i*2\n",
    "\n",
    "no_dict"
   ]
  },
  {
   "cell_type": "markdown",
   "metadata": {},
   "source": [
    "## Conditional Logic in List and Dictionary comprehension\n",
    "- An `if` else statement can also be added in the list and dictionary comprehension."
   ]
  },
  {
   "cell_type": "markdown",
   "metadata": {},
   "source": [
    "### Exercise 3 \n",
    "- Make a new list with only names which have only the names which have 3 or less letters."
   ]
  },
  {
   "cell_type": "code",
   "execution_count": 23,
   "metadata": {},
   "outputs": [],
   "source": [
    "word = ['sam', 'joseph', 'al', 'siti', 'tom']"
   ]
  },
  {
   "cell_type": "code",
   "execution_count": 24,
   "metadata": {},
   "outputs": [
    {
     "output_type": "stream",
     "name": "stdout",
     "text": [
      "['sam', 'al', 'tom']\n"
     ]
    }
   ],
   "source": [
    "new_list = []\n",
    "\n",
    "for i in word :\n",
    "\n",
    "    if len(i) <= 3:\n",
    "        new_list.append(i)\n",
    "\n",
    "print(new_list)"
   ]
  },
  {
   "cell_type": "code",
   "execution_count": 25,
   "metadata": {},
   "outputs": [
    {
     "output_type": "execute_result",
     "data": {
      "text/plain": [
       "['sam', 'al', 'tom']"
      ]
     },
     "metadata": {},
     "execution_count": 25
    }
   ],
   "source": [
    "[i for i in word if len(i) <= 3  ]"
   ]
  },
  {
   "cell_type": "markdown",
   "metadata": {},
   "source": [
    "### Exercise 4\n",
    "- Make a dictionary with the numbers as the key and the value pair as eithere 'speeding' if value is > 100 or 'not speeding' if value is < 100 . Based on the list below"
   ]
  },
  {
   "cell_type": "code",
   "execution_count": 26,
   "metadata": {},
   "outputs": [],
   "source": [
    "spd = [102 , 65 , 42, 150, 90]"
   ]
  },
  {
   "cell_type": "code",
   "execution_count": 27,
   "metadata": {},
   "outputs": [
    {
     "output_type": "stream",
     "name": "stdout",
     "text": [
      "{102: 'speeding', 65: 'not speeding', 42: 'not speeding', 150: 'speeding', 90: 'not speeding'}\n"
     ]
    }
   ],
   "source": [
    "new_dic = {}\n",
    "\n",
    "for i in spd :\n",
    "    if i > 100 :\n",
    "        new_dic[i] = \"speeding\"\n",
    "    \n",
    "    else :\n",
    "        new_dic[i] = \"not speeding\"\n",
    "\n",
    "print(new_dic)\n",
    "\n"
   ]
  },
  {
   "cell_type": "code",
   "execution_count": 28,
   "metadata": {},
   "outputs": [
    {
     "output_type": "execute_result",
     "data": {
      "text/plain": [
       "{102: 'speeding',\n",
       " 65: 'not speeding',\n",
       " 42: 'not speeding',\n",
       " 150: 'speeding',\n",
       " 90: 'not speeding'}"
      ]
     },
     "metadata": {},
     "execution_count": 28
    }
   ],
   "source": [
    "{i:\"speeding\" if i > 100 else \"not speeding\" for i in spd}"
   ]
  },
  {
   "cell_type": "code",
   "execution_count": null,
   "metadata": {},
   "outputs": [],
   "source": []
  },
  {
   "cell_type": "markdown",
   "metadata": {},
   "source": [
    "### Reference :"
   ]
  },
  {
   "cell_type": "markdown",
   "metadata": {},
   "source": [
    "[DataCamp Dictionary Comprehension Tutorial](https://www.datacamp.com/community/tutorials/python-dictionary-comprehension)"
   ]
  },
  {
   "cell_type": "code",
   "execution_count": null,
   "metadata": {},
   "outputs": [],
   "source": []
  }
 ],
 "metadata": {
  "kernelspec": {
   "display_name": "Python 3",
   "language": "python",
   "name": "python3"
  },
  "language_info": {
   "codemirror_mode": {
    "name": "ipython",
    "version": 3
   },
   "file_extension": ".py",
   "mimetype": "text/x-python",
   "name": "python",
   "nbconvert_exporter": "python",
   "pygments_lexer": "ipython3",
   "version": "3.7.5-final"
  }
 },
 "nbformat": 4,
 "nbformat_minor": 4
}