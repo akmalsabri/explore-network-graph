{
 "cells": [
  {
   "cell_type": "markdown",
   "metadata": {},
   "source": [
    "# Linear Regression"
   ]
  },
  {
   "cell_type": "markdown",
   "metadata": {},
   "source": [
    "![](./pics/linear_non_linear.png)"
   ]
  },
  {
   "cell_type": "markdown",
   "metadata": {},
   "source": [
    "**Linear Regression** is the process of creating an equation with coefficients to model the linear relationship that is present in the data "
   ]
  },
  {
   "cell_type": "markdown",
   "metadata": {},
   "source": [
    "### Examples of Linear Relationships in Real Life.\n",
    "#### Newtons Second Law  \n",
    " $F = ma$\n",
    "- From this relationship we know that the **Force (F)** will increase as the **Acceleration (a)** increases. This is while asuming that the **Mass (m)** is constant. \n",
    "- As there is only one variable which is changing, this will produce a straight line\n"
   ]
  },
  {
   "cell_type": "markdown",
   "metadata": {},
   "source": [
    "![](./pics/fma.gif)\n"
   ]
  },
  {
   "cell_type": "markdown",
   "metadata": {},
   "source": [
    "- This equation has produced a **model** between **Force** and **Acceleration**\n",
    "- We can now use this model to make **predictions** "
   ]
  },
  {
   "cell_type": "markdown",
   "metadata": {},
   "source": [
    "### Exercise 1 : \n",
    "- Using `F = ma` , predict the  `Force (F)` when the `Acceleration (a)` is `100`, given that the `Mass (m) ` is `50` ?"
   ]
  },
  {
   "cell_type": "code",
   "execution_count": 2,
   "metadata": {},
   "outputs": [
    {
     "output_type": "stream",
     "name": "stdout",
     "text": [
      "5000\n"
     ]
    }
   ],
   "source": [
    "F = 100*50\n",
    "print(F)"
   ]
  },
  {
   "cell_type": "markdown",
   "metadata": {},
   "source": [
    "### Regression Modelling "
   ]
  },
  {
   "cell_type": "markdown",
   "metadata": {},
   "source": [
    "Here, we are assuming that there is a **Linear Relationship** between 2 variables.  $X$ and $Y$\n",
    "$$\n",
    "X \\propto Y\n",
    "$$\n",
    "\n",
    "This will then produce a straight line equation, such as the one below :\n",
    "\n",
    "$$\n",
    "Y = m X + c\n",
    "$$\n",
    "\n",
    "$\n",
    "m = slope \n",
    "$\n",
    "\n",
    "$\n",
    "C = Y-intercept\n",
    "$\n",
    "\n",
    "** There are many alternative for $m$ & $C$ online. Most commonly $\\beta_0$ as $C$ and  $\\beta_1$ as $m$"
   ]
  },
  {
   "cell_type": "markdown",
   "metadata": {},
   "source": [
    "### Manual Linear Regression \n",
    "\n",
    "Steps: \n",
    "1. Plot the data. \n",
    "2. Make a straight line which fits most of the points \n",
    "3. Calcualte the $slope (m). (Y/X)$\n",
    "4. Obtain the $Y-intercept (C)$. \n"
   ]
  },
  {
   "cell_type": "markdown",
   "metadata": {},
   "source": [
    "### Example of Manual Linear Regression "
   ]
  },
  {
   "cell_type": "code",
   "execution_count": 1,
   "metadata": {},
   "outputs": [],
   "source": [
    "import numpy as np\n",
    "import pandas as pd\n",
    "\n",
    "import matplotlib.pyplot as plt\n",
    "import seaborn as sns\n",
    "sns.set(font_scale=1.5)\n",
    "\n",
    "%matplotlib inline\n",
    "%config InlineBackend.figure_format = 'retina'"
   ]
  },
  {
   "cell_type": "code",
   "execution_count": 2,
   "metadata": {},
   "outputs": [],
   "source": [
    "# Creating dummy data \n",
    "x = [2,3,5,7,9,1,6,6,0,-1,8.5]\n",
    "y = [2,5,7,9,11,2,7,9,1,0,10]\n"
   ]
  },
  {
   "cell_type": "code",
   "execution_count": 3,
   "metadata": {},
   "outputs": [
    {
     "output_type": "display_data",
     "data": {
      "text/plain": "<Figure size 432x288 with 1 Axes>",
      "image/png": "[encoded data removed]"
     },
     "metadata": {
      "image/png": {
       "width": 395,
       "height": 257
      },
      "needs_background": "light"
     }
    }
   ],
   "source": [
    "# plotting the points \n",
    "\n",
    "plt.scatter(x,y)\n",
    "plt.axhline(y=0, color='k')\n",
    "plt.axvline(x=0, color='k')\n",
    "plt.show()\n"
   ]
  },
  {
   "cell_type": "code",
   "execution_count": 4,
   "metadata": {},
   "outputs": [],
   "source": [
    "# function to get the slope from two points\n",
    "def getSlope(x1, y1, x2, y2):\n",
    "    slope = (y2-y1)/(x2-x1)\n",
    "    return slope\n",
    "\n"
   ]
  },
  {
   "cell_type": "code",
   "execution_count": 5,
   "metadata": {},
   "outputs": [],
   "source": [
    "# obotaining the slope from two points in the data \n",
    "# (0,1)  & (7,9)\n",
    "m = getSlope(0,1,7,9)\n"
   ]
  },
  {
   "cell_type": "code",
   "execution_count": 6,
   "metadata": {},
   "outputs": [
    {
     "output_type": "execute_result",
     "data": {
      "text/plain": [
       "1.1428571428571428"
      ]
     },
     "metadata": {},
     "execution_count": 6
    }
   ],
   "source": [
    "# The value of the slop\n",
    "\n",
    "m"
   ]
  },
  {
   "cell_type": "code",
   "execution_count": 7,
   "metadata": {},
   "outputs": [
    {
     "output_type": "execute_result",
     "data": {
      "text/plain": [
       "7.9799999999999995"
      ]
     },
     "metadata": {},
     "execution_count": 7
    }
   ],
   "source": [
    "1.14*7"
   ]
  },
  {
   "cell_type": "code",
   "execution_count": 8,
   "metadata": {},
   "outputs": [
    {
     "output_type": "execute_result",
     "data": {
      "text/plain": [
       "1.0"
      ]
     },
     "metadata": {},
     "execution_count": 8
    }
   ],
   "source": [
    "# obtaining C \n",
    "# y = m x + C \n",
    "# C = y -m X\n",
    "# using point (7,9)\n",
    "\n",
    "C= 9-m*7\n",
    "C"
   ]
  },
  {
   "cell_type": "raw",
   "metadata": {},
   "source": [
    "# Formula to obtain new values for y_h according to new line\n",
    "\n",
    "y_h = m*x+C"
   ]
  },
  {
   "cell_type": "code",
   "execution_count": 9,
   "metadata": {},
   "outputs": [],
   "source": [
    "# making new values of y by formula \n",
    "y_h= [(i * m)+C  for i in x]"
   ]
  },
  {
   "cell_type": "code",
   "execution_count": 10,
   "metadata": {},
   "outputs": [
    {
     "output_type": "display_data",
     "data": {
      "text/plain": "<Figure size 432x288 with 1 Axes>",
      "image/png": "[encoded data removed]"
     },
     "metadata": {
      "image/png": {
       "width": 395,
       "height": 257
      },
      "needs_background": "light"
     }
    }
   ],
   "source": [
    "\n",
    "plt.scatter(x,y)\n",
    "\n",
    "plt.axhline(y=0, color='k')\n",
    "plt.axvline(x=0, color='k')\n",
    "# Plotting line\n",
    "\n",
    "plt.plot(x,y_h)\n",
    "\n",
    "plt.show()"
   ]
  },
  {
   "cell_type": "markdown",
   "metadata": {},
   "source": [
    "### Exercise 2\n",
    "From the points below, obtain the `slope (m)` as well as the `Y-intercept` and draw a line with them "
   ]
  },
  {
   "cell_type": "code",
   "execution_count": 11,
   "metadata": {},
   "outputs": [],
   "source": [
    "x_1 = [4, 6, 10, 14, 18, 2, 12, 12, 0, -2, 17.0]\n",
    "\n",
    "y_1 = [14, 14, 10, 6, 1, 19, 8, 8, 20, 21, 2.5]\n",
    "\n"
   ]
  },
  {
   "cell_type": "code",
   "execution_count": 12,
   "metadata": {},
   "outputs": [
    {
     "output_type": "display_data",
     "data": {
      "text/plain": "<Figure size 432x288 with 1 Axes>",
      "image/png": "[encoded data removed]"
     },
     "metadata": {
      "image/png": {
       "width": 379,
       "height": 257
      },
      "needs_background": "light"
     }
    }
   ],
   "source": [
    "\n",
    "plt.scatter(x_1,y_1)\n",
    "\n",
    "plt.axhline(y=0, color='k')\n",
    "plt.axvline(x=0, color='k')\n",
    "# Plotting line\n",
    "\n",
    "\n",
    "\n",
    "plt.show()"
   ]
  },
  {
   "cell_type": "code",
   "execution_count": 13,
   "metadata": {},
   "outputs": [
    {
     "output_type": "execute_result",
     "data": {
      "text/plain": [
       "-1.0"
      ]
     },
     "metadata": {},
     "execution_count": 13
    }
   ],
   "source": [
    "# (0,1)  & (7,9)\n",
    "m_1 = getSlope(6,14,12,8)\n",
    "m_1"
   ]
  },
  {
   "cell_type": "code",
   "execution_count": 14,
   "metadata": {},
   "outputs": [],
   "source": [
    "\n",
    "\n",
    "C_1= 1-m_1*18"
   ]
  },
  {
   "cell_type": "code",
   "execution_count": 15,
   "metadata": {},
   "outputs": [
    {
     "output_type": "execute_result",
     "data": {
      "text/plain": [
       "[15.0, 13.0, 9.0, 5.0, 1.0, 17.0, 7.0, 7.0, 19.0, 21.0, 2.0]"
      ]
     },
     "metadata": {},
     "execution_count": 15
    }
   ],
   "source": [
    "y_h_1= [(i * m_1)+C_1  for i in x_1]\n",
    "y_h_1"
   ]
  },
  {
   "cell_type": "code",
   "execution_count": 16,
   "metadata": {},
   "outputs": [
    {
     "output_type": "display_data",
     "data": {
      "text/plain": "<Figure size 432x288 with 1 Axes>",
      "image/png": "[encoded data removed]"
     },
     "metadata": {
      "image/png": {
       "width": 379,
       "height": 257
      },
      "needs_background": "light"
     }
    }
   ],
   "source": [
    "plt.scatter(x_1,y_1)\n",
    "\n",
    "plt.axhline(y=0, color='k')\n",
    "plt.axvline(x=0, color='k')\n",
    "# Plotting line\n",
    "\n",
    "plt.plot(x_1,y_h_1)\n",
    "\n",
    "plt.show()"
   ]
  },
  {
   "cell_type": "markdown",
   "metadata": {},
   "source": [
    "# Scikit-Learn (sklearn)"
   ]
  },
  {
   "cell_type": "markdown",
   "metadata": {},
   "source": [
    "Scikit-learn is an open source library which is frequently used for machine learning. We can import the algorithms and produce models. These models can than be used for predictions. "
   ]
  },
  {
   "cell_type": "code",
   "execution_count": 17,
   "metadata": {},
   "outputs": [],
   "source": [
    "# importing function from scikit learn library\n",
    "from sklearn.linear_model import LinearRegression\n"
   ]
  },
  {
   "cell_type": "code",
   "execution_count": 18,
   "metadata": {},
   "outputs": [],
   "source": [
    "# Placing data in a dataframe \n",
    "df = pd.DataFrame({'x':x,'y':y})"
   ]
  },
  {
   "cell_type": "code",
   "execution_count": 19,
   "metadata": {},
   "outputs": [
    {
     "output_type": "execute_result",
     "data": {
      "text/plain": [
       "      x   y\n",
       "0   2.0   2\n",
       "1   3.0   5\n",
       "2   5.0   7\n",
       "3   7.0   9\n",
       "4   9.0  11\n",
       "5   1.0   2\n",
       "6   6.0   7\n",
       "7   6.0   9\n",
       "8   0.0   1\n",
       "9  -1.0   0\n",
       "10  8.5  10"
      ],
      "text/html": "<div>\n<style scoped>\n    .dataframe tbody tr th:only-of-type {\n        vertical-align: middle;\n    }\n\n    .dataframe tbody tr th {\n        vertical-align: top;\n    }\n\n    .dataframe thead th {\n        text-align: right;\n    }\n</style>\n<table border=\"1\" class=\"dataframe\">\n  <thead>\n    <tr style=\"text-align: right;\">\n      <th></th>\n      <th>x</th>\n      <th>y</th>\n    </tr>\n  </thead>\n  <tbody>\n    <tr>\n      <th>0</th>\n      <td>2.0</td>\n      <td>2</td>\n    </tr>\n    <tr>\n      <th>1</th>\n      <td>3.0</td>\n      <td>5</td>\n    </tr>\n    <tr>\n      <th>2</th>\n      <td>5.0</td>\n      <td>7</td>\n    </tr>\n    <tr>\n      <th>3</th>\n      <td>7.0</td>\n      <td>9</td>\n    </tr>\n    <tr>\n      <th>4</th>\n      <td>9.0</td>\n      <td>11</td>\n    </tr>\n    <tr>\n      <th>5</th>\n      <td>1.0</td>\n      <td>2</td>\n    </tr>\n    <tr>\n      <th>6</th>\n      <td>6.0</td>\n      <td>7</td>\n    </tr>\n    <tr>\n      <th>7</th>\n      <td>6.0</td>\n      <td>9</td>\n    </tr>\n    <tr>\n      <th>8</th>\n      <td>0.0</td>\n      <td>1</td>\n    </tr>\n    <tr>\n      <th>9</th>\n      <td>-1.0</td>\n      <td>0</td>\n    </tr>\n    <tr>\n      <th>10</th>\n      <td>8.5</td>\n      <td>10</td>\n    </tr>\n  </tbody>\n</table>\n</div>"
     },
     "metadata": {},
     "execution_count": 19
    }
   ],
   "source": [
    "df"
   ]
  },
  {
   "cell_type": "markdown",
   "metadata": {},
   "source": [
    "### Defining x & Y\n",
    "- If the data is coming from a pandas DataFrame, the data for `X` cannot be in a `series` format.It has to be in a `DataFrame` format.\n",
    "- The data for `y` on the other hand, has to be in a `series` format."
   ]
  },
  {
   "cell_type": "code",
   "execution_count": 20,
   "metadata": {},
   "outputs": [],
   "source": [
    "X = df[['x']]\n",
    "y = df['y']"
   ]
  },
  {
   "cell_type": "code",
   "execution_count": 21,
   "metadata": {},
   "outputs": [
    {
     "output_type": "stream",
     "name": "stdout",
     "text": [
      "<class 'pandas.core.series.Series'>\n<class 'pandas.core.frame.DataFrame'>\n"
     ]
    }
   ],
   "source": [
    "print(type(df['x']))\n",
    "print(type(df[['x']]))"
   ]
  },
  {
   "cell_type": "code",
   "execution_count": 22,
   "metadata": {},
   "outputs": [],
   "source": [
    "# define the algorithm function\n",
    "lr = LinearRegression()"
   ]
  },
  {
   "cell_type": "code",
   "execution_count": 23,
   "metadata": {},
   "outputs": [],
   "source": [
    "# fit or train the function with your data, to produce the model\n",
    "model = lr.fit(X, y)\n"
   ]
  },
  {
   "cell_type": "code",
   "execution_count": 24,
   "metadata": {},
   "outputs": [
    {
     "output_type": "stream",
     "name": "stdout",
     "text": [
      "intercept: 0.9611819235225942\nslope: [1.12746234]\n"
     ]
    }
   ],
   "source": [
    "## View the intercept and slope from the data\n",
    "\n",
    "print('intercept:', model.intercept_)\n",
    "\n",
    "print('slope:', model.coef_)"
   ]
  },
  {
   "cell_type": "code",
   "execution_count": 25,
   "metadata": {},
   "outputs": [
    {
     "output_type": "execute_result",
     "data": {
      "text/plain": [
       "array([23.51042874])"
      ]
     },
     "metadata": {},
     "execution_count": 25
    }
   ],
   "source": [
    "# Us the model to make predictions \n",
    "\n",
    "prediction = model.predict([[20]])\n",
    "prediction"
   ]
  },
  {
   "cell_type": "code",
   "execution_count": 26,
   "metadata": {},
   "outputs": [
    {
     "output_type": "execute_result",
     "data": {
      "text/plain": [
       "array([ 3.2161066 ,  4.34356895,  6.59849363,  8.85341831, 11.10834299,\n",
       "        2.08864426,  7.72595597,  7.72595597,  0.96118192, -0.16628042,\n",
       "       10.54461182])"
      ]
     },
     "metadata": {},
     "execution_count": 26
    }
   ],
   "source": [
    "# predict y values with the x values\n",
    "model.predict(df[['x']])"
   ]
  },
  {
   "cell_type": "code",
   "execution_count": 27,
   "metadata": {},
   "outputs": [
    {
     "output_type": "execute_result",
     "data": {
      "text/plain": [
       "[<matplotlib.lines.Line2D at 0x7fcc8cf21890>]"
      ]
     },
     "metadata": {},
     "execution_count": 27
    },
    {
     "output_type": "display_data",
     "data": {
      "text/plain": "<Figure size 432x288 with 1 Axes>",
      "image/png": "[encoded data removed]"
     },
     "metadata": {
      "image/png": {
       "width": 395,
       "height": 257
      },
      "needs_background": "light"
     }
    }
   ],
   "source": [
    "\n",
    "## plotting the values \n",
    "plt.scatter(df[['x']],df[['y']])\n",
    "\n",
    "\n",
    "## Plotting the old line we guessed. \n",
    "plt.plot(x,y_h, color = 'red')\n",
    "\n",
    "## Plotting  the a new line with the predicted values.\n",
    "plt.plot(df[['x']], model.predict(df[['x']]), color='blue', linewidth=1)"
   ]
  },
  {
   "cell_type": "code",
   "execution_count": 30,
   "metadata": {},
   "outputs": [],
   "source": [
    "from sklearn.metrics import mean_squared_error\n",
    "\n"
   ]
  },
  {
   "cell_type": "code",
   "execution_count": 31,
   "metadata": {},
   "outputs": [],
   "source": [
    "y_predict = model.predict(df[['x']])\n"
   ]
  },
  {
   "cell_type": "code",
   "execution_count": 32,
   "metadata": {},
   "outputs": [
    {
     "output_type": "execute_result",
     "data": {
      "text/plain": [
       "0.4170968081744444"
      ]
     },
     "metadata": {},
     "execution_count": 32
    }
   ],
   "source": [
    "mean_squared_error(y,y_predict)"
   ]
  },
  {
   "cell_type": "code",
   "execution_count": 33,
   "metadata": {},
   "outputs": [
    {
     "output_type": "execute_result",
     "data": {
      "text/plain": [
       "0.6458303246011636"
      ]
     },
     "metadata": {},
     "execution_count": 33
    }
   ],
   "source": [
    "mean_squared_error(y,y_predict, squared= False)"
   ]
  },
  {
   "cell_type": "markdown",
   "metadata": {},
   "source": [
    "### Exercise 2 \n",
    "- Use machine learning to obtain the intercept and slope for the values below \n",
    "- Use model.predict to obtain new values of y. \n",
    "- Plot the new line of the model"
   ]
  },
  {
   "cell_type": "code",
   "execution_count": 46,
   "metadata": {},
   "outputs": [],
   "source": [
    "x_1 = [4, 6, 10, 14, 18, 2, 12, 12, 0, -2, 17.0]\n",
    "\n",
    "y_1 = [14, 14, 10, 6, 1, 19, 8, 8, 20, 21, 2.5]\n",
    "\n",
    "df_1 = pd.DataFrame({'x':x_1,'y':y_1})\n",
    "\n",
    "X = df_1[['x']]\n",
    "y = df_1['y']"
   ]
  },
  {
   "cell_type": "code",
   "execution_count": 47,
   "metadata": {},
   "outputs": [],
   "source": [
    "model_baru = lr.fit(X,y)"
   ]
  },
  {
   "cell_type": "code",
   "execution_count": 48,
   "metadata": {},
   "outputs": [
    {
     "output_type": "stream",
     "name": "stdout",
     "text": [
      "intercept: 19.6981460023175\nslope: [-1.00193125]\n"
     ]
    }
   ],
   "source": [
    "print('intercept:', model_baru.intercept_)\n",
    "\n",
    "print('slope:', model_baru.coef_)"
   ]
  },
  {
   "cell_type": "code",
   "execution_count": 50,
   "metadata": {},
   "outputs": [
    {
     "output_type": "execute_result",
     "data": {
      "text/plain": [
       "[<matplotlib.lines.Line2D at 0x7f2a2b3efc90>]"
      ]
     },
     "metadata": {},
     "execution_count": 50
    },
    {
     "output_type": "display_data",
     "data": {
      "text/plain": "<Figure size 432x288 with 1 Axes>",
      "image/png": "[encoded data removed]"
     },
     "metadata": {
      "image/png": {
       "width": 379,
       "height": 257
      },
      "needs_background": "light"
     }
    }
   ],
   "source": [
    "## plotting the values \n",
    "plt.scatter(df_1[['x']],df_1[['y']])\n",
    "\n",
    "\n",
    "## Plotting the old line we guessed. \n",
    "plt.plot(x_1,y_h_1, color = 'red')\n",
    "\n",
    "## Plotting  the a new line with the predicted values.\n",
    "plt.plot(df_1[['x']], model_baru.predict(df_1[['x']]), color='blue', linewidth=1)"
   ]
  },
  {
   "cell_type": "code",
   "execution_count": null,
   "metadata": {},
   "outputs": [],
   "source": []
  },
  {
   "cell_type": "code",
   "execution_count": null,
   "metadata": {},
   "outputs": [],
   "source": []
  },
  {
   "cell_type": "code",
   "execution_count": null,
   "metadata": {},
   "outputs": [],
   "source": []
  },
  {
   "cell_type": "code",
   "execution_count": null,
   "metadata": {},
   "outputs": [],
   "source": []
  },
  {
   "cell_type": "code",
   "execution_count": null,
   "metadata": {},
   "outputs": [],
   "source": []
  },
  {
   "cell_type": "markdown",
   "metadata": {},
   "source": [
    "#### References \n",
    "\n",
    "- [An Introduction to Linear Regression Analysis (video)](https://www.youtube.com/watch?v=zPG4NjIkCjc&ab_channel=statisticsfun)\n",
    "- [Linear Regression in python](https://realpython.com/linear-regression-in-python/#:~:text=When%20implementing%20linear%20regression%20of,equation%20is%20the%20regression%20equation.)"
   ]
  },
  {
   "cell_type": "code",
   "execution_count": null,
   "metadata": {},
   "outputs": [],
   "source": []
  }
 ],
 "metadata": {
  "kernelspec": {
   "display_name": "Python 3.7.5 64-bit",
   "language": "python",
   "name": "python37564bit78260c2933a848af8571fd98d2c806cf"
  },
  "language_info": {
   "codemirror_mode": {
    "name": "ipython",
    "version": 3
   },
   "file_extension": ".py",
   "mimetype": "text/x-python",
   "name": "python",
   "nbconvert_exporter": "python",
   "pygments_lexer": "ipython3",
   "version": "3.7.5-final"
  }
 },
 "nbformat": 4,
 "nbformat_minor": 4
}