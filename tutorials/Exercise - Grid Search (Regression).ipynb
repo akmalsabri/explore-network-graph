{
 "cells": [
  {
   "cell_type": "markdown",
   "metadata": {},
   "source": [
    "# Exercise - Grid Search (Regression) \n",
    "- Answer the questions"
   ]
  },
  {
   "cell_type": "code",
   "execution_count": 1,
   "metadata": {},
   "outputs": [],
   "source": [
    "# loading libraries\n",
    "from sklearn.datasets import load_boston\n",
    "import pandas as pd \n",
    "import numpy as np\n",
    "from sklearn.preprocessing import StandardScaler\n",
    "from sklearn.linear_model import Ridge, Lasso, ElasticNet, LinearRegression\n",
    "from sklearn.model_selection import train_test_split"
   ]
  },
  {
   "cell_type": "code",
   "execution_count": 2,
   "metadata": {},
   "outputs": [],
   "source": [
    "# loading boston dataset from sklearn\n",
    "data = load_boston()\n",
    "df = pd.DataFrame(data.data, columns=data.feature_names)"
   ]
  },
  {
   "cell_type": "code",
   "execution_count": 3,
   "metadata": {},
   "outputs": [],
   "source": [
    "df['target'] = data.target"
   ]
  },
  {
   "cell_type": "code",
   "execution_count": 4,
   "metadata": {},
   "outputs": [
    {
     "output_type": "stream",
     "name": "stdout",
     "text": [
      "<class 'pandas.core.frame.DataFrame'>\nRangeIndex: 506 entries, 0 to 505\nData columns (total 14 columns):\n #   Column   Non-Null Count  Dtype  \n---  ------   --------------  -----  \n 0   CRIM     506 non-null    float64\n 1   ZN       506 non-null    float64\n 2   INDUS    506 non-null    float64\n 3   CHAS     506 non-null    float64\n 4   NOX      506 non-null    float64\n 5   RM       506 non-null    float64\n 6   AGE      506 non-null    float64\n 7   DIS      506 non-null    float64\n 8   RAD      506 non-null    float64\n 9   TAX      506 non-null    float64\n 10  PTRATIO  506 non-null    float64\n 11  B        506 non-null    float64\n 12  LSTAT    506 non-null    float64\n 13  target   506 non-null    float64\ndtypes: float64(14)\nmemory usage: 55.5 KB\n"
     ]
    }
   ],
   "source": [
    "df.info()"
   ]
  },
  {
   "cell_type": "markdown",
   "metadata": {},
   "source": [
    "### Standardization of variables\n",
    "- The variables involved in making the machine learning model needs to be **standardized** as the regularization methods will not work best if the variables are of different magnitudes. "
   ]
  },
  {
   "cell_type": "code",
   "execution_count": 5,
   "metadata": {},
   "outputs": [],
   "source": [
    "# Defining the variables for the machine learning model\n",
    "X = df.drop(['target'], axis = 1)\n",
    "y = df['target']"
   ]
  },
  {
   "cell_type": "code",
   "execution_count": 6,
   "metadata": {},
   "outputs": [],
   "source": [
    "# train test split\n",
    "X_train, X_test, y_train, y_test = train_test_split(X, y, test_size=.2, shuffle=True)"
   ]
  },
  {
   "cell_type": "code",
   "execution_count": 7,
   "metadata": {},
   "outputs": [],
   "source": [
    "# fitting data onto the test data\n",
    "ss = StandardScaler()\n",
    "Xs_train = ss.fit_transform(X_train)"
   ]
  },
  {
   "cell_type": "code",
   "execution_count": 8,
   "metadata": {},
   "outputs": [],
   "source": [
    "Xs_test = ss.transform(X_test)"
   ]
  },
  {
   "cell_type": "markdown",
   "metadata": {},
   "source": [
    "## Run Grid Search  on Elastic Net \n",
    "- Use Grid Search\n",
    "- Use at least 10 values of `alpha`\n",
    "- Use at least 10 values of `l1_ratio`\n",
    "- Use scoring `mean_squared_error` & `r2`\n",
    "- What are the best hyperpareters?"
   ]
  },
  {
   "cell_type": "code",
   "execution_count": 29,
   "metadata": {},
   "outputs": [],
   "source": [
    "from sklearn.metrics import accuracy_score\n",
    "from sklearn.linear_model import Ridge, Lasso, ElasticNet, LinearRegression\n",
    "from sklearn.model_selection import GridSearchCV\n",
    "\n"
   ]
  },
  {
   "cell_type": "code",
   "execution_count": 59,
   "metadata": {},
   "outputs": [
    {
     "output_type": "execute_result",
     "data": {
      "text/plain": [
       "ElasticNet(alpha=1.0, copy_X=True, fit_intercept=True, l1_ratio=0.5,\n",
       "           max_iter=1000, normalize=False, positive=False, precompute=False,\n",
       "           random_state=0, selection='cyclic', tol=0.0001, warm_start=False)"
      ]
     },
     "metadata": {},
     "execution_count": 59
    }
   ],
   "source": [
    "regr_elas = ElasticNet(random_state=0)\n",
    "regr_elas.fit(Xs_train,y_train)"
   ]
  },
  {
   "cell_type": "code",
   "execution_count": 81,
   "metadata": {},
   "outputs": [],
   "source": [
    "pred_train = regr_elas.predict(Xs_train)\n",
    "#acc = accuracy_score(y_train, pred_train)\n",
    "#print('accuracy', acc)"
   ]
  },
  {
   "cell_type": "code",
   "execution_count": 32,
   "metadata": {},
   "outputs": [],
   "source": [
    "\n",
    "param_grid_elas = {\n",
    "    'alpha' : [1,2, 3, 4, 5,6,7,8,18,20],\n",
    "    'l1_ratio' : [ 1,3, 5, 7, 9,12,13,14,18,20],\n",
    "       \n",
    "}"
   ]
  },
  {
   "cell_type": "code",
   "execution_count": 33,
   "metadata": {},
   "outputs": [],
   "source": [
    "\n",
    "scoring_param = ['r2']\n",
    "\n",
    "gs_elas = GridSearchCV(regr_elas, \n",
    "                  param_grid_elas, \n",
    "                  cv=5,\n",
    "                  scoring=scoring_param,\n",
    "                  refit='r2'\n",
    "                  )"
   ]
  },
  {
   "cell_type": "code",
   "execution_count": 34,
   "metadata": {},
   "outputs": [
    {
     "output_type": "execute_result",
     "data": {
      "text/plain": [
       "GridSearchCV(cv=5, error_score=nan,\n",
       "             estimator=ElasticNet(alpha=1.0, copy_X=True, fit_intercept=True,\n",
       "                                  l1_ratio=0.5, max_iter=1000, normalize=False,\n",
       "                                  positive=False, precompute=False,\n",
       "                                  random_state=0, selection='cyclic',\n",
       "                                  tol=0.0001, warm_start=False),\n",
       "             iid='deprecated', n_jobs=None,\n",
       "             param_grid={'alpha': [1, 2, 3, 4, 5, 6, 7, 8, 18, 20],\n",
       "                         'l1_ratio': [1, 3, 5, 7, 9, 12, 13, 14, 18, 20]},\n",
       "             pre_dispatch='2*n_jobs', refit='r2', return_train_score=False,\n",
       "             scoring=['r2'], verbose=0)"
      ]
     },
     "metadata": {},
     "execution_count": 34
    }
   ],
   "source": [
    "gs_elas.fit(Xs_train, y_train)\n"
   ]
  },
  {
   "cell_type": "code",
   "execution_count": 36,
   "metadata": {},
   "outputs": [
    {
     "output_type": "execute_result",
     "data": {
      "text/plain": [
       "ElasticNet(alpha=1, copy_X=True, fit_intercept=True, l1_ratio=1, max_iter=1000,\n",
       "           normalize=False, positive=False, precompute=False, random_state=0,\n",
       "           selection='cyclic', tol=0.0001, warm_start=False)"
      ]
     },
     "metadata": {},
     "execution_count": 36
    }
   ],
   "source": [
    "gs_elas.best_estimator_\n"
   ]
  },
  {
   "cell_type": "code",
   "execution_count": 37,
   "metadata": {},
   "outputs": [
    {
     "output_type": "execute_result",
     "data": {
      "text/plain": [
       "{'alpha': 1, 'l1_ratio': 1}"
      ]
     },
     "metadata": {},
     "execution_count": 37
    }
   ],
   "source": [
    "gs_elas.best_params_\n"
   ]
  },
  {
   "cell_type": "code",
   "execution_count": 38,
   "metadata": {},
   "outputs": [
    {
     "output_type": "execute_result",
     "data": {
      "text/plain": [
       "0.6794562142087717"
      ]
     },
     "metadata": {},
     "execution_count": 38
    }
   ],
   "source": [
    "gs_elas.score(Xs_test, y_test)\n"
   ]
  },
  {
   "cell_type": "code",
   "execution_count": 45,
   "metadata": {},
   "outputs": [],
   "source": [
    "# mean square error\n",
    "scoring_param = ['neg_mean_squared_error']\n"
   ]
  },
  {
   "cell_type": "code",
   "execution_count": 46,
   "metadata": {},
   "outputs": [],
   "source": [
    "gs_elas_1 = GridSearchCV(regr_elas, \n",
    "                  param_grid_elas, \n",
    "                  cv=5,\n",
    "                  scoring=scoring_param,\n",
    "                  refit='neg_mean_squared_error'\n",
    "                  )"
   ]
  },
  {
   "cell_type": "code",
   "execution_count": 47,
   "metadata": {},
   "outputs": [
    {
     "output_type": "execute_result",
     "data": {
      "text/plain": [
       "GridSearchCV(cv=5, error_score=nan,\n",
       "             estimator=ElasticNet(alpha=1.0, copy_X=True, fit_intercept=True,\n",
       "                                  l1_ratio=0.5, max_iter=1000, normalize=False,\n",
       "                                  positive=False, precompute=False,\n",
       "                                  random_state=0, selection='cyclic',\n",
       "                                  tol=0.0001, warm_start=False),\n",
       "             iid='deprecated', n_jobs=None,\n",
       "             param_grid={'alpha': [1, 2, 3, 4, 5, 6, 7, 8, 18, 20],\n",
       "                         'l1_ratio': [1, 3, 5, 7, 9, 12, 13, 14, 18, 20]},\n",
       "             pre_dispatch='2*n_jobs', refit='neg_mean_squared_error',\n",
       "             return_train_score=False, scoring=['neg_mean_squared_error'],\n",
       "             verbose=0)"
      ]
     },
     "metadata": {},
     "execution_count": 47
    }
   ],
   "source": [
    "gs_elas_1.fit(Xs_train, y_train)\n"
   ]
  },
  {
   "cell_type": "code",
   "execution_count": 48,
   "metadata": {},
   "outputs": [
    {
     "output_type": "execute_result",
     "data": {
      "text/plain": [
       "ElasticNet(alpha=1, copy_X=True, fit_intercept=True, l1_ratio=1, max_iter=1000,\n",
       "           normalize=False, positive=False, precompute=False, random_state=0,\n",
       "           selection='cyclic', tol=0.0001, warm_start=False)"
      ]
     },
     "metadata": {},
     "execution_count": 48
    }
   ],
   "source": [
    "gs_elas_1.best_estimator_\n"
   ]
  },
  {
   "cell_type": "code",
   "execution_count": 49,
   "metadata": {},
   "outputs": [
    {
     "output_type": "execute_result",
     "data": {
      "text/plain": [
       "{'alpha': 1, 'l1_ratio': 1}"
      ]
     },
     "metadata": {},
     "execution_count": 49
    }
   ],
   "source": [
    "gs_elas_1.best_params_\n"
   ]
  },
  {
   "cell_type": "code",
   "execution_count": 50,
   "metadata": {},
   "outputs": [
    {
     "output_type": "execute_result",
     "data": {
      "text/plain": [
       "-31.94470109061735"
      ]
     },
     "metadata": {},
     "execution_count": 50
    }
   ],
   "source": [
    "gs_elas_1.score(Xs_test, y_test)\n"
   ]
  },
  {
   "cell_type": "code",
   "execution_count": null,
   "metadata": {},
   "outputs": [],
   "source": []
  },
  {
   "cell_type": "markdown",
   "metadata": {},
   "source": [
    "## Run Grid Search  on KNeighborsRegressor \n",
    "- Use Grid Search\n",
    "- Use at least `5` different `n_neighbours` \n",
    "- use weights `distance` and `uniform`\n",
    "- use metrics `manhattan`, `euclidean`\n",
    "- Use scoring `mean_squared_error` & `r2`\n",
    "- What are the best hyperpareters?"
   ]
  },
  {
   "cell_type": "code",
   "execution_count": 66,
   "metadata": {},
   "outputs": [],
   "source": [
    "from sklearn.neighbors import KNeighborsRegressor\n"
   ]
  },
  {
   "cell_type": "code",
   "execution_count": 67,
   "metadata": {},
   "outputs": [],
   "source": [
    "classifier = KNeighborsRegressor()\n",
    "#classifier.fit(Xs_train, y_train)\n",
    "#regr_elas.fit(Xs_train,y_train)"
   ]
  },
  {
   "cell_type": "code",
   "execution_count": 68,
   "metadata": {},
   "outputs": [],
   "source": [
    "param_grid_knn = {\n",
    "    'n_neighbors' : [3, 5, 7, 9,12,13,14,18,20],\n",
    "    'weights' : [ 'distance','uniform'],\n",
    "    'metric' : ['manhattan', 'euclidean']   \n",
    "}"
   ]
  },
  {
   "cell_type": "code",
   "execution_count": 69,
   "metadata": {},
   "outputs": [],
   "source": [
    "scoring_param = ['r2']\n",
    "\n",
    "\n",
    "gs_knn = GridSearchCV(classifier, \n",
    "                  param_grid_knn, \n",
    "                  cv=5,\n",
    "                  scoring=scoring_param,\n",
    "                  refit='r2'\n",
    "                  )"
   ]
  },
  {
   "cell_type": "code",
   "execution_count": 70,
   "metadata": {},
   "outputs": [
    {
     "output_type": "execute_result",
     "data": {
      "text/plain": [
       "GridSearchCV(cv=5, error_score=nan,\n",
       "             estimator=KNeighborsRegressor(algorithm='auto', leaf_size=30,\n",
       "                                           metric='minkowski',\n",
       "                                           metric_params=None, n_jobs=None,\n",
       "                                           n_neighbors=5, p=2,\n",
       "                                           weights='uniform'),\n",
       "             iid='deprecated', n_jobs=None,\n",
       "             param_grid={'metric': ['manhattan', 'euclidean'],\n",
       "                         'n_neighbors': [3, 5, 7, 9, 12, 13, 14, 18, 20],\n",
       "                         'weights': ['distance', 'uniform']},\n",
       "             pre_dispatch='2*n_jobs', refit='r2', return_train_score=False,\n",
       "             scoring=['r2'], verbose=0)"
      ]
     },
     "metadata": {},
     "execution_count": 70
    }
   ],
   "source": [
    "gs_knn.fit(Xs_train, y_train)\n"
   ]
  },
  {
   "cell_type": "code",
   "execution_count": 71,
   "metadata": {},
   "outputs": [
    {
     "output_type": "execute_result",
     "data": {
      "text/plain": [
       "KNeighborsRegressor(algorithm='auto', leaf_size=30, metric='manhattan',\n",
       "                    metric_params=None, n_jobs=None, n_neighbors=3, p=2,\n",
       "                    weights='distance')"
      ]
     },
     "metadata": {},
     "execution_count": 71
    }
   ],
   "source": [
    "gs_knn.best_estimator_\n"
   ]
  },
  {
   "cell_type": "code",
   "execution_count": 72,
   "metadata": {},
   "outputs": [
    {
     "output_type": "execute_result",
     "data": {
      "text/plain": [
       "{'metric': 'manhattan', 'n_neighbors': 3, 'weights': 'distance'}"
      ]
     },
     "metadata": {},
     "execution_count": 72
    }
   ],
   "source": [
    "gs_knn.best_params_\n"
   ]
  },
  {
   "cell_type": "code",
   "execution_count": 73,
   "metadata": {},
   "outputs": [
    {
     "output_type": "execute_result",
     "data": {
      "text/plain": [
       "0.8948253642078148"
      ]
     },
     "metadata": {},
     "execution_count": 73
    }
   ],
   "source": [
    "gs_knn.score(Xs_test, y_test)\n"
   ]
  },
  {
   "cell_type": "code",
   "execution_count": 76,
   "metadata": {},
   "outputs": [],
   "source": [
    "# means square\n",
    "scoring_param = ['neg_mean_squared_error']\n",
    "\n",
    "\n",
    "gs_knn_1 = GridSearchCV(classifier, \n",
    "                  param_grid_knn, \n",
    "                  cv=5,\n",
    "                  scoring=scoring_param,\n",
    "                  refit='neg_mean_squared_error'\n",
    "                  )"
   ]
  },
  {
   "cell_type": "code",
   "execution_count": 77,
   "metadata": {},
   "outputs": [
    {
     "output_type": "execute_result",
     "data": {
      "text/plain": [
       "GridSearchCV(cv=5, error_score=nan,\n",
       "             estimator=KNeighborsRegressor(algorithm='auto', leaf_size=30,\n",
       "                                           metric='minkowski',\n",
       "                                           metric_params=None, n_jobs=None,\n",
       "                                           n_neighbors=5, p=2,\n",
       "                                           weights='uniform'),\n",
       "             iid='deprecated', n_jobs=None,\n",
       "             param_grid={'metric': ['manhattan', 'euclidean'],\n",
       "                         'n_neighbors': [3, 5, 7, 9, 12, 13, 14, 18, 20],\n",
       "                         'weights': ['distance', 'uniform']},\n",
       "             pre_dispatch='2*n_jobs', refit='neg_mean_squared_error',\n",
       "             return_train_score=False, scoring=['neg_mean_squared_error'],\n",
       "             verbose=0)"
      ]
     },
     "metadata": {},
     "execution_count": 77
    }
   ],
   "source": [
    "gs_knn_1.fit(Xs_train, y_train)\n"
   ]
  },
  {
   "cell_type": "code",
   "execution_count": 78,
   "metadata": {},
   "outputs": [
    {
     "output_type": "execute_result",
     "data": {
      "text/plain": [
       "KNeighborsRegressor(algorithm='auto', leaf_size=30, metric='manhattan',\n",
       "                    metric_params=None, n_jobs=None, n_neighbors=3, p=2,\n",
       "                    weights='distance')"
      ]
     },
     "metadata": {},
     "execution_count": 78
    }
   ],
   "source": [
    "gs_knn_1.best_estimator_\n"
   ]
  },
  {
   "cell_type": "code",
   "execution_count": 79,
   "metadata": {},
   "outputs": [
    {
     "output_type": "execute_result",
     "data": {
      "text/plain": [
       "{'metric': 'manhattan', 'n_neighbors': 3, 'weights': 'distance'}"
      ]
     },
     "metadata": {},
     "execution_count": 79
    }
   ],
   "source": [
    "gs_knn_1.best_params_\n"
   ]
  },
  {
   "cell_type": "code",
   "execution_count": 80,
   "metadata": {},
   "outputs": [
    {
     "output_type": "execute_result",
     "data": {
      "text/plain": [
       "-10.481476951433207"
      ]
     },
     "metadata": {},
     "execution_count": 80
    }
   ],
   "source": [
    "gs_knn_1.score(Xs_test, y_test)\n"
   ]
  },
  {
   "cell_type": "code",
   "execution_count": null,
   "metadata": {},
   "outputs": [],
   "source": []
  }
 ],
 "metadata": {
  "kernelspec": {
   "display_name": "Python 3.7.5 64-bit",
   "language": "python",
   "name": "python37564bit78260c2933a848af8571fd98d2c806cf"
  },
  "language_info": {
   "codemirror_mode": {
    "name": "ipython",
    "version": 3
   },
   "file_extension": ".py",
   "mimetype": "text/x-python",
   "name": "python",
   "nbconvert_exporter": "python",
   "pygments_lexer": "ipython3",
   "version": "3.7.5-final"
  }
 },
 "nbformat": 4,
 "nbformat_minor": 4
}