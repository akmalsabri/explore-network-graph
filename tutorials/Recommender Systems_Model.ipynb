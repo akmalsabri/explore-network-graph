{
 "cells": [
  {
   "cell_type": "markdown",
   "metadata": {},
   "source": [
    "# Model-Based Collaborative Filtering"
   ]
  },
  {
   "cell_type": "markdown",
   "metadata": {},
   "source": [
    "**Model-Based Collaborative Filtering** is when we use the data that we have to make a model. We will then use this model to make a recomendataion  \n",
    "- http://www.cs.carleton.edu/cs_comps/0607/recommend/recommender/modelbased.html"
   ]
  },
  {
   "cell_type": "code",
   "execution_count": 28,
   "metadata": {},
   "outputs": [
    {
     "output_type": "execute_result",
     "data": {
      "text/plain": [
       "   userId  movieId  rating\n",
       "0       0       50       5\n",
       "1       0      172       5\n",
       "2       0      133       1\n",
       "3     196      242       3\n",
       "4     186      302       3"
      ],
      "text/html": "<div>\n<style scoped>\n    .dataframe tbody tr th:only-of-type {\n        vertical-align: middle;\n    }\n\n    .dataframe tbody tr th {\n        vertical-align: top;\n    }\n\n    .dataframe thead th {\n        text-align: right;\n    }\n</style>\n<table border=\"1\" class=\"dataframe\">\n  <thead>\n    <tr style=\"text-align: right;\">\n      <th></th>\n      <th>userId</th>\n      <th>movieId</th>\n      <th>rating</th>\n    </tr>\n  </thead>\n  <tbody>\n    <tr>\n      <th>0</th>\n      <td>0</td>\n      <td>50</td>\n      <td>5</td>\n    </tr>\n    <tr>\n      <th>1</th>\n      <td>0</td>\n      <td>172</td>\n      <td>5</td>\n    </tr>\n    <tr>\n      <th>2</th>\n      <td>0</td>\n      <td>133</td>\n      <td>1</td>\n    </tr>\n    <tr>\n      <th>3</th>\n      <td>196</td>\n      <td>242</td>\n      <td>3</td>\n    </tr>\n    <tr>\n      <th>4</th>\n      <td>186</td>\n      <td>302</td>\n      <td>3</td>\n    </tr>\n  </tbody>\n</table>\n</div>"
     },
     "metadata": {},
     "execution_count": 28
    }
   ],
   "source": [
    "# import pandas library \n",
    "import pandas as pd \n",
    "  \n",
    "# Get the data \n",
    "column_names = ['userId', 'movieId', 'rating', 'timestamp'] \n",
    "  \n",
    "path = 'https://media.geeksforgeeks.org/wp-content/uploads/file.tsv'\n",
    "  \n",
    "df_ratings = pd.read_csv(path, sep='\\t', names=column_names) \n",
    "  \n",
    "# Check the head of the data \n",
    "df_ratings = df_ratings[['userId', 'movieId', 'rating']] \n",
    "df_ratings.head()"
   ]
  },
  {
   "cell_type": "code",
   "execution_count": 29,
   "metadata": {},
   "outputs": [],
   "source": [
    "# Check out all the movies and their respective IDs \n",
    "df_movies = pd.read_csv('https://media.geeksforgeeks.org/wp-content/uploads/Movie_Id_Titles.csv') \n"
   ]
  },
  {
   "cell_type": "code",
   "execution_count": 30,
   "metadata": {},
   "outputs": [
    {
     "output_type": "execute_result",
     "data": {
      "text/plain": [
       "   movieId              title\n",
       "0        1   Toy Story (1995)\n",
       "1        2   GoldenEye (1995)\n",
       "2        3  Four Rooms (1995)\n",
       "3        4  Get Shorty (1995)\n",
       "4        5     Copycat (1995)"
      ],
      "text/html": "<div>\n<style scoped>\n    .dataframe tbody tr th:only-of-type {\n        vertical-align: middle;\n    }\n\n    .dataframe tbody tr th {\n        vertical-align: top;\n    }\n\n    .dataframe thead th {\n        text-align: right;\n    }\n</style>\n<table border=\"1\" class=\"dataframe\">\n  <thead>\n    <tr style=\"text-align: right;\">\n      <th></th>\n      <th>movieId</th>\n      <th>title</th>\n    </tr>\n  </thead>\n  <tbody>\n    <tr>\n      <th>0</th>\n      <td>1</td>\n      <td>Toy Story (1995)</td>\n    </tr>\n    <tr>\n      <th>1</th>\n      <td>2</td>\n      <td>GoldenEye (1995)</td>\n    </tr>\n    <tr>\n      <th>2</th>\n      <td>3</td>\n      <td>Four Rooms (1995)</td>\n    </tr>\n    <tr>\n      <th>3</th>\n      <td>4</td>\n      <td>Get Shorty (1995)</td>\n    </tr>\n    <tr>\n      <th>4</th>\n      <td>5</td>\n      <td>Copycat (1995)</td>\n    </tr>\n  </tbody>\n</table>\n</div>"
     },
     "metadata": {},
     "execution_count": 30
    }
   ],
   "source": [
    "df_movies.columns = ['movieId','title']\n",
    "df_movies.head()"
   ]
  },
  {
   "cell_type": "markdown",
   "metadata": {},
   "source": [
    "### Code Reference \n",
    "- https://github.com/nikitaa30/Recommender-Systems/blob/master/knn_recommender.ipynb"
   ]
  },
  {
   "cell_type": "markdown",
   "metadata": {},
   "source": [
    "# Exercise 1 \n",
    "- Make a model based recommender system by using the reference code above\n",
    "- Make a prediction for the movie `Toy Story`"
   ]
  },
  {
   "cell_type": "code",
   "execution_count": 31,
   "metadata": {},
   "outputs": [
    {
     "output_type": "execute_result",
     "data": {
      "text/plain": [
       "(1682, 2)"
      ]
     },
     "metadata": {},
     "execution_count": 31
    }
   ],
   "source": [
    "\n",
    "df_movies.head()\n",
    "df_movies.shape"
   ]
  },
  {
   "cell_type": "code",
   "execution_count": 32,
   "metadata": {},
   "outputs": [],
   "source": [
    "from scipy.sparse import csr_matrix\n",
    "# pivot ratings into movie features\n",
    "df_movie_features = df_ratings.pivot(\n",
    "    index='movieId',\n",
    "    columns='userId',\n",
    "    values='rating'\n",
    ").fillna(0)"
   ]
  },
  {
   "cell_type": "code",
   "execution_count": 33,
   "metadata": {},
   "outputs": [],
   "source": [
    "mat_movie_features = csr_matrix(df_movie_features.values)\n"
   ]
  },
  {
   "cell_type": "code",
   "execution_count": 34,
   "metadata": {},
   "outputs": [
    {
     "output_type": "execute_result",
     "data": {
      "text/plain": [
       "userId   0    1    2    3    4    5    6    7    8    9    ...  934  935  936  \\\n",
       "movieId                                                    ...                  \n",
       "1        0.0  5.0  4.0  0.0  0.0  4.0  4.0  0.0  0.0  0.0  ...  2.0  3.0  4.0   \n",
       "2        0.0  3.0  0.0  0.0  0.0  3.0  0.0  0.0  0.0  0.0  ...  4.0  0.0  0.0   \n",
       "3        0.0  4.0  0.0  0.0  0.0  0.0  0.0  0.0  0.0  0.0  ...  0.0  0.0  4.0   \n",
       "4        0.0  3.0  0.0  0.0  0.0  0.0  0.0  5.0  0.0  0.0  ...  5.0  0.0  0.0   \n",
       "5        0.0  3.0  0.0  0.0  0.0  0.0  0.0  0.0  0.0  0.0  ...  0.0  0.0  0.0   \n",
       "\n",
       "userId   937  938  939  940  941  942  943  \n",
       "movieId                                     \n",
       "1        0.0  4.0  0.0  0.0  5.0  0.0  0.0  \n",
       "2        0.0  0.0  0.0  0.0  0.0  0.0  5.0  \n",
       "3        0.0  0.0  0.0  0.0  0.0  0.0  0.0  \n",
       "4        0.0  0.0  0.0  2.0  0.0  0.0  0.0  \n",
       "5        0.0  0.0  0.0  0.0  0.0  0.0  0.0  \n",
       "\n",
       "[5 rows x 944 columns]"
      ],
      "text/html": "<div>\n<style scoped>\n    .dataframe tbody tr th:only-of-type {\n        vertical-align: middle;\n    }\n\n    .dataframe tbody tr th {\n        vertical-align: top;\n    }\n\n    .dataframe thead th {\n        text-align: right;\n    }\n</style>\n<table border=\"1\" class=\"dataframe\">\n  <thead>\n    <tr style=\"text-align: right;\">\n      <th>userId</th>\n      <th>0</th>\n      <th>1</th>\n      <th>2</th>\n      <th>3</th>\n      <th>4</th>\n      <th>5</th>\n      <th>6</th>\n      <th>7</th>\n      <th>8</th>\n      <th>9</th>\n      <th>...</th>\n      <th>934</th>\n      <th>935</th>\n      <th>936</th>\n      <th>937</th>\n      <th>938</th>\n      <th>939</th>\n      <th>940</th>\n      <th>941</th>\n      <th>942</th>\n      <th>943</th>\n    </tr>\n    <tr>\n      <th>movieId</th>\n      <th></th>\n      <th></th>\n      <th></th>\n      <th></th>\n      <th></th>\n      <th></th>\n      <th></th>\n      <th></th>\n      <th></th>\n      <th></th>\n      <th></th>\n      <th></th>\n      <th></th>\n      <th></th>\n      <th></th>\n      <th></th>\n      <th></th>\n      <th></th>\n      <th></th>\n      <th></th>\n      <th></th>\n    </tr>\n  </thead>\n  <tbody>\n    <tr>\n      <th>1</th>\n      <td>0.0</td>\n      <td>5.0</td>\n      <td>4.0</td>\n      <td>0.0</td>\n      <td>0.0</td>\n      <td>4.0</td>\n      <td>4.0</td>\n      <td>0.0</td>\n      <td>0.0</td>\n      <td>0.0</td>\n      <td>...</td>\n      <td>2.0</td>\n      <td>3.0</td>\n      <td>4.0</td>\n      <td>0.0</td>\n      <td>4.0</td>\n      <td>0.0</td>\n      <td>0.0</td>\n      <td>5.0</td>\n      <td>0.0</td>\n      <td>0.0</td>\n    </tr>\n    <tr>\n      <th>2</th>\n      <td>0.0</td>\n      <td>3.0</td>\n      <td>0.0</td>\n      <td>0.0</td>\n      <td>0.0</td>\n      <td>3.0</td>\n      <td>0.0</td>\n      <td>0.0</td>\n      <td>0.0</td>\n      <td>0.0</td>\n      <td>...</td>\n      <td>4.0</td>\n      <td>0.0</td>\n      <td>0.0</td>\n      <td>0.0</td>\n      <td>0.0</td>\n      <td>0.0</td>\n      <td>0.0</td>\n      <td>0.0</td>\n      <td>0.0</td>\n      <td>5.0</td>\n    </tr>\n    <tr>\n      <th>3</th>\n      <td>0.0</td>\n      <td>4.0</td>\n      <td>0.0</td>\n      <td>0.0</td>\n      <td>0.0</td>\n      <td>0.0</td>\n      <td>0.0</td>\n      <td>0.0</td>\n      <td>0.0</td>\n      <td>0.0</td>\n      <td>...</td>\n      <td>0.0</td>\n      <td>0.0</td>\n      <td>4.0</td>\n      <td>0.0</td>\n      <td>0.0</td>\n      <td>0.0</td>\n      <td>0.0</td>\n      <td>0.0</td>\n      <td>0.0</td>\n      <td>0.0</td>\n    </tr>\n    <tr>\n      <th>4</th>\n      <td>0.0</td>\n      <td>3.0</td>\n      <td>0.0</td>\n      <td>0.0</td>\n      <td>0.0</td>\n      <td>0.0</td>\n      <td>0.0</td>\n      <td>5.0</td>\n      <td>0.0</td>\n      <td>0.0</td>\n      <td>...</td>\n      <td>5.0</td>\n      <td>0.0</td>\n      <td>0.0</td>\n      <td>0.0</td>\n      <td>0.0</td>\n      <td>0.0</td>\n      <td>2.0</td>\n      <td>0.0</td>\n      <td>0.0</td>\n      <td>0.0</td>\n    </tr>\n    <tr>\n      <th>5</th>\n      <td>0.0</td>\n      <td>3.0</td>\n      <td>0.0</td>\n      <td>0.0</td>\n      <td>0.0</td>\n      <td>0.0</td>\n      <td>0.0</td>\n      <td>0.0</td>\n      <td>0.0</td>\n      <td>0.0</td>\n      <td>...</td>\n      <td>0.0</td>\n      <td>0.0</td>\n      <td>0.0</td>\n      <td>0.0</td>\n      <td>0.0</td>\n      <td>0.0</td>\n      <td>0.0</td>\n      <td>0.0</td>\n      <td>0.0</td>\n      <td>0.0</td>\n    </tr>\n  </tbody>\n</table>\n<p>5 rows × 944 columns</p>\n</div>"
     },
     "metadata": {},
     "execution_count": 34
    }
   ],
   "source": [
    "df_movie_features.head()\n"
   ]
  },
  {
   "cell_type": "code",
   "execution_count": 35,
   "metadata": {},
   "outputs": [],
   "source": [
    "from sklearn.neighbors import NearestNeighbors\n",
    "model_knn = NearestNeighbors(metric='cosine', algorithm='brute', n_neighbors=20, n_jobs=-1)\n"
   ]
  },
  {
   "cell_type": "code",
   "execution_count": 36,
   "metadata": {},
   "outputs": [
    {
     "output_type": "stream",
     "name": "stdout",
     "text": [
      "There are 944 unique users and 1682 unique movies in this data set\n"
     ]
    }
   ],
   "source": [
    "num_users = len(df_ratings.userId.unique())\n",
    "num_items = len(df_ratings.movieId.unique())\n",
    "print('There are {} unique users and {} unique movies in this data set'.format(num_users, num_items))"
   ]
  },
  {
   "cell_type": "code",
   "execution_count": 37,
   "metadata": {},
   "outputs": [
    {
     "output_type": "execute_result",
     "data": {
      "text/plain": [
       "        count\n",
       "rating       \n",
       "1        6111\n",
       "2       11370\n",
       "3       27145\n",
       "4       34174\n",
       "5       21203"
      ],
      "text/html": "<div>\n<style scoped>\n    .dataframe tbody tr th:only-of-type {\n        vertical-align: middle;\n    }\n\n    .dataframe tbody tr th {\n        vertical-align: top;\n    }\n\n    .dataframe thead th {\n        text-align: right;\n    }\n</style>\n<table border=\"1\" class=\"dataframe\">\n  <thead>\n    <tr style=\"text-align: right;\">\n      <th></th>\n      <th>count</th>\n    </tr>\n    <tr>\n      <th>rating</th>\n      <th></th>\n    </tr>\n  </thead>\n  <tbody>\n    <tr>\n      <th>1</th>\n      <td>6111</td>\n    </tr>\n    <tr>\n      <th>2</th>\n      <td>11370</td>\n    </tr>\n    <tr>\n      <th>3</th>\n      <td>27145</td>\n    </tr>\n    <tr>\n      <th>4</th>\n      <td>34174</td>\n    </tr>\n    <tr>\n      <th>5</th>\n      <td>21203</td>\n    </tr>\n  </tbody>\n</table>\n</div>"
     },
     "metadata": {},
     "execution_count": 37
    }
   ],
   "source": [
    "# get count\n",
    "df_ratings_cnt_tmp = pd.DataFrame(df_ratings.groupby('rating').size(), columns=['count'])\n",
    "df_ratings_cnt_tmp"
   ]
  },
  {
   "cell_type": "code",
   "execution_count": 38,
   "metadata": {},
   "outputs": [
    {
     "output_type": "execute_result",
     "data": {
      "text/plain": [
       "       count\n",
       "0.0  1487805\n",
       "1.0     6111\n",
       "2.0    11370\n",
       "3.0    27145\n",
       "4.0    34174\n",
       "5.0    21203"
      ],
      "text/html": "<div>\n<style scoped>\n    .dataframe tbody tr th:only-of-type {\n        vertical-align: middle;\n    }\n\n    .dataframe tbody tr th {\n        vertical-align: top;\n    }\n\n    .dataframe thead th {\n        text-align: right;\n    }\n</style>\n<table border=\"1\" class=\"dataframe\">\n  <thead>\n    <tr style=\"text-align: right;\">\n      <th></th>\n      <th>count</th>\n    </tr>\n  </thead>\n  <tbody>\n    <tr>\n      <th>0.0</th>\n      <td>1487805</td>\n    </tr>\n    <tr>\n      <th>1.0</th>\n      <td>6111</td>\n    </tr>\n    <tr>\n      <th>2.0</th>\n      <td>11370</td>\n    </tr>\n    <tr>\n      <th>3.0</th>\n      <td>27145</td>\n    </tr>\n    <tr>\n      <th>4.0</th>\n      <td>34174</td>\n    </tr>\n    <tr>\n      <th>5.0</th>\n      <td>21203</td>\n    </tr>\n  </tbody>\n</table>\n</div>"
     },
     "metadata": {},
     "execution_count": 38
    }
   ],
   "source": [
    "# there are a lot more counts in rating of zero\n",
    "total_cnt = num_users * num_items\n",
    "rating_zero_cnt = total_cnt - df_ratings.shape[0]\n",
    "\n",
    "df_ratings_cnt = df_ratings_cnt_tmp.append(\n",
    "    pd.DataFrame({'count': rating_zero_cnt}, index=[0.0]),\n",
    "    verify_integrity=True,\n",
    ").sort_index()\n",
    "df_ratings_cnt"
   ]
  },
  {
   "cell_type": "code",
   "execution_count": 39,
   "metadata": {},
   "outputs": [
    {
     "output_type": "execute_result",
     "data": {
      "text/plain": [
       "       count  log_count\n",
       "0.0  1487805  14.212812\n",
       "1.0     6111   8.717846\n",
       "2.0    11370   9.338734\n",
       "3.0    27145  10.208948\n",
       "4.0    34174  10.439220\n",
       "5.0    21203   9.961898"
      ],
      "text/html": "<div>\n<style scoped>\n    .dataframe tbody tr th:only-of-type {\n        vertical-align: middle;\n    }\n\n    .dataframe tbody tr th {\n        vertical-align: top;\n    }\n\n    .dataframe thead th {\n        text-align: right;\n    }\n</style>\n<table border=\"1\" class=\"dataframe\">\n  <thead>\n    <tr style=\"text-align: right;\">\n      <th></th>\n      <th>count</th>\n      <th>log_count</th>\n    </tr>\n  </thead>\n  <tbody>\n    <tr>\n      <th>0.0</th>\n      <td>1487805</td>\n      <td>14.212812</td>\n    </tr>\n    <tr>\n      <th>1.0</th>\n      <td>6111</td>\n      <td>8.717846</td>\n    </tr>\n    <tr>\n      <th>2.0</th>\n      <td>11370</td>\n      <td>9.338734</td>\n    </tr>\n    <tr>\n      <th>3.0</th>\n      <td>27145</td>\n      <td>10.208948</td>\n    </tr>\n    <tr>\n      <th>4.0</th>\n      <td>34174</td>\n      <td>10.439220</td>\n    </tr>\n    <tr>\n      <th>5.0</th>\n      <td>21203</td>\n      <td>9.961898</td>\n    </tr>\n  </tbody>\n</table>\n</div>"
     },
     "metadata": {},
     "execution_count": 39
    }
   ],
   "source": [
    "#log normalise to make it easier to interpret on a graph\n",
    "import numpy as np\n",
    "df_ratings_cnt['log_count'] = np.log(df_ratings_cnt['count'])\n",
    "df_ratings_cnt"
   ]
  },
  {
   "cell_type": "code",
   "execution_count": 40,
   "metadata": {},
   "outputs": [
    {
     "output_type": "execute_result",
     "data": {
      "text/plain": [
       "Text(0, 0.5, 'number of ratings')"
      ]
     },
     "metadata": {},
     "execution_count": 40
    },
    {
     "output_type": "display_data",
     "data": {
      "text/plain": "<Figure size 864x576 with 1 Axes>",
      "image/svg+xml": "<?xml version=\"1.0\" encoding=\"utf-8\" standalone=\"no\"?>\n<!DOCTYPE svg PUBLIC \"-//W3C//DTD SVG 1.1//EN\"\n  \"http://www.w3.org/Graphics/SVG/1.1/DTD/svg11.dtd\">\n<!-- Created with matplotlib (https://matplotlib.org/) -->\n<svg height=\"507.91925pt\" version=\"1.1\" viewBox=\"0 0 727.73375 507.91925\" width=\"727.73375pt\" xmlns=\"http://www.w3.org/2000/svg\" xmlns:xlink=\"http://www.w3.org/1999/xlink\">\n <defs>\n  <style type=\"text/css\">\n*{stroke-linecap:butt;stroke-linejoin:round;}\n  </style>\n </defs>\n <g id=\"figure_1\">\n  <g id=\"patch_1\">\n   <path d=\"M 0 507.91925 \nL 727.73375 507.91925 \nL 727.73375 0 \nL 0 0 \nz\n\" style=\"fill:none;\"/>\n  </g>\n  <g id=\"axes_1\">\n   <g id=\"patch_2\">\n    <path d=\"M 50.93375 459.02175 \nL 720.53375 459.02175 \nL 720.53375 24.14175 \nL 50.93375 24.14175 \nz\n\" style=\"fill:#e5e5e5;\"/>\n   </g>\n   <g id=\"matplotlib.axis_1\">\n    <g id=\"xtick_1\">\n     <g id=\"line2d_1\">\n      <path clip-path=\"url(#p88c5111a7e)\" d=\"M 106.73375 459.02175 \nL 106.73375 24.14175 \n\" style=\"fill:none;stroke:#ffffff;stroke-linecap:square;stroke-width:0.8;\"/>\n     </g>\n     <g id=\"line2d_2\">\n      <defs>\n       <path d=\"M 0 0 \nL 0 3.5 \n\" id=\"mc5f5e7e1b3\" style=\"stroke:#555555;stroke-width:0.8;\"/>\n      </defs>\n      <g>\n       <use style=\"fill:#555555;stroke:#555555;stroke-width:0.8;\" x=\"106.73375\" xlink:href=\"#mc5f5e7e1b3\" y=\"459.02175\"/>\n      </g>\n     </g>\n     <g id=\"text_1\">\n      <!-- 0.0 -->\n      <defs>\n       <path d=\"M 31.78125 66.40625 \nQ 24.171875 66.40625 20.328125 58.90625 \nQ 16.5 51.421875 16.5 36.375 \nQ 16.5 21.390625 20.328125 13.890625 \nQ 24.171875 6.390625 31.78125 6.390625 \nQ 39.453125 6.390625 43.28125 13.890625 \nQ 47.125 21.390625 47.125 36.375 \nQ 47.125 51.421875 43.28125 58.90625 \nQ 39.453125 66.40625 31.78125 66.40625 \nz\nM 31.78125 74.21875 \nQ 44.046875 74.21875 50.515625 64.515625 \nQ 56.984375 54.828125 56.984375 36.375 \nQ 56.984375 17.96875 50.515625 8.265625 \nQ 44.046875 -1.421875 31.78125 -1.421875 \nQ 19.53125 -1.421875 13.0625 8.265625 \nQ 6.59375 17.96875 6.59375 36.375 \nQ 6.59375 54.828125 13.0625 64.515625 \nQ 19.53125 74.21875 31.78125 74.21875 \nz\n\" id=\"DejaVuSans-48\"/>\n       <path d=\"M 10.6875 12.40625 \nL 21 12.40625 \nL 21 0 \nL 10.6875 0 \nz\n\" id=\"DejaVuSans-46\"/>\n      </defs>\n      <g style=\"fill:#555555;\" transform=\"translate(110.045 485.1055)rotate(-90)scale(0.12 -0.12)\">\n       <use xlink:href=\"#DejaVuSans-48\"/>\n       <use x=\"63.623047\" xlink:href=\"#DejaVuSans-46\"/>\n       <use x=\"95.410156\" xlink:href=\"#DejaVuSans-48\"/>\n      </g>\n     </g>\n    </g>\n    <g id=\"xtick_2\">\n     <g id=\"line2d_3\">\n      <path clip-path=\"url(#p88c5111a7e)\" d=\"M 218.33375 459.02175 \nL 218.33375 24.14175 \n\" style=\"fill:none;stroke:#ffffff;stroke-linecap:square;stroke-width:0.8;\"/>\n     </g>\n     <g id=\"line2d_4\">\n      <g>\n       <use style=\"fill:#555555;stroke:#555555;stroke-width:0.8;\" x=\"218.33375\" xlink:href=\"#mc5f5e7e1b3\" y=\"459.02175\"/>\n      </g>\n     </g>\n     <g id=\"text_2\">\n      <!-- 1.0 -->\n      <defs>\n       <path d=\"M 12.40625 8.296875 \nL 28.515625 8.296875 \nL 28.515625 63.921875 \nL 10.984375 60.40625 \nL 10.984375 69.390625 \nL 28.421875 72.90625 \nL 38.28125 72.90625 \nL 38.28125 8.296875 \nL 54.390625 8.296875 \nL 54.390625 0 \nL 12.40625 0 \nz\n\" id=\"DejaVuSans-49\"/>\n      </defs>\n      <g style=\"fill:#555555;\" transform=\"translate(221.645 485.1055)rotate(-90)scale(0.12 -0.12)\">\n       <use xlink:href=\"#DejaVuSans-49\"/>\n       <use x=\"63.623047\" xlink:href=\"#DejaVuSans-46\"/>\n       <use x=\"95.410156\" xlink:href=\"#DejaVuSans-48\"/>\n      </g>\n     </g>\n    </g>\n    <g id=\"xtick_3\">\n     <g id=\"line2d_5\">\n      <path clip-path=\"url(#p88c5111a7e)\" d=\"M 329.93375 459.02175 \nL 329.93375 24.14175 \n\" style=\"fill:none;stroke:#ffffff;stroke-linecap:square;stroke-width:0.8;\"/>\n     </g>\n     <g id=\"line2d_6\">\n      <g>\n       <use style=\"fill:#555555;stroke:#555555;stroke-width:0.8;\" x=\"329.93375\" xlink:href=\"#mc5f5e7e1b3\" y=\"459.02175\"/>\n      </g>\n     </g>\n     <g id=\"text_3\">\n      <!-- 2.0 -->\n      <defs>\n       <path d=\"M 19.1875 8.296875 \nL 53.609375 8.296875 \nL 53.609375 0 \nL 7.328125 0 \nL 7.328125 8.296875 \nQ 12.9375 14.109375 22.625 23.890625 \nQ 32.328125 33.6875 34.8125 36.53125 \nQ 39.546875 41.84375 41.421875 45.53125 \nQ 43.3125 49.21875 43.3125 52.78125 \nQ 43.3125 58.59375 39.234375 62.25 \nQ 35.15625 65.921875 28.609375 65.921875 \nQ 23.96875 65.921875 18.8125 64.3125 \nQ 13.671875 62.703125 7.8125 59.421875 \nL 7.8125 69.390625 \nQ 13.765625 71.78125 18.9375 73 \nQ 24.125 74.21875 28.421875 74.21875 \nQ 39.75 74.21875 46.484375 68.546875 \nQ 53.21875 62.890625 53.21875 53.421875 \nQ 53.21875 48.921875 51.53125 44.890625 \nQ 49.859375 40.875 45.40625 35.40625 \nQ 44.1875 33.984375 37.640625 27.21875 \nQ 31.109375 20.453125 19.1875 8.296875 \nz\n\" id=\"DejaVuSans-50\"/>\n      </defs>\n      <g style=\"fill:#555555;\" transform=\"translate(333.245 485.1055)rotate(-90)scale(0.12 -0.12)\">\n       <use xlink:href=\"#DejaVuSans-50\"/>\n       <use x=\"63.623047\" xlink:href=\"#DejaVuSans-46\"/>\n       <use x=\"95.410156\" xlink:href=\"#DejaVuSans-48\"/>\n      </g>\n     </g>\n    </g>\n    <g id=\"xtick_4\">\n     <g id=\"line2d_7\">\n      <path clip-path=\"url(#p88c5111a7e)\" d=\"M 441.53375 459.02175 \nL 441.53375 24.14175 \n\" style=\"fill:none;stroke:#ffffff;stroke-linecap:square;stroke-width:0.8;\"/>\n     </g>\n     <g id=\"line2d_8\">\n      <g>\n       <use style=\"fill:#555555;stroke:#555555;stroke-width:0.8;\" x=\"441.53375\" xlink:href=\"#mc5f5e7e1b3\" y=\"459.02175\"/>\n      </g>\n     </g>\n     <g id=\"text_4\">\n      <!-- 3.0 -->\n      <defs>\n       <path d=\"M 40.578125 39.3125 \nQ 47.65625 37.796875 51.625 33 \nQ 55.609375 28.21875 55.609375 21.1875 \nQ 55.609375 10.40625 48.1875 4.484375 \nQ 40.765625 -1.421875 27.09375 -1.421875 \nQ 22.515625 -1.421875 17.65625 -0.515625 \nQ 12.796875 0.390625 7.625 2.203125 \nL 7.625 11.71875 \nQ 11.71875 9.328125 16.59375 8.109375 \nQ 21.484375 6.890625 26.8125 6.890625 \nQ 36.078125 6.890625 40.9375 10.546875 \nQ 45.796875 14.203125 45.796875 21.1875 \nQ 45.796875 27.640625 41.28125 31.265625 \nQ 36.765625 34.90625 28.71875 34.90625 \nL 20.21875 34.90625 \nL 20.21875 43.015625 \nL 29.109375 43.015625 \nQ 36.375 43.015625 40.234375 45.921875 \nQ 44.09375 48.828125 44.09375 54.296875 \nQ 44.09375 59.90625 40.109375 62.90625 \nQ 36.140625 65.921875 28.71875 65.921875 \nQ 24.65625 65.921875 20.015625 65.03125 \nQ 15.375 64.15625 9.8125 62.3125 \nL 9.8125 71.09375 \nQ 15.4375 72.65625 20.34375 73.4375 \nQ 25.25 74.21875 29.59375 74.21875 \nQ 40.828125 74.21875 47.359375 69.109375 \nQ 53.90625 64.015625 53.90625 55.328125 \nQ 53.90625 49.265625 50.4375 45.09375 \nQ 46.96875 40.921875 40.578125 39.3125 \nz\n\" id=\"DejaVuSans-51\"/>\n      </defs>\n      <g style=\"fill:#555555;\" transform=\"translate(444.845 485.1055)rotate(-90)scale(0.12 -0.12)\">\n       <use xlink:href=\"#DejaVuSans-51\"/>\n       <use x=\"63.623047\" xlink:href=\"#DejaVuSans-46\"/>\n       <use x=\"95.410156\" xlink:href=\"#DejaVuSans-48\"/>\n      </g>\n     </g>\n    </g>\n    <g id=\"xtick_5\">\n     <g id=\"line2d_9\">\n      <path clip-path=\"url(#p88c5111a7e)\" d=\"M 553.13375 459.02175 \nL 553.13375 24.14175 \n\" style=\"fill:none;stroke:#ffffff;stroke-linecap:square;stroke-width:0.8;\"/>\n     </g>\n     <g id=\"line2d_10\">\n      <g>\n       <use style=\"fill:#555555;stroke:#555555;stroke-width:0.8;\" x=\"553.13375\" xlink:href=\"#mc5f5e7e1b3\" y=\"459.02175\"/>\n      </g>\n     </g>\n     <g id=\"text_5\">\n      <!-- 4.0 -->\n      <defs>\n       <path d=\"M 37.796875 64.3125 \nL 12.890625 25.390625 \nL 37.796875 25.390625 \nz\nM 35.203125 72.90625 \nL 47.609375 72.90625 \nL 47.609375 25.390625 \nL 58.015625 25.390625 \nL 58.015625 17.1875 \nL 47.609375 17.1875 \nL 47.609375 0 \nL 37.796875 0 \nL 37.796875 17.1875 \nL 4.890625 17.1875 \nL 4.890625 26.703125 \nz\n\" id=\"DejaVuSans-52\"/>\n      </defs>\n      <g style=\"fill:#555555;\" transform=\"translate(556.445 485.1055)rotate(-90)scale(0.12 -0.12)\">\n       <use xlink:href=\"#DejaVuSans-52\"/>\n       <use x=\"63.623047\" xlink:href=\"#DejaVuSans-46\"/>\n       <use x=\"95.410156\" xlink:href=\"#DejaVuSans-48\"/>\n      </g>\n     </g>\n    </g>\n    <g id=\"xtick_6\">\n     <g id=\"line2d_11\">\n      <path clip-path=\"url(#p88c5111a7e)\" d=\"M 664.73375 459.02175 \nL 664.73375 24.14175 \n\" style=\"fill:none;stroke:#ffffff;stroke-linecap:square;stroke-width:0.8;\"/>\n     </g>\n     <g id=\"line2d_12\">\n      <g>\n       <use style=\"fill:#555555;stroke:#555555;stroke-width:0.8;\" x=\"664.73375\" xlink:href=\"#mc5f5e7e1b3\" y=\"459.02175\"/>\n      </g>\n     </g>\n     <g id=\"text_6\">\n      <!-- 5.0 -->\n      <defs>\n       <path d=\"M 10.796875 72.90625 \nL 49.515625 72.90625 \nL 49.515625 64.59375 \nL 19.828125 64.59375 \nL 19.828125 46.734375 \nQ 21.96875 47.46875 24.109375 47.828125 \nQ 26.265625 48.1875 28.421875 48.1875 \nQ 40.625 48.1875 47.75 41.5 \nQ 54.890625 34.8125 54.890625 23.390625 \nQ 54.890625 11.625 47.5625 5.09375 \nQ 40.234375 -1.421875 26.90625 -1.421875 \nQ 22.3125 -1.421875 17.546875 -0.640625 \nQ 12.796875 0.140625 7.71875 1.703125 \nL 7.71875 11.625 \nQ 12.109375 9.234375 16.796875 8.0625 \nQ 21.484375 6.890625 26.703125 6.890625 \nQ 35.15625 6.890625 40.078125 11.328125 \nQ 45.015625 15.765625 45.015625 23.390625 \nQ 45.015625 31 40.078125 35.4375 \nQ 35.15625 39.890625 26.703125 39.890625 \nQ 22.75 39.890625 18.8125 39.015625 \nQ 14.890625 38.140625 10.796875 36.28125 \nz\n\" id=\"DejaVuSans-53\"/>\n      </defs>\n      <g style=\"fill:#555555;\" transform=\"translate(668.045 485.1055)rotate(-90)scale(0.12 -0.12)\">\n       <use xlink:href=\"#DejaVuSans-53\"/>\n       <use x=\"63.623047\" xlink:href=\"#DejaVuSans-46\"/>\n       <use x=\"95.410156\" xlink:href=\"#DejaVuSans-48\"/>\n      </g>\n     </g>\n    </g>\n    <g id=\"text_7\">\n     <!-- movie rating score -->\n     <defs>\n      <path d=\"M 52 44.1875 \nQ 55.375 50.25 60.0625 53.125 \nQ 64.75 56 71.09375 56 \nQ 79.640625 56 84.28125 50.015625 \nQ 88.921875 44.046875 88.921875 33.015625 \nL 88.921875 0 \nL 79.890625 0 \nL 79.890625 32.71875 \nQ 79.890625 40.578125 77.09375 44.375 \nQ 74.3125 48.1875 68.609375 48.1875 \nQ 61.625 48.1875 57.5625 43.546875 \nQ 53.515625 38.921875 53.515625 30.90625 \nL 53.515625 0 \nL 44.484375 0 \nL 44.484375 32.71875 \nQ 44.484375 40.625 41.703125 44.40625 \nQ 38.921875 48.1875 33.109375 48.1875 \nQ 26.21875 48.1875 22.15625 43.53125 \nQ 18.109375 38.875 18.109375 30.90625 \nL 18.109375 0 \nL 9.078125 0 \nL 9.078125 54.6875 \nL 18.109375 54.6875 \nL 18.109375 46.1875 \nQ 21.1875 51.21875 25.484375 53.609375 \nQ 29.78125 56 35.6875 56 \nQ 41.65625 56 45.828125 52.96875 \nQ 50 49.953125 52 44.1875 \nz\n\" id=\"DejaVuSans-109\"/>\n      <path d=\"M 30.609375 48.390625 \nQ 23.390625 48.390625 19.1875 42.75 \nQ 14.984375 37.109375 14.984375 27.296875 \nQ 14.984375 17.484375 19.15625 11.84375 \nQ 23.34375 6.203125 30.609375 6.203125 \nQ 37.796875 6.203125 41.984375 11.859375 \nQ 46.1875 17.53125 46.1875 27.296875 \nQ 46.1875 37.015625 41.984375 42.703125 \nQ 37.796875 48.390625 30.609375 48.390625 \nz\nM 30.609375 56 \nQ 42.328125 56 49.015625 48.375 \nQ 55.71875 40.765625 55.71875 27.296875 \nQ 55.71875 13.875 49.015625 6.21875 \nQ 42.328125 -1.421875 30.609375 -1.421875 \nQ 18.84375 -1.421875 12.171875 6.21875 \nQ 5.515625 13.875 5.515625 27.296875 \nQ 5.515625 40.765625 12.171875 48.375 \nQ 18.84375 56 30.609375 56 \nz\n\" id=\"DejaVuSans-111\"/>\n      <path d=\"M 2.984375 54.6875 \nL 12.5 54.6875 \nL 29.59375 8.796875 \nL 46.6875 54.6875 \nL 56.203125 54.6875 \nL 35.6875 0 \nL 23.484375 0 \nz\n\" id=\"DejaVuSans-118\"/>\n      <path d=\"M 9.421875 54.6875 \nL 18.40625 54.6875 \nL 18.40625 0 \nL 9.421875 0 \nz\nM 9.421875 75.984375 \nL 18.40625 75.984375 \nL 18.40625 64.59375 \nL 9.421875 64.59375 \nz\n\" id=\"DejaVuSans-105\"/>\n      <path d=\"M 56.203125 29.59375 \nL 56.203125 25.203125 \nL 14.890625 25.203125 \nQ 15.484375 15.921875 20.484375 11.0625 \nQ 25.484375 6.203125 34.421875 6.203125 \nQ 39.59375 6.203125 44.453125 7.46875 \nQ 49.3125 8.734375 54.109375 11.28125 \nL 54.109375 2.78125 \nQ 49.265625 0.734375 44.1875 -0.34375 \nQ 39.109375 -1.421875 33.890625 -1.421875 \nQ 20.796875 -1.421875 13.15625 6.1875 \nQ 5.515625 13.8125 5.515625 26.8125 \nQ 5.515625 40.234375 12.765625 48.109375 \nQ 20.015625 56 32.328125 56 \nQ 43.359375 56 49.78125 48.890625 \nQ 56.203125 41.796875 56.203125 29.59375 \nz\nM 47.21875 32.234375 \nQ 47.125 39.59375 43.09375 43.984375 \nQ 39.0625 48.390625 32.421875 48.390625 \nQ 24.90625 48.390625 20.390625 44.140625 \nQ 15.875 39.890625 15.1875 32.171875 \nz\n\" id=\"DejaVuSans-101\"/>\n      <path id=\"DejaVuSans-32\"/>\n      <path d=\"M 41.109375 46.296875 \nQ 39.59375 47.171875 37.8125 47.578125 \nQ 36.03125 48 33.890625 48 \nQ 26.265625 48 22.1875 43.046875 \nQ 18.109375 38.09375 18.109375 28.8125 \nL 18.109375 0 \nL 9.078125 0 \nL 9.078125 54.6875 \nL 18.109375 54.6875 \nL 18.109375 46.1875 \nQ 20.953125 51.171875 25.484375 53.578125 \nQ 30.03125 56 36.53125 56 \nQ 37.453125 56 38.578125 55.875 \nQ 39.703125 55.765625 41.0625 55.515625 \nz\n\" id=\"DejaVuSans-114\"/>\n      <path d=\"M 34.28125 27.484375 \nQ 23.390625 27.484375 19.1875 25 \nQ 14.984375 22.515625 14.984375 16.5 \nQ 14.984375 11.71875 18.140625 8.90625 \nQ 21.296875 6.109375 26.703125 6.109375 \nQ 34.1875 6.109375 38.703125 11.40625 \nQ 43.21875 16.703125 43.21875 25.484375 \nL 43.21875 27.484375 \nz\nM 52.203125 31.203125 \nL 52.203125 0 \nL 43.21875 0 \nL 43.21875 8.296875 \nQ 40.140625 3.328125 35.546875 0.953125 \nQ 30.953125 -1.421875 24.3125 -1.421875 \nQ 15.921875 -1.421875 10.953125 3.296875 \nQ 6 8.015625 6 15.921875 \nQ 6 25.140625 12.171875 29.828125 \nQ 18.359375 34.515625 30.609375 34.515625 \nL 43.21875 34.515625 \nL 43.21875 35.40625 \nQ 43.21875 41.609375 39.140625 45 \nQ 35.0625 48.390625 27.6875 48.390625 \nQ 23 48.390625 18.546875 47.265625 \nQ 14.109375 46.140625 10.015625 43.890625 \nL 10.015625 52.203125 \nQ 14.9375 54.109375 19.578125 55.046875 \nQ 24.21875 56 28.609375 56 \nQ 40.484375 56 46.34375 49.84375 \nQ 52.203125 43.703125 52.203125 31.203125 \nz\n\" id=\"DejaVuSans-97\"/>\n      <path d=\"M 18.3125 70.21875 \nL 18.3125 54.6875 \nL 36.8125 54.6875 \nL 36.8125 47.703125 \nL 18.3125 47.703125 \nL 18.3125 18.015625 \nQ 18.3125 11.328125 20.140625 9.421875 \nQ 21.96875 7.515625 27.59375 7.515625 \nL 36.8125 7.515625 \nL 36.8125 0 \nL 27.59375 0 \nQ 17.1875 0 13.234375 3.875 \nQ 9.28125 7.765625 9.28125 18.015625 \nL 9.28125 47.703125 \nL 2.6875 47.703125 \nL 2.6875 54.6875 \nL 9.28125 54.6875 \nL 9.28125 70.21875 \nz\n\" id=\"DejaVuSans-116\"/>\n      <path d=\"M 54.890625 33.015625 \nL 54.890625 0 \nL 45.90625 0 \nL 45.90625 32.71875 \nQ 45.90625 40.484375 42.875 44.328125 \nQ 39.84375 48.1875 33.796875 48.1875 \nQ 26.515625 48.1875 22.3125 43.546875 \nQ 18.109375 38.921875 18.109375 30.90625 \nL 18.109375 0 \nL 9.078125 0 \nL 9.078125 54.6875 \nL 18.109375 54.6875 \nL 18.109375 46.1875 \nQ 21.34375 51.125 25.703125 53.5625 \nQ 30.078125 56 35.796875 56 \nQ 45.21875 56 50.046875 50.171875 \nQ 54.890625 44.34375 54.890625 33.015625 \nz\n\" id=\"DejaVuSans-110\"/>\n      <path d=\"M 45.40625 27.984375 \nQ 45.40625 37.75 41.375 43.109375 \nQ 37.359375 48.484375 30.078125 48.484375 \nQ 22.859375 48.484375 18.828125 43.109375 \nQ 14.796875 37.75 14.796875 27.984375 \nQ 14.796875 18.265625 18.828125 12.890625 \nQ 22.859375 7.515625 30.078125 7.515625 \nQ 37.359375 7.515625 41.375 12.890625 \nQ 45.40625 18.265625 45.40625 27.984375 \nz\nM 54.390625 6.78125 \nQ 54.390625 -7.171875 48.1875 -13.984375 \nQ 42 -20.796875 29.203125 -20.796875 \nQ 24.46875 -20.796875 20.265625 -20.09375 \nQ 16.0625 -19.390625 12.109375 -17.921875 \nL 12.109375 -9.1875 \nQ 16.0625 -11.328125 19.921875 -12.34375 \nQ 23.78125 -13.375 27.78125 -13.375 \nQ 36.625 -13.375 41.015625 -8.765625 \nQ 45.40625 -4.15625 45.40625 5.171875 \nL 45.40625 9.625 \nQ 42.625 4.78125 38.28125 2.390625 \nQ 33.9375 0 27.875 0 \nQ 17.828125 0 11.671875 7.65625 \nQ 5.515625 15.328125 5.515625 27.984375 \nQ 5.515625 40.671875 11.671875 48.328125 \nQ 17.828125 56 27.875 56 \nQ 33.9375 56 38.28125 53.609375 \nQ 42.625 51.21875 45.40625 46.390625 \nL 45.40625 54.6875 \nL 54.390625 54.6875 \nz\n\" id=\"DejaVuSans-103\"/>\n      <path d=\"M 44.28125 53.078125 \nL 44.28125 44.578125 \nQ 40.484375 46.53125 36.375 47.5 \nQ 32.28125 48.484375 27.875 48.484375 \nQ 21.1875 48.484375 17.84375 46.4375 \nQ 14.5 44.390625 14.5 40.28125 \nQ 14.5 37.15625 16.890625 35.375 \nQ 19.28125 33.59375 26.515625 31.984375 \nL 29.59375 31.296875 \nQ 39.15625 29.25 43.1875 25.515625 \nQ 47.21875 21.78125 47.21875 15.09375 \nQ 47.21875 7.46875 41.1875 3.015625 \nQ 35.15625 -1.421875 24.609375 -1.421875 \nQ 20.21875 -1.421875 15.453125 -0.5625 \nQ 10.6875 0.296875 5.421875 2 \nL 5.421875 11.28125 \nQ 10.40625 8.6875 15.234375 7.390625 \nQ 20.0625 6.109375 24.8125 6.109375 \nQ 31.15625 6.109375 34.5625 8.28125 \nQ 37.984375 10.453125 37.984375 14.40625 \nQ 37.984375 18.0625 35.515625 20.015625 \nQ 33.0625 21.96875 24.703125 23.78125 \nL 21.578125 24.515625 \nQ 13.234375 26.265625 9.515625 29.90625 \nQ 5.8125 33.546875 5.8125 39.890625 \nQ 5.8125 47.609375 11.28125 51.796875 \nQ 16.75 56 26.8125 56 \nQ 31.78125 56 36.171875 55.265625 \nQ 40.578125 54.546875 44.28125 53.078125 \nz\n\" id=\"DejaVuSans-115\"/>\n      <path d=\"M 48.78125 52.59375 \nL 48.78125 44.1875 \nQ 44.96875 46.296875 41.140625 47.34375 \nQ 37.3125 48.390625 33.40625 48.390625 \nQ 24.65625 48.390625 19.8125 42.84375 \nQ 14.984375 37.3125 14.984375 27.296875 \nQ 14.984375 17.28125 19.8125 11.734375 \nQ 24.65625 6.203125 33.40625 6.203125 \nQ 37.3125 6.203125 41.140625 7.25 \nQ 44.96875 8.296875 48.78125 10.40625 \nL 48.78125 2.09375 \nQ 45.015625 0.34375 40.984375 -0.53125 \nQ 36.96875 -1.421875 32.421875 -1.421875 \nQ 20.0625 -1.421875 12.78125 6.34375 \nQ 5.515625 14.109375 5.515625 27.296875 \nQ 5.515625 40.671875 12.859375 48.328125 \nQ 20.21875 56 33.015625 56 \nQ 37.15625 56 41.109375 55.140625 \nQ 45.0625 54.296875 48.78125 52.59375 \nz\n\" id=\"DejaVuSans-99\"/>\n     </defs>\n     <g style=\"fill:#555555;\" transform=\"translate(329.600938 498.223625)scale(0.12 -0.12)\">\n      <use xlink:href=\"#DejaVuSans-109\"/>\n      <use x=\"97.412109\" xlink:href=\"#DejaVuSans-111\"/>\n      <use x=\"158.59375\" xlink:href=\"#DejaVuSans-118\"/>\n      <use x=\"217.773438\" xlink:href=\"#DejaVuSans-105\"/>\n      <use x=\"245.556641\" xlink:href=\"#DejaVuSans-101\"/>\n      <use x=\"307.080078\" xlink:href=\"#DejaVuSans-32\"/>\n      <use x=\"338.867188\" xlink:href=\"#DejaVuSans-114\"/>\n      <use x=\"379.980469\" xlink:href=\"#DejaVuSans-97\"/>\n      <use x=\"441.259766\" xlink:href=\"#DejaVuSans-116\"/>\n      <use x=\"480.46875\" xlink:href=\"#DejaVuSans-105\"/>\n      <use x=\"508.251953\" xlink:href=\"#DejaVuSans-110\"/>\n      <use x=\"571.630859\" xlink:href=\"#DejaVuSans-103\"/>\n      <use x=\"635.107422\" xlink:href=\"#DejaVuSans-32\"/>\n      <use x=\"666.894531\" xlink:href=\"#DejaVuSans-115\"/>\n      <use x=\"718.994141\" xlink:href=\"#DejaVuSans-99\"/>\n      <use x=\"773.974609\" xlink:href=\"#DejaVuSans-111\"/>\n      <use x=\"835.15625\" xlink:href=\"#DejaVuSans-114\"/>\n      <use x=\"874.019531\" xlink:href=\"#DejaVuSans-101\"/>\n     </g>\n    </g>\n   </g>\n   <g id=\"matplotlib.axis_2\">\n    <g id=\"ytick_1\">\n     <g id=\"line2d_13\">\n      <path clip-path=\"url(#p88c5111a7e)\" d=\"M 50.93375 403.821046 \nL 720.53375 403.821046 \n\" style=\"fill:none;stroke:#ffffff;stroke-linecap:square;stroke-width:0.8;\"/>\n     </g>\n     <g id=\"line2d_14\">\n      <defs>\n       <path d=\"M 0 0 \nL -3.5 0 \n\" id=\"m6fc30602a0\" style=\"stroke:#555555;stroke-width:0.8;\"/>\n      </defs>\n      <g>\n       <use style=\"fill:#555555;stroke:#555555;stroke-width:0.8;\" x=\"50.93375\" xlink:href=\"#m6fc30602a0\" y=\"403.821046\"/>\n      </g>\n     </g>\n     <g id=\"text_8\">\n      <!-- $\\mathdefault{10^{4}}$ -->\n      <g style=\"fill:#555555;\" transform=\"translate(22.81375 408.380108)scale(0.12 -0.12)\">\n       <use transform=\"translate(0 0.684375)\" xlink:href=\"#DejaVuSans-49\"/>\n       <use transform=\"translate(63.623047 0.684375)\" xlink:href=\"#DejaVuSans-48\"/>\n       <use transform=\"translate(128.203125 38.965625)scale(0.7)\" xlink:href=\"#DejaVuSans-52\"/>\n      </g>\n     </g>\n    </g>\n    <g id=\"ytick_2\">\n     <g id=\"line2d_15\">\n      <path clip-path=\"url(#p88c5111a7e)\" d=\"M 50.93375 238.15734 \nL 720.53375 238.15734 \n\" style=\"fill:none;stroke:#ffffff;stroke-linecap:square;stroke-width:0.8;\"/>\n     </g>\n     <g id=\"line2d_16\">\n      <g>\n       <use style=\"fill:#555555;stroke:#555555;stroke-width:0.8;\" x=\"50.93375\" xlink:href=\"#m6fc30602a0\" y=\"238.15734\"/>\n      </g>\n     </g>\n     <g id=\"text_9\">\n      <!-- $\\mathdefault{10^{5}}$ -->\n      <g style=\"fill:#555555;\" transform=\"translate(22.81375 242.716403)scale(0.12 -0.12)\">\n       <use transform=\"translate(0 0.684375)\" xlink:href=\"#DejaVuSans-49\"/>\n       <use transform=\"translate(63.623047 0.684375)\" xlink:href=\"#DejaVuSans-48\"/>\n       <use transform=\"translate(128.203125 38.965625)scale(0.7)\" xlink:href=\"#DejaVuSans-53\"/>\n      </g>\n     </g>\n    </g>\n    <g id=\"ytick_3\">\n     <g id=\"line2d_17\">\n      <path clip-path=\"url(#p88c5111a7e)\" d=\"M 50.93375 72.493635 \nL 720.53375 72.493635 \n\" style=\"fill:none;stroke:#ffffff;stroke-linecap:square;stroke-width:0.8;\"/>\n     </g>\n     <g id=\"line2d_18\">\n      <g>\n       <use style=\"fill:#555555;stroke:#555555;stroke-width:0.8;\" x=\"50.93375\" xlink:href=\"#m6fc30602a0\" y=\"72.493635\"/>\n      </g>\n     </g>\n     <g id=\"text_10\">\n      <!-- $\\mathdefault{10^{6}}$ -->\n      <defs>\n       <path d=\"M 33.015625 40.375 \nQ 26.375 40.375 22.484375 35.828125 \nQ 18.609375 31.296875 18.609375 23.390625 \nQ 18.609375 15.53125 22.484375 10.953125 \nQ 26.375 6.390625 33.015625 6.390625 \nQ 39.65625 6.390625 43.53125 10.953125 \nQ 47.40625 15.53125 47.40625 23.390625 \nQ 47.40625 31.296875 43.53125 35.828125 \nQ 39.65625 40.375 33.015625 40.375 \nz\nM 52.59375 71.296875 \nL 52.59375 62.3125 \nQ 48.875 64.0625 45.09375 64.984375 \nQ 41.3125 65.921875 37.59375 65.921875 \nQ 27.828125 65.921875 22.671875 59.328125 \nQ 17.53125 52.734375 16.796875 39.40625 \nQ 19.671875 43.65625 24.015625 45.921875 \nQ 28.375 48.1875 33.59375 48.1875 \nQ 44.578125 48.1875 50.953125 41.515625 \nQ 57.328125 34.859375 57.328125 23.390625 \nQ 57.328125 12.15625 50.6875 5.359375 \nQ 44.046875 -1.421875 33.015625 -1.421875 \nQ 20.359375 -1.421875 13.671875 8.265625 \nQ 6.984375 17.96875 6.984375 36.375 \nQ 6.984375 53.65625 15.1875 63.9375 \nQ 23.390625 74.21875 37.203125 74.21875 \nQ 40.921875 74.21875 44.703125 73.484375 \nQ 48.484375 72.75 52.59375 71.296875 \nz\n\" id=\"DejaVuSans-54\"/>\n      </defs>\n      <g style=\"fill:#555555;\" transform=\"translate(22.81375 77.052697)scale(0.12 -0.12)\">\n       <use transform=\"translate(0 0.765625)\" xlink:href=\"#DejaVuSans-49\"/>\n       <use transform=\"translate(63.623047 0.765625)\" xlink:href=\"#DejaVuSans-48\"/>\n       <use transform=\"translate(128.203125 39.046875)scale(0.7)\" xlink:href=\"#DejaVuSans-54\"/>\n      </g>\n     </g>\n    </g>\n    <g id=\"ytick_4\">\n     <g id=\"line2d_19\">\n      <defs>\n       <path d=\"M 0 0 \nL -2 0 \n\" id=\"mc2668855f1\" style=\"stroke:#555555;stroke-width:0.6;\"/>\n      </defs>\n      <g>\n       <use style=\"fill:#555555;stroke:#555555;stroke-width:0.6;\" x=\"50.93375\" xlink:href=\"#mc2668855f1\" y=\"453.69079\"/>\n      </g>\n     </g>\n    </g>\n    <g id=\"ytick_5\">\n     <g id=\"line2d_20\">\n      <g>\n       <use style=\"fill:#555555;stroke:#555555;stroke-width:0.6;\" x=\"50.93375\" xlink:href=\"#mc2668855f1\" y=\"440.573332\"/>\n      </g>\n     </g>\n    </g>\n    <g id=\"ytick_6\">\n     <g id=\"line2d_21\">\n      <g>\n       <use style=\"fill:#555555;stroke:#555555;stroke-width:0.6;\" x=\"50.93375\" xlink:href=\"#mc2668855f1\" y=\"429.482678\"/>\n      </g>\n     </g>\n    </g>\n    <g id=\"ytick_7\">\n     <g id=\"line2d_22\">\n      <g>\n       <use style=\"fill:#555555;stroke:#555555;stroke-width:0.6;\" x=\"50.93375\" xlink:href=\"#mc2668855f1\" y=\"419.875517\"/>\n      </g>\n     </g>\n    </g>\n    <g id=\"ytick_8\">\n     <g id=\"line2d_23\">\n      <g>\n       <use style=\"fill:#555555;stroke:#555555;stroke-width:0.6;\" x=\"50.93375\" xlink:href=\"#mc2668855f1\" y=\"411.401401\"/>\n      </g>\n     </g>\n    </g>\n    <g id=\"ytick_9\">\n     <g id=\"line2d_24\">\n      <g>\n       <use style=\"fill:#555555;stroke:#555555;stroke-width:0.6;\" x=\"50.93375\" xlink:href=\"#mc2668855f1\" y=\"353.951301\"/>\n      </g>\n     </g>\n    </g>\n    <g id=\"ytick_10\">\n     <g id=\"line2d_25\">\n      <g>\n       <use style=\"fill:#555555;stroke:#555555;stroke-width:0.6;\" x=\"50.93375\" xlink:href=\"#mc2668855f1\" y=\"324.779371\"/>\n      </g>\n     </g>\n    </g>\n    <g id=\"ytick_11\">\n     <g id=\"line2d_26\">\n      <g>\n       <use style=\"fill:#555555;stroke:#555555;stroke-width:0.6;\" x=\"50.93375\" xlink:href=\"#mc2668855f1\" y=\"304.081557\"/>\n      </g>\n     </g>\n    </g>\n    <g id=\"ytick_12\">\n     <g id=\"line2d_27\">\n      <g>\n       <use style=\"fill:#555555;stroke:#555555;stroke-width:0.6;\" x=\"50.93375\" xlink:href=\"#mc2668855f1\" y=\"288.027085\"/>\n      </g>\n     </g>\n    </g>\n    <g id=\"ytick_13\">\n     <g id=\"line2d_28\">\n      <g>\n       <use style=\"fill:#555555;stroke:#555555;stroke-width:0.6;\" x=\"50.93375\" xlink:href=\"#mc2668855f1\" y=\"274.909626\"/>\n      </g>\n     </g>\n    </g>\n    <g id=\"ytick_14\">\n     <g id=\"line2d_29\">\n      <g>\n       <use style=\"fill:#555555;stroke:#555555;stroke-width:0.6;\" x=\"50.93375\" xlink:href=\"#mc2668855f1\" y=\"263.818973\"/>\n      </g>\n     </g>\n    </g>\n    <g id=\"ytick_15\">\n     <g id=\"line2d_30\">\n      <g>\n       <use style=\"fill:#555555;stroke:#555555;stroke-width:0.6;\" x=\"50.93375\" xlink:href=\"#mc2668855f1\" y=\"254.211812\"/>\n      </g>\n     </g>\n    </g>\n    <g id=\"ytick_16\">\n     <g id=\"line2d_31\">\n      <g>\n       <use style=\"fill:#555555;stroke:#555555;stroke-width:0.6;\" x=\"50.93375\" xlink:href=\"#mc2668855f1\" y=\"245.737696\"/>\n      </g>\n     </g>\n    </g>\n    <g id=\"ytick_17\">\n     <g id=\"line2d_32\">\n      <g>\n       <use style=\"fill:#555555;stroke:#555555;stroke-width:0.6;\" x=\"50.93375\" xlink:href=\"#mc2668855f1\" y=\"188.287596\"/>\n      </g>\n     </g>\n    </g>\n    <g id=\"ytick_18\">\n     <g id=\"line2d_33\">\n      <g>\n       <use style=\"fill:#555555;stroke:#555555;stroke-width:0.6;\" x=\"50.93375\" xlink:href=\"#mc2668855f1\" y=\"159.115665\"/>\n      </g>\n     </g>\n    </g>\n    <g id=\"ytick_19\">\n     <g id=\"line2d_34\">\n      <g>\n       <use style=\"fill:#555555;stroke:#555555;stroke-width:0.6;\" x=\"50.93375\" xlink:href=\"#mc2668855f1\" y=\"138.417851\"/>\n      </g>\n     </g>\n    </g>\n    <g id=\"ytick_20\">\n     <g id=\"line2d_35\">\n      <g>\n       <use style=\"fill:#555555;stroke:#555555;stroke-width:0.6;\" x=\"50.93375\" xlink:href=\"#mc2668855f1\" y=\"122.363379\"/>\n      </g>\n     </g>\n    </g>\n    <g id=\"ytick_21\">\n     <g id=\"line2d_36\">\n      <g>\n       <use style=\"fill:#555555;stroke:#555555;stroke-width:0.6;\" x=\"50.93375\" xlink:href=\"#mc2668855f1\" y=\"109.245921\"/>\n      </g>\n     </g>\n    </g>\n    <g id=\"ytick_22\">\n     <g id=\"line2d_37\">\n      <g>\n       <use style=\"fill:#555555;stroke:#555555;stroke-width:0.6;\" x=\"50.93375\" xlink:href=\"#mc2668855f1\" y=\"98.155267\"/>\n      </g>\n     </g>\n    </g>\n    <g id=\"ytick_23\">\n     <g id=\"line2d_38\">\n      <g>\n       <use style=\"fill:#555555;stroke:#555555;stroke-width:0.6;\" x=\"50.93375\" xlink:href=\"#mc2668855f1\" y=\"88.548107\"/>\n      </g>\n     </g>\n    </g>\n    <g id=\"ytick_24\">\n     <g id=\"line2d_39\">\n      <g>\n       <use style=\"fill:#555555;stroke:#555555;stroke-width:0.6;\" x=\"50.93375\" xlink:href=\"#mc2668855f1\" y=\"80.07399\"/>\n      </g>\n     </g>\n    </g>\n    <g id=\"text_11\">\n     <!-- number of ratings -->\n     <defs>\n      <path d=\"M 8.5 21.578125 \nL 8.5 54.6875 \nL 17.484375 54.6875 \nL 17.484375 21.921875 \nQ 17.484375 14.15625 20.5 10.265625 \nQ 23.53125 6.390625 29.59375 6.390625 \nQ 36.859375 6.390625 41.078125 11.03125 \nQ 45.3125 15.671875 45.3125 23.6875 \nL 45.3125 54.6875 \nL 54.296875 54.6875 \nL 54.296875 0 \nL 45.3125 0 \nL 45.3125 8.40625 \nQ 42.046875 3.421875 37.71875 1 \nQ 33.40625 -1.421875 27.6875 -1.421875 \nQ 18.265625 -1.421875 13.375 4.4375 \nQ 8.5 10.296875 8.5 21.578125 \nz\nM 31.109375 56 \nz\n\" id=\"DejaVuSans-117\"/>\n      <path d=\"M 48.6875 27.296875 \nQ 48.6875 37.203125 44.609375 42.84375 \nQ 40.53125 48.484375 33.40625 48.484375 \nQ 26.265625 48.484375 22.1875 42.84375 \nQ 18.109375 37.203125 18.109375 27.296875 \nQ 18.109375 17.390625 22.1875 11.75 \nQ 26.265625 6.109375 33.40625 6.109375 \nQ 40.53125 6.109375 44.609375 11.75 \nQ 48.6875 17.390625 48.6875 27.296875 \nz\nM 18.109375 46.390625 \nQ 20.953125 51.265625 25.265625 53.625 \nQ 29.59375 56 35.59375 56 \nQ 45.5625 56 51.78125 48.09375 \nQ 58.015625 40.1875 58.015625 27.296875 \nQ 58.015625 14.40625 51.78125 6.484375 \nQ 45.5625 -1.421875 35.59375 -1.421875 \nQ 29.59375 -1.421875 25.265625 0.953125 \nQ 20.953125 3.328125 18.109375 8.203125 \nL 18.109375 0 \nL 9.078125 0 \nL 9.078125 75.984375 \nL 18.109375 75.984375 \nz\n\" id=\"DejaVuSans-98\"/>\n      <path d=\"M 37.109375 75.984375 \nL 37.109375 68.5 \nL 28.515625 68.5 \nQ 23.6875 68.5 21.796875 66.546875 \nQ 19.921875 64.59375 19.921875 59.515625 \nL 19.921875 54.6875 \nL 34.71875 54.6875 \nL 34.71875 47.703125 \nL 19.921875 47.703125 \nL 19.921875 0 \nL 10.890625 0 \nL 10.890625 47.703125 \nL 2.296875 47.703125 \nL 2.296875 54.6875 \nL 10.890625 54.6875 \nL 10.890625 58.5 \nQ 10.890625 67.625 15.140625 71.796875 \nQ 19.390625 75.984375 28.609375 75.984375 \nz\n\" id=\"DejaVuSans-102\"/>\n     </defs>\n     <g style=\"fill:#555555;\" transform=\"translate(16.318125 295.4955)rotate(-90)scale(0.12 -0.12)\">\n      <use xlink:href=\"#DejaVuSans-110\"/>\n      <use x=\"63.378906\" xlink:href=\"#DejaVuSans-117\"/>\n      <use x=\"126.757812\" xlink:href=\"#DejaVuSans-109\"/>\n      <use x=\"224.169922\" xlink:href=\"#DejaVuSans-98\"/>\n      <use x=\"287.646484\" xlink:href=\"#DejaVuSans-101\"/>\n      <use x=\"349.169922\" xlink:href=\"#DejaVuSans-114\"/>\n      <use x=\"390.283203\" xlink:href=\"#DejaVuSans-32\"/>\n      <use x=\"422.070312\" xlink:href=\"#DejaVuSans-111\"/>\n      <use x=\"483.251953\" xlink:href=\"#DejaVuSans-102\"/>\n      <use x=\"518.457031\" xlink:href=\"#DejaVuSans-32\"/>\n      <use x=\"550.244141\" xlink:href=\"#DejaVuSans-114\"/>\n      <use x=\"591.357422\" xlink:href=\"#DejaVuSans-97\"/>\n      <use x=\"652.636719\" xlink:href=\"#DejaVuSans-116\"/>\n      <use x=\"691.845703\" xlink:href=\"#DejaVuSans-105\"/>\n      <use x=\"719.628906\" xlink:href=\"#DejaVuSans-110\"/>\n      <use x=\"783.007812\" xlink:href=\"#DejaVuSans-103\"/>\n      <use x=\"846.484375\" xlink:href=\"#DejaVuSans-115\"/>\n     </g>\n    </g>\n   </g>\n   <g id=\"patch_3\">\n    <path clip-path=\"url(#p88c5111a7e)\" d=\"M 78.83375 166730.181315 \nL 134.63375 166730.181315 \nL 134.63375 43.909023 \nL 78.83375 43.909023 \nz\n\" style=\"fill:#e24a33;\"/>\n   </g>\n   <g id=\"patch_4\">\n    <path clip-path=\"url(#p88c5111a7e)\" d=\"M 190.43375 166730.181315 \nL 246.23375 166730.181315 \nL 246.23375 439.254477 \nL 190.43375 439.254477 \nz\n\" style=\"fill:#e24a33;\"/>\n   </g>\n   <g id=\"patch_5\">\n    <path clip-path=\"url(#p88c5111a7e)\" d=\"M 302.03375 166730.181315 \nL 357.83375 166730.181315 \nL 357.83375 394.58356 \nL 302.03375 394.58356 \nz\n\" style=\"fill:#e24a33;\"/>\n   </g>\n   <g id=\"patch_6\">\n    <path clip-path=\"url(#p88c5111a7e)\" d=\"M 413.63375 166730.181315 \nL 469.43375 166730.181315 \nL 469.43375 331.974379 \nL 413.63375 331.974379 \nz\n\" style=\"fill:#e24a33;\"/>\n   </g>\n   <g id=\"patch_7\">\n    <path clip-path=\"url(#p88c5111a7e)\" d=\"M 525.23375 166730.181315 \nL 581.03375 166730.181315 \nL 581.03375 315.407019 \nL 525.23375 315.407019 \nz\n\" style=\"fill:#e24a33;\"/>\n   </g>\n   <g id=\"patch_8\">\n    <path clip-path=\"url(#p88c5111a7e)\" d=\"M 636.83375 166730.181315 \nL 692.63375 166730.181315 \nL 692.63375 349.748857 \nL 636.83375 349.748857 \nz\n\" style=\"fill:#e24a33;\"/>\n   </g>\n   <g id=\"patch_9\">\n    <path d=\"M 50.93375 459.02175 \nL 50.93375 24.14175 \n\" style=\"fill:none;stroke:#ffffff;stroke-linecap:square;stroke-linejoin:miter;\"/>\n   </g>\n   <g id=\"patch_10\">\n    <path d=\"M 720.53375 459.02175 \nL 720.53375 24.14175 \n\" style=\"fill:none;stroke:#ffffff;stroke-linecap:square;stroke-linejoin:miter;\"/>\n   </g>\n   <g id=\"patch_11\">\n    <path d=\"M 50.93375 459.02175 \nL 720.53375 459.02175 \n\" style=\"fill:none;stroke:#ffffff;stroke-linecap:square;stroke-linejoin:miter;\"/>\n   </g>\n   <g id=\"patch_12\">\n    <path d=\"M 50.93375 24.14175 \nL 720.53375 24.14175 \n\" style=\"fill:none;stroke:#ffffff;stroke-linecap:square;stroke-linejoin:miter;\"/>\n   </g>\n   <g id=\"text_12\">\n    <!-- Count for Each Rating Score (in Log Scale) -->\n    <defs>\n     <path d=\"M 64.40625 67.28125 \nL 64.40625 56.890625 \nQ 59.421875 61.53125 53.78125 63.8125 \nQ 48.140625 66.109375 41.796875 66.109375 \nQ 29.296875 66.109375 22.65625 58.46875 \nQ 16.015625 50.828125 16.015625 36.375 \nQ 16.015625 21.96875 22.65625 14.328125 \nQ 29.296875 6.6875 41.796875 6.6875 \nQ 48.140625 6.6875 53.78125 8.984375 \nQ 59.421875 11.28125 64.40625 15.921875 \nL 64.40625 5.609375 \nQ 59.234375 2.09375 53.4375 0.328125 \nQ 47.65625 -1.421875 41.21875 -1.421875 \nQ 24.65625 -1.421875 15.125 8.703125 \nQ 5.609375 18.84375 5.609375 36.375 \nQ 5.609375 53.953125 15.125 64.078125 \nQ 24.65625 74.21875 41.21875 74.21875 \nQ 47.75 74.21875 53.53125 72.484375 \nQ 59.328125 70.75 64.40625 67.28125 \nz\n\" id=\"DejaVuSans-67\"/>\n     <path d=\"M 9.8125 72.90625 \nL 55.90625 72.90625 \nL 55.90625 64.59375 \nL 19.671875 64.59375 \nL 19.671875 43.015625 \nL 54.390625 43.015625 \nL 54.390625 34.71875 \nL 19.671875 34.71875 \nL 19.671875 8.296875 \nL 56.78125 8.296875 \nL 56.78125 0 \nL 9.8125 0 \nz\n\" id=\"DejaVuSans-69\"/>\n     <path d=\"M 54.890625 33.015625 \nL 54.890625 0 \nL 45.90625 0 \nL 45.90625 32.71875 \nQ 45.90625 40.484375 42.875 44.328125 \nQ 39.84375 48.1875 33.796875 48.1875 \nQ 26.515625 48.1875 22.3125 43.546875 \nQ 18.109375 38.921875 18.109375 30.90625 \nL 18.109375 0 \nL 9.078125 0 \nL 9.078125 75.984375 \nL 18.109375 75.984375 \nL 18.109375 46.1875 \nQ 21.34375 51.125 25.703125 53.5625 \nQ 30.078125 56 35.796875 56 \nQ 45.21875 56 50.046875 50.171875 \nQ 54.890625 44.34375 54.890625 33.015625 \nz\n\" id=\"DejaVuSans-104\"/>\n     <path d=\"M 44.390625 34.1875 \nQ 47.5625 33.109375 50.5625 29.59375 \nQ 53.5625 26.078125 56.59375 19.921875 \nL 66.609375 0 \nL 56 0 \nL 46.6875 18.703125 \nQ 43.0625 26.03125 39.671875 28.421875 \nQ 36.28125 30.8125 30.421875 30.8125 \nL 19.671875 30.8125 \nL 19.671875 0 \nL 9.8125 0 \nL 9.8125 72.90625 \nL 32.078125 72.90625 \nQ 44.578125 72.90625 50.734375 67.671875 \nQ 56.890625 62.453125 56.890625 51.90625 \nQ 56.890625 45.015625 53.6875 40.46875 \nQ 50.484375 35.9375 44.390625 34.1875 \nz\nM 19.671875 64.796875 \nL 19.671875 38.921875 \nL 32.078125 38.921875 \nQ 39.203125 38.921875 42.84375 42.21875 \nQ 46.484375 45.515625 46.484375 51.90625 \nQ 46.484375 58.296875 42.84375 61.546875 \nQ 39.203125 64.796875 32.078125 64.796875 \nz\n\" id=\"DejaVuSans-82\"/>\n     <path d=\"M 53.515625 70.515625 \nL 53.515625 60.890625 \nQ 47.90625 63.578125 42.921875 64.890625 \nQ 37.9375 66.21875 33.296875 66.21875 \nQ 25.25 66.21875 20.875 63.09375 \nQ 16.5 59.96875 16.5 54.203125 \nQ 16.5 49.359375 19.40625 46.890625 \nQ 22.3125 44.4375 30.421875 42.921875 \nL 36.375 41.703125 \nQ 47.40625 39.59375 52.65625 34.296875 \nQ 57.90625 29 57.90625 20.125 \nQ 57.90625 9.515625 50.796875 4.046875 \nQ 43.703125 -1.421875 29.984375 -1.421875 \nQ 24.8125 -1.421875 18.96875 -0.25 \nQ 13.140625 0.921875 6.890625 3.21875 \nL 6.890625 13.375 \nQ 12.890625 10.015625 18.65625 8.296875 \nQ 24.421875 6.59375 29.984375 6.59375 \nQ 38.421875 6.59375 43.015625 9.90625 \nQ 47.609375 13.234375 47.609375 19.390625 \nQ 47.609375 24.75 44.3125 27.78125 \nQ 41.015625 30.8125 33.5 32.328125 \nL 27.484375 33.5 \nQ 16.453125 35.6875 11.515625 40.375 \nQ 6.59375 45.0625 6.59375 53.421875 \nQ 6.59375 63.09375 13.40625 68.65625 \nQ 20.21875 74.21875 32.171875 74.21875 \nQ 37.3125 74.21875 42.625 73.28125 \nQ 47.953125 72.359375 53.515625 70.515625 \nz\n\" id=\"DejaVuSans-83\"/>\n     <path d=\"M 31 75.875 \nQ 24.46875 64.65625 21.28125 53.65625 \nQ 18.109375 42.671875 18.109375 31.390625 \nQ 18.109375 20.125 21.3125 9.0625 \nQ 24.515625 -2 31 -13.1875 \nL 23.1875 -13.1875 \nQ 15.875 -1.703125 12.234375 9.375 \nQ 8.59375 20.453125 8.59375 31.390625 \nQ 8.59375 42.28125 12.203125 53.3125 \nQ 15.828125 64.359375 23.1875 75.875 \nz\n\" id=\"DejaVuSans-40\"/>\n     <path d=\"M 9.8125 72.90625 \nL 19.671875 72.90625 \nL 19.671875 8.296875 \nL 55.171875 8.296875 \nL 55.171875 0 \nL 9.8125 0 \nz\n\" id=\"DejaVuSans-76\"/>\n     <path d=\"M 9.421875 75.984375 \nL 18.40625 75.984375 \nL 18.40625 0 \nL 9.421875 0 \nz\n\" id=\"DejaVuSans-108\"/>\n     <path d=\"M 8.015625 75.875 \nL 15.828125 75.875 \nQ 23.140625 64.359375 26.78125 53.3125 \nQ 30.421875 42.28125 30.421875 31.390625 \nQ 30.421875 20.453125 26.78125 9.375 \nQ 23.140625 -1.703125 15.828125 -13.1875 \nL 8.015625 -13.1875 \nQ 14.5 -2 17.703125 9.0625 \nQ 20.90625 20.125 20.90625 31.390625 \nQ 20.90625 42.671875 17.703125 53.65625 \nQ 14.5 64.65625 8.015625 75.875 \nz\n\" id=\"DejaVuSans-41\"/>\n    </defs>\n    <g transform=\"translate(233.16125 18.14175)scale(0.144 -0.144)\">\n     <use xlink:href=\"#DejaVuSans-67\"/>\n     <use x=\"69.824219\" xlink:href=\"#DejaVuSans-111\"/>\n     <use x=\"131.005859\" xlink:href=\"#DejaVuSans-117\"/>\n     <use x=\"194.384766\" xlink:href=\"#DejaVuSans-110\"/>\n     <use x=\"257.763672\" xlink:href=\"#DejaVuSans-116\"/>\n     <use x=\"296.972656\" xlink:href=\"#DejaVuSans-32\"/>\n     <use x=\"328.759766\" xlink:href=\"#DejaVuSans-102\"/>\n     <use x=\"363.964844\" xlink:href=\"#DejaVuSans-111\"/>\n     <use x=\"425.146484\" xlink:href=\"#DejaVuSans-114\"/>\n     <use x=\"466.259766\" xlink:href=\"#DejaVuSans-32\"/>\n     <use x=\"498.046875\" xlink:href=\"#DejaVuSans-69\"/>\n     <use x=\"561.230469\" xlink:href=\"#DejaVuSans-97\"/>\n     <use x=\"622.509766\" xlink:href=\"#DejaVuSans-99\"/>\n     <use x=\"677.490234\" xlink:href=\"#DejaVuSans-104\"/>\n     <use x=\"740.869141\" xlink:href=\"#DejaVuSans-32\"/>\n     <use x=\"772.65625\" xlink:href=\"#DejaVuSans-82\"/>\n     <use x=\"839.888672\" xlink:href=\"#DejaVuSans-97\"/>\n     <use x=\"901.167969\" xlink:href=\"#DejaVuSans-116\"/>\n     <use x=\"940.376953\" xlink:href=\"#DejaVuSans-105\"/>\n     <use x=\"968.160156\" xlink:href=\"#DejaVuSans-110\"/>\n     <use x=\"1031.539062\" xlink:href=\"#DejaVuSans-103\"/>\n     <use x=\"1095.015625\" xlink:href=\"#DejaVuSans-32\"/>\n     <use x=\"1126.802734\" xlink:href=\"#DejaVuSans-83\"/>\n     <use x=\"1190.279297\" xlink:href=\"#DejaVuSans-99\"/>\n     <use x=\"1245.259766\" xlink:href=\"#DejaVuSans-111\"/>\n     <use x=\"1306.441406\" xlink:href=\"#DejaVuSans-114\"/>\n     <use x=\"1345.304688\" xlink:href=\"#DejaVuSans-101\"/>\n     <use x=\"1406.828125\" xlink:href=\"#DejaVuSans-32\"/>\n     <use x=\"1438.615234\" xlink:href=\"#DejaVuSans-40\"/>\n     <use x=\"1477.628906\" xlink:href=\"#DejaVuSans-105\"/>\n     <use x=\"1505.412109\" xlink:href=\"#DejaVuSans-110\"/>\n     <use x=\"1568.791016\" xlink:href=\"#DejaVuSans-32\"/>\n     <use x=\"1600.578125\" xlink:href=\"#DejaVuSans-76\"/>\n     <use x=\"1654.541016\" xlink:href=\"#DejaVuSans-111\"/>\n     <use x=\"1715.722656\" xlink:href=\"#DejaVuSans-103\"/>\n     <use x=\"1779.199219\" xlink:href=\"#DejaVuSans-32\"/>\n     <use x=\"1810.986328\" xlink:href=\"#DejaVuSans-83\"/>\n     <use x=\"1874.462891\" xlink:href=\"#DejaVuSans-99\"/>\n     <use x=\"1929.443359\" xlink:href=\"#DejaVuSans-97\"/>\n     <use x=\"1990.722656\" xlink:href=\"#DejaVuSans-108\"/>\n     <use x=\"2018.505859\" xlink:href=\"#DejaVuSans-101\"/>\n     <use x=\"2080.029297\" xlink:href=\"#DejaVuSans-41\"/>\n    </g>\n   </g>\n   <g id=\"legend_1\">\n    <g id=\"patch_13\">\n     <path d=\"M 653.32125 46.819875 \nL 713.53375 46.819875 \nQ 715.53375 46.819875 715.53375 44.819875 \nL 715.53375 31.14175 \nQ 715.53375 29.14175 713.53375 29.14175 \nL 653.32125 29.14175 \nQ 651.32125 29.14175 651.32125 31.14175 \nL 651.32125 44.819875 \nQ 651.32125 46.819875 653.32125 46.819875 \nz\n\" style=\"fill:#e5e5e5;opacity:0.8;stroke:#cccccc;stroke-linejoin:miter;stroke-width:0.5;\"/>\n    </g>\n    <g id=\"patch_14\">\n     <path d=\"M 655.32125 40.740187 \nL 675.32125 40.740187 \nL 675.32125 33.740187 \nL 655.32125 33.740187 \nz\n\" style=\"fill:#e24a33;\"/>\n    </g>\n    <g id=\"text_13\">\n     <!-- count -->\n     <g transform=\"translate(683.32125 40.740187)scale(0.1 -0.1)\">\n      <use xlink:href=\"#DejaVuSans-99\"/>\n      <use x=\"54.980469\" xlink:href=\"#DejaVuSans-111\"/>\n      <use x=\"116.162109\" xlink:href=\"#DejaVuSans-117\"/>\n      <use x=\"179.541016\" xlink:href=\"#DejaVuSans-110\"/>\n      <use x=\"242.919922\" xlink:href=\"#DejaVuSans-116\"/>\n     </g>\n    </g>\n   </g>\n  </g>\n </g>\n <defs>\n  <clipPath id=\"p88c5111a7e\">\n   <rect height=\"434.88\" width=\"669.6\" x=\"50.93375\" y=\"24.14175\"/>\n  </clipPath>\n </defs>\n</svg>\n",
      "image/png": "[encoded data removed]"
     },
     "metadata": {
      "needs_background": "light"
     }
    }
   ],
   "source": [
    "import matplotlib.pyplot as plt\n",
    "plt.style.use('ggplot')\n",
    "\n",
    "%matplotlib inline\n",
    "ax = df_ratings_cnt[['count']].reset_index().rename(columns={'index': 'rating score'}).plot(\n",
    "    x='rating score',\n",
    "    y='count',\n",
    "    kind='bar',\n",
    "    figsize=(12, 8),\n",
    "    title='Count for Each Rating Score (in Log Scale)',\n",
    "    logy=True,\n",
    "    fontsize=12,\n",
    ")\n",
    "ax.set_xlabel(\"movie rating score\")\n",
    "ax.set_ylabel(\"number of ratings\")"
   ]
  },
  {
   "cell_type": "code",
   "execution_count": 41,
   "metadata": {},
   "outputs": [
    {
     "output_type": "execute_result",
     "data": {
      "text/plain": [
       "         count\n",
       "movieId       \n",
       "1          452\n",
       "2          131\n",
       "3           90\n",
       "4          209\n",
       "5           86"
      ],
      "text/html": "<div>\n<style scoped>\n    .dataframe tbody tr th:only-of-type {\n        vertical-align: middle;\n    }\n\n    .dataframe tbody tr th {\n        vertical-align: top;\n    }\n\n    .dataframe thead th {\n        text-align: right;\n    }\n</style>\n<table border=\"1\" class=\"dataframe\">\n  <thead>\n    <tr style=\"text-align: right;\">\n      <th></th>\n      <th>count</th>\n    </tr>\n    <tr>\n      <th>movieId</th>\n      <th></th>\n    </tr>\n  </thead>\n  <tbody>\n    <tr>\n      <th>1</th>\n      <td>452</td>\n    </tr>\n    <tr>\n      <th>2</th>\n      <td>131</td>\n    </tr>\n    <tr>\n      <th>3</th>\n      <td>90</td>\n    </tr>\n    <tr>\n      <th>4</th>\n      <td>209</td>\n    </tr>\n    <tr>\n      <th>5</th>\n      <td>86</td>\n    </tr>\n  </tbody>\n</table>\n</div>"
     },
     "metadata": {},
     "execution_count": 41
    }
   ],
   "source": [
    "# get rating frequency\n",
    "#number of ratings each movie got.\n",
    "df_movies_cnt = pd.DataFrame(df_ratings.groupby('movieId').size(), columns=['count'])\n",
    "df_movies_cnt.head()"
   ]
  },
  {
   "cell_type": "code",
   "execution_count": 42,
   "metadata": {},
   "outputs": [
    {
     "output_type": "stream",
     "name": "stdout",
     "text": [
      "shape of original ratings data:  (100003, 3)\nshape of ratings data after dropping unpopular movies:  (83718, 3)\n"
     ]
    }
   ],
   "source": [
    "#now we need to take only movies that have been rated atleast 50 times to get some idea of the reactions of users towards it\n",
    "\n",
    "popularity_thres = 50\n",
    "popular_movies = list(set(df_movies_cnt.query('count >= @popularity_thres').index))\n",
    "df_ratings_drop_movies = df_ratings[df_ratings.movieId.isin(popular_movies)]\n",
    "print('shape of original ratings data: ', df_ratings.shape)\n",
    "print('shape of ratings data after dropping unpopular movies: ', df_ratings_drop_movies.shape)"
   ]
  },
  {
   "cell_type": "code",
   "execution_count": 43,
   "metadata": {},
   "outputs": [
    {
     "output_type": "execute_result",
     "data": {
      "text/plain": [
       "        count\n",
       "userId       \n",
       "0           3\n",
       "1         233\n",
       "2          56\n",
       "3          39\n",
       "4          19"
      ],
      "text/html": "<div>\n<style scoped>\n    .dataframe tbody tr th:only-of-type {\n        vertical-align: middle;\n    }\n\n    .dataframe tbody tr th {\n        vertical-align: top;\n    }\n\n    .dataframe thead th {\n        text-align: right;\n    }\n</style>\n<table border=\"1\" class=\"dataframe\">\n  <thead>\n    <tr style=\"text-align: right;\">\n      <th></th>\n      <th>count</th>\n    </tr>\n    <tr>\n      <th>userId</th>\n      <th></th>\n    </tr>\n  </thead>\n  <tbody>\n    <tr>\n      <th>0</th>\n      <td>3</td>\n    </tr>\n    <tr>\n      <th>1</th>\n      <td>233</td>\n    </tr>\n    <tr>\n      <th>2</th>\n      <td>56</td>\n    </tr>\n    <tr>\n      <th>3</th>\n      <td>39</td>\n    </tr>\n    <tr>\n      <th>4</th>\n      <td>19</td>\n    </tr>\n  </tbody>\n</table>\n</div>"
     },
     "metadata": {},
     "execution_count": 43
    }
   ],
   "source": [
    "# get number of ratings given by every user\n",
    "df_users_cnt = pd.DataFrame(df_ratings_drop_movies.groupby('userId').size(), columns=['count'])\n",
    "df_users_cnt.head()"
   ]
  },
  {
   "cell_type": "code",
   "execution_count": 44,
   "metadata": {},
   "outputs": [
    {
     "output_type": "stream",
     "name": "stdout",
     "text": [
      "shape of original ratings data:  (100003, 3)\nshape of ratings data after dropping both unpopular movies and inactive users:  (71687, 3)\n"
     ]
    }
   ],
   "source": [
    "# filter data to come to an approximation of user likings.\n",
    "ratings_thres = 50\n",
    "active_users = list(set(df_users_cnt.query('count >= @ratings_thres').index))\n",
    "df_ratings_drop_users = df_ratings_drop_movies[df_ratings_drop_movies.userId.isin(active_users)]\n",
    "print('shape of original ratings data: ', df_ratings.shape)\n",
    "print('shape of ratings data after dropping both unpopular movies and inactive users: ', df_ratings_drop_users.shape)"
   ]
  },
  {
   "cell_type": "code",
   "execution_count": 45,
   "metadata": {},
   "outputs": [],
   "source": [
    "\n",
    "# pivot and create movie-user matrix\n",
    "movie_user_mat = df_ratings_drop_users.pivot(index='movieId', columns='userId', values='rating').fillna(0)\n",
    "#map movie titles to images\n",
    "movie_to_idx = {\n",
    "    movie: i for i, movie in \n",
    "    enumerate(list(df_movies.set_index('movieId').loc[movie_user_mat.index].title))\n",
    "}\n",
    "# transform matrix to scipy sparse matrix\n",
    "movie_user_mat_sparse = csr_matrix(movie_user_mat.values)"
   ]
  },
  {
   "cell_type": "code",
   "execution_count": 46,
   "metadata": {},
   "outputs": [
    {
     "output_type": "execute_result",
     "data": {
      "text/plain": [
       "NearestNeighbors(algorithm='brute', leaf_size=30, metric='cosine',\n",
       "                 metric_params=None, n_jobs=-1, n_neighbors=20, p=2,\n",
       "                 radius=1.0)"
      ]
     },
     "metadata": {},
     "execution_count": 46
    }
   ],
   "source": [
    "# define model\n",
    "model_knn = NearestNeighbors(metric='cosine', algorithm='brute', n_neighbors=20, n_jobs=-1)\n",
    "# fit\n",
    "model_knn.fit(movie_user_mat_sparse)"
   ]
  },
  {
   "cell_type": "code",
   "execution_count": 48,
   "metadata": {},
   "outputs": [],
   "source": [
    "from fuzzywuzzy import fuzz\n"
   ]
  },
  {
   "cell_type": "code",
   "execution_count": 49,
   "metadata": {},
   "outputs": [],
   "source": [
    "def fuzzy_matching(mapper, fav_movie, verbose=True):\n",
    "    \"\"\"\n",
    "    return the closest match via fuzzy ratio. \n",
    "    \n",
    "    Parameters\n",
    "    ----------    \n",
    "    mapper: dict, map movie title name to index of the movie in data\n",
    "\n",
    "    fav_movie: str, name of user input movie\n",
    "    \n",
    "    verbose: bool, print log if True\n",
    "\n",
    "    Return\n",
    "    ------\n",
    "    index of the closest match\n",
    "    \"\"\"\n",
    "    match_tuple = []\n",
    "    # get match\n",
    "    for title, idx in mapper.items():\n",
    "        ratio = fuzz.ratio(title.lower(), fav_movie.lower())\n",
    "        if ratio >= 60:\n",
    "            match_tuple.append((title, idx, ratio))\n",
    "    # sort\n",
    "    match_tuple = sorted(match_tuple, key=lambda x: x[2])[::-1]\n",
    "    if not match_tuple:\n",
    "        print('Oops! No match is found')\n",
    "        return\n",
    "    if verbose:\n",
    "        print('Found possible matches in our database: {0}\\n'.format([x[0] for x in match_tuple]))\n",
    "    return match_tuple[0][1]"
   ]
  },
  {
   "cell_type": "code",
   "execution_count": 50,
   "metadata": {},
   "outputs": [],
   "source": [
    "def make_recommendation(model_knn, data, mapper, fav_movie, n_recommendations):\n",
    "    \"\"\"\n",
    "    return top n similar movie recommendations based on user's input movie\n",
    "\n",
    "\n",
    "    Parameters\n",
    "    ----------\n",
    "    model_knn: sklearn model, knn model\n",
    "\n",
    "    data: movie-user matrix\n",
    "\n",
    "    mapper: dict, map movie title name to index of the movie in data\n",
    "\n",
    "    fav_movie: str, name of user input movie\n",
    "\n",
    "    n_recommendations: int, top n recommendations\n",
    "\n",
    "    Return\n",
    "    ------\n",
    "    list of top n similar movie recommendations\n",
    "    \"\"\"\n",
    "    # fit\n",
    "    model_knn.fit(data)\n",
    "    # get input movie index\n",
    "    print('You have input movie:', fav_movie)\n",
    "    idx = fuzzy_matching(mapper, fav_movie, verbose=True)\n",
    "    \n",
    "    print('Recommendation system start to make inference')\n",
    "    print('......\\n')\n",
    "    distances, indices = model_knn.kneighbors(data[idx], n_neighbors=n_recommendations+1)\n",
    "    \n",
    "    raw_recommends = \\\n",
    "        sorted(list(zip(indices.squeeze().tolist(), distances.squeeze().tolist())), key=lambda x: x[1])[:0:-1]\n",
    "    # get reverse mapper\n",
    "    reverse_mapper = {v: k for k, v in mapper.items()}\n",
    "    # print recommendations\n",
    "    print('Recommendations for {}:'.format(fav_movie))\n",
    "    for i, (idx, dist) in enumerate(raw_recommends):\n",
    "        print('{0}: {1}, with distance of {2}'.format(i+1, reverse_mapper[idx], dist))"
   ]
  },
  {
   "cell_type": "code",
   "execution_count": 52,
   "metadata": {},
   "outputs": [
    {
     "output_type": "stream",
     "name": "stdout",
     "text": [
      "You have input movie: Toy Story\nFound possible matches in our database: ['Toy Story (1995)']\n\nRecommendation system start to make inference\n......\n\nRecommendations for Toy Story:\n1: Empire Strikes Back, The (1980), with distance of 0.31856371082135015\n2: Willy Wonka and the Chocolate Factory (1971), with distance of 0.3100845667680988\n3: Fargo (1996), with distance of 0.309943336093487\n4: Rock, The (1996), with distance of 0.3096151934239506\n5: Mission: Impossible (1996), with distance of 0.30838879218992477\n6: Star Trek: First Contact (1996), with distance of 0.3011410566256597\n7: Raiders of the Lost Ark (1981), with distance of 0.2874435332420664\n8: Independence Day (ID4) (1996), with distance of 0.2662096836621016\n9: Return of the Jedi (1983), with distance of 0.23876662275988514\n10: Star Wars (1977), with distance of 0.20800157484334536\n"
     ]
    }
   ],
   "source": [
    "\n",
    "my_favorite = 'Toy Story'\n",
    "\n",
    "make_recommendation(\n",
    "    model_knn=model_knn,\n",
    "    data=movie_user_mat_sparse,\n",
    "    fav_movie=my_favorite,\n",
    "    mapper=movie_to_idx,\n",
    "    n_recommendations=10)"
   ]
  },
  {
   "cell_type": "code",
   "execution_count": 53,
   "metadata": {},
   "outputs": [
    {
     "output_type": "stream",
     "name": "stdout",
     "text": [
      "You have input movie: Empire Strikes Back\nFound possible matches in our database: ['Empire Strikes Back, The (1980)']\n\nRecommendation system start to make inference\n......\n\nRecommendations for Empire Strikes Back:\n1: Fugitive, The (1993), with distance of 0.2512172154372545\n2: Jurassic Park (1993), with distance of 0.2501604113374646\n3: Princess Bride, The (1987), with distance of 0.23933764482073272\n4: Terminator 2: Judgment Day (1991), with distance of 0.23730469172066393\n5: Terminator, The (1984), with distance of 0.22718400440767783\n6: Back to the Future (1985), with distance of 0.2053353914336712\n7: Indiana Jones and the Last Crusade (1989), with distance of 0.18329970536489137\n8: Return of the Jedi (1983), with distance of 0.1665694547914215\n9: Star Wars (1977), with distance of 0.15814471391729434\n10: Raiders of the Lost Ark (1981), with distance of 0.1339761004997757\n"
     ]
    }
   ],
   "source": [
    "my_favorite = 'Empire Strikes Back'\n",
    "\n",
    "make_recommendation(\n",
    "    model_knn=model_knn,\n",
    "    data=movie_user_mat_sparse,\n",
    "    fav_movie=my_favorite,\n",
    "    mapper=movie_to_idx,\n",
    "    n_recommendations=10)"
   ]
  },
  {
   "cell_type": "code",
   "execution_count": null,
   "metadata": {},
   "outputs": [],
   "source": []
  }
 ],
 "metadata": {
  "kernelspec": {
   "display_name": "Python 3",
   "language": "python",
   "name": "python3"
  },
  "language_info": {
   "codemirror_mode": {
    "name": "ipython",
    "version": 3
   },
   "file_extension": ".py",
   "mimetype": "text/x-python",
   "name": "python",
   "nbconvert_exporter": "python",
   "pygments_lexer": "ipython3",
   "version": "3.7.5-final"
  }
 },
 "nbformat": 4,
 "nbformat_minor": 4
}