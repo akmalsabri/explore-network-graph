{
 "cells": [
  {
   "cell_type": "markdown",
   "metadata": {},
   "source": [
    "# Selenium \n",
    "Selenium allows you to mimic an actual person browsing a website. \n",
    "With Selinium we can do the following:\n",
    "- Fill in search box\n",
    "- Navigate to the next page\n",
    "- Load pages by mimicking scrolling "
   ]
  },
  {
   "cell_type": "markdown",
   "metadata": {},
   "source": [
    "We will again follow a tutorial online. This time scrapping **Lazada** \n",
    "\n",
    "- https://medium.com/@zfwong.wilson/web-scraping-e-commerce-sites-to-compare-prices-with-python-part-1-360509ee5c62\n"
   ]
  },
  {
   "cell_type": "markdown",
   "metadata": {},
   "source": [
    "## First we have to install "
   ]
  },
  {
   "cell_type": "markdown",
   "metadata": {},
   "source": [
    "Install Selenium\n",
    "- `conda install -c conda-forge selenium`\n",
    "- `pip install selenium`\n",
    "\n",
    "Install driver\n",
    "1. Find out what version of Chrome do you use \n",
    "    - Steps:\n",
    "        - Go to the 3 dots at the **top right** of your browser.\n",
    "        - Help\n",
    "        - About Google Chorme\n",
    "        - Copy the version\n",
    "2. Download Chrome Driver with the same version as your current browser\n",
    "    - https://sites.google.com/a/chromium.org/chromedriver/downloads\n",
    "3. Save the Chrome Driver Application in the same directory as your current code"
   ]
  },
  {
   "cell_type": "markdown",
   "metadata": {},
   "source": [
    "### Import libraries \n",
    "\n"
   ]
  },
  {
   "cell_type": "code",
   "execution_count": 19,
   "metadata": {},
   "outputs": [],
   "source": [
    "# Web Scraping\n",
    "from selenium import webdriver\n",
    "from selenium.common.exceptions import *\n",
    "# Data manipulation\n",
    "import pandas as pd\n",
    "# Visualization\n",
    "import matplotlib.pyplot as plt\n",
    "import seaborn as sns\n",
    "from selenium.webdriver.common.keys import Keys\n",
    "from time import sleep\n",
    "\n",
    "\n"
   ]
  },
  {
   "cell_type": "markdown",
   "metadata": {},
   "source": [
    "## Scrapping data with Selenium"
   ]
  },
  {
   "cell_type": "code",
   "execution_count": 41,
   "metadata": {},
   "outputs": [],
   "source": [
    "# Place the directory to the path of your chrome driver\n",
    "#webdriver_path = '/home/ustad/Documents/untuk_iSaham/belajar_irfan/dec_w3/chromedriver'\n",
    "\n",
    "webdriver_path = webdriver.Chrome()\n"
   ]
  },
  {
   "cell_type": "code",
   "execution_count": 78,
   "metadata": {},
   "outputs": [],
   "source": [
    "# url\n",
    "Lazada_url = 'https://www.lazada.com.my'"
   ]
  },
  {
   "cell_type": "code",
   "execution_count": 79,
   "metadata": {},
   "outputs": [],
   "source": [
    "\n",
    "search_item = 'Nescafe Gold refill 170g'"
   ]
  },
  {
   "cell_type": "code",
   "execution_count": 80,
   "metadata": {},
   "outputs": [],
   "source": [
    "# Select custom Chrome options\n",
    "options = webdriver.ChromeOptions()\n",
    "#options.add_argument('--headless') \n",
    "options.add_argument('start-maximized') \n",
    "options.add_argument('disable-infobars')\n",
    "options.add_argument('--disable-extensions')\n",
    "# Open the Chrome browser\n",
    "browser = webdriver.Chrome( options=options)\n",
    "browser.get(Lazada_url)\n"
   ]
  },
  {
   "cell_type": "code",
   "execution_count": 81,
   "metadata": {},
   "outputs": [],
   "source": [
    "# finds search bar\n",
    "search_bar = browser.find_element_by_id('q')\n",
    "\n",
    "# keys in search item\n",
    "search_bar.send_keys(search_item)\n",
    "\n",
    "# clicks the key Enter\n",
    "search_bar.send_keys(Keys.ENTER)"
   ]
  },
  {
   "cell_type": "code",
   "execution_count": 82,
   "metadata": {},
   "outputs": [],
   "source": [
    "# obtain title and price\n",
    "item_titles = browser.find_elements_by_class_name('c16H9d')\n",
    "item_prices = browser.find_elements_by_class_name('c13VH6')"
   ]
  },
  {
   "cell_type": "code",
   "execution_count": 83,
   "metadata": {},
   "outputs": [],
   "source": [
    "# place items in lists\n",
    "\n",
    "# Initialize empty lists\n",
    "titles_list = []\n",
    "prices_list = []\n",
    "# Loop over the item_titles and item_prices\n",
    "for title in item_titles:\n",
    "    titles_list.append(title.text)\n",
    "for price in item_prices:\n",
    "    prices_list.append(price.text)"
   ]
  },
  {
   "cell_type": "code",
   "execution_count": 39,
   "metadata": {},
   "outputs": [],
   "source": [
    "# Close browser\n",
    "browser.quit()"
   ]
  },
  {
   "cell_type": "code",
   "execution_count": null,
   "metadata": {},
   "outputs": [],
   "source": []
  },
  {
   "cell_type": "markdown",
   "metadata": {},
   "source": [
    "## Scrolling between pages \n",
    "- We have to seach the  `Next button` and click it. "
   ]
  },
  {
   "cell_type": "code",
   "execution_count": 85,
   "metadata": {},
   "outputs": [
    {
     "output_type": "stream",
     "name": "stdout",
     "text": [
      "<selenium.webdriver.remote.webelement.WebElement (session=\"0760f3672d68b74cf440a891d6caa477\", element=\"910bfc25-3c98-44ae-92a8-e6d11a359a52\")>\n",
      "<selenium.webdriver.remote.webelement.WebElement (session=\"0760f3672d68b74cf440a891d6caa477\", element=\"910bfc25-3c98-44ae-92a8-e6d11a359a52\")>\n",
      " done scrapping \n"
     ]
    }
   ],
   "source": [
    "import time\n",
    "\n",
    "while True:\n",
    "    elm = browser.find_element_by_class_name('ant-pagination-next')\n",
    "\n",
    "    print (elm)\n",
    "    time.sleep(3)\n",
    "\n",
    "    elm.click()\n",
    "    if 'disabled' in elm.get_attribute('class'):\n",
    "        break;\n",
    "print(' done scrapping ')"
   ]
  },
  {
   "cell_type": "markdown",
   "metadata": {},
   "source": [
    "## Scrolling down pages\n",
    "- Some pages only load when we scroll down.\n",
    "- This can be done with Selenium as well. "
   ]
  },
  {
   "cell_type": "code",
   "execution_count": 49,
   "metadata": {},
   "outputs": [],
   "source": [
    "\n",
    "# Obtain the scroll height\n",
    "last_height = browser.execute_script(\"return document.body.scrollHeight\")\n",
    "\n",
    "# print (last_height)  # print this to check when debugging\n",
    "while True:\n",
    "    # Scroll to bottom\n",
    "    browser.execute_script(\"window.scrollTo(0, document.body.scrollHeight);\")\n",
    "\n",
    "    # Wait to scroll the down\n",
    "    sleep(2)\n",
    "\n",
    "    # Obtain height after scrolling\n",
    "    new_height = browser.execute_script(\"return document.body.scrollHeight\")\n",
    "    \n",
    "    # print (new_height)  # print new height after scroll for debugging\n",
    "    \n",
    "    # break loop if height is the same. which means, there is no need to scroll anymore\n",
    "    if new_height == last_height:\n",
    "        break\n",
    "    last_height = new_height\n",
    "    "
   ]
  },
  {
   "cell_type": "markdown",
   "metadata": {},
   "source": [
    "## Save data in dataframe "
   ]
  },
  {
   "cell_type": "code",
   "execution_count": 62,
   "metadata": {
    "collapsed": true
   },
   "outputs": [
    {
     "output_type": "execute_result",
     "data": {
      "text/plain": [
       "['RM29.90',\n",
       " 'RM35.15',\n",
       " 'RM19.99',\n",
       " 'RM21.99',\n",
       " 'RM21.30',\n",
       " 'RM44.00',\n",
       " 'RM56.00',\n",
       " 'RM21.50',\n",
       " 'RM27.90',\n",
       " 'RM43.11',\n",
       " 'RM56.99',\n",
       " 'RM42.99',\n",
       " 'RM48.50',\n",
       " 'RM22.00',\n",
       " 'RM27.50',\n",
       " 'RM24.90',\n",
       " 'RM25.40',\n",
       " 'RM26.70',\n",
       " 'RM42.99',\n",
       " 'RM48.50',\n",
       " 'RM12.66',\n",
       " 'RM12.99',\n",
       " 'RM46.00',\n",
       " 'RM49.00',\n",
       " 'RM12.99',\n",
       " 'RM54.99',\n",
       " 'RM60.00',\n",
       " 'RM35.99',\n",
       " 'RM18.50',\n",
       " 'RM21.99',\n",
       " 'RM45.00',\n",
       " 'RM45.00',\n",
       " 'RM38.00',\n",
       " 'RM37.98',\n",
       " 'RM23.50',\n",
       " 'RM26.50',\n",
       " 'RM13.60',\n",
       " 'RM13.72',\n",
       " 'RM15.00',\n",
       " 'RM12.99',\n",
       " 'RM15.99',\n",
       " 'RM13.20',\n",
       " 'RM15.00',\n",
       " 'RM15.00',\n",
       " 'RM45.00',\n",
       " 'RM20.88',\n",
       " 'RM27.00',\n",
       " 'RM22.63',\n",
       " 'RM44.00',\n",
       " 'RM66.00',\n",
       " 'RM32.00',\n",
       " 'RM19.80',\n",
       " 'RM72.00',\n",
       " 'RM45.00',\n",
       " 'RM12.66',\n",
       " 'RM23.90',\n",
       " 'RM31.25',\n",
       " 'RM35.65',\n",
       " 'RM21.45']"
      ]
     },
     "metadata": {},
     "execution_count": 62
    }
   ],
   "source": [
    "# view data \n",
    "prices_list"
   ]
  },
  {
   "cell_type": "code",
   "execution_count": 51,
   "metadata": {},
   "outputs": [],
   "source": [
    "dfL = pd.DataFrame(zip(titles_list, prices_list), columns=[\"ItemName\", \"Price\"])"
   ]
  },
  {
   "cell_type": "code",
   "execution_count": 52,
   "metadata": {},
   "outputs": [],
   "source": [
    "dfL[\"Price\"] = dfL[\"Price\"].str.replace('RM', '').astype(float)\n",
    "\n",
    "# This removes any entry with 'x2' in its title\n",
    "dfL = dfL[dfL['ItemName'].str.contains('x2') == False]"
   ]
  },
  {
   "cell_type": "code",
   "execution_count": 53,
   "metadata": {},
   "outputs": [],
   "source": [
    "dfL = dfL[dfL['ItemName'].str.contains('170g') == True]\n",
    "\n",
    "dfL['Platform'] = 'Lazada'\n"
   ]
  },
  {
   "cell_type": "code",
   "execution_count": 54,
   "metadata": {},
   "outputs": [
    {
     "output_type": "execute_result",
     "data": {
      "text/plain": [
       "                                            ItemName  Price Platform\n",
       "3  SHOPPA Nescafe Gold Refill Pack - Rich & Smoot...  21.99   Lazada\n",
       "5             NESCAFE GOLD Refill Twin Pack 170g X 2  44.00   Lazada\n",
       "6    Nescafe Gold Refill 170g x 2 packs exp: Mar2022  56.00   Lazada\n",
       "7  [READY STOCK] Nestle Nescafe Gold Blend Refill...  21.50   Lazada\n",
       "8                           NESCAFE GOLD Refill 170g  27.90   Lazada"
      ],
      "text/html": "<div>\n<style scoped>\n    .dataframe tbody tr th:only-of-type {\n        vertical-align: middle;\n    }\n\n    .dataframe tbody tr th {\n        vertical-align: top;\n    }\n\n    .dataframe thead th {\n        text-align: right;\n    }\n</style>\n<table border=\"1\" class=\"dataframe\">\n  <thead>\n    <tr style=\"text-align: right;\">\n      <th></th>\n      <th>ItemName</th>\n      <th>Price</th>\n      <th>Platform</th>\n    </tr>\n  </thead>\n  <tbody>\n    <tr>\n      <th>3</th>\n      <td>SHOPPA Nescafe Gold Refill Pack - Rich &amp; Smoot...</td>\n      <td>21.99</td>\n      <td>Lazada</td>\n    </tr>\n    <tr>\n      <th>5</th>\n      <td>NESCAFE GOLD Refill Twin Pack 170g X 2</td>\n      <td>44.00</td>\n      <td>Lazada</td>\n    </tr>\n    <tr>\n      <th>6</th>\n      <td>Nescafe Gold Refill 170g x 2 packs exp: Mar2022</td>\n      <td>56.00</td>\n      <td>Lazada</td>\n    </tr>\n    <tr>\n      <th>7</th>\n      <td>[READY STOCK] Nestle Nescafe Gold Blend Refill...</td>\n      <td>21.50</td>\n      <td>Lazada</td>\n    </tr>\n    <tr>\n      <th>8</th>\n      <td>NESCAFE GOLD Refill 170g</td>\n      <td>27.90</td>\n      <td>Lazada</td>\n    </tr>\n  </tbody>\n</table>\n</div>"
     },
     "metadata": {},
     "execution_count": 54
    }
   ],
   "source": [
    "dfL.head()"
   ]
  },
  {
   "cell_type": "markdown",
   "metadata": {},
   "source": [
    "# Tips ( if scrapping many pages) :\n",
    "- Place a wait in between as the website may block you. Because you are a `robot`.\n",
    "- If you fear your computer might crash, append your data into a `.csv` file. This way your data will be saved even if your machine crashes.\n",
    "- Place  columns for the  `page`, and `time` in you `.csv` that you are apending to. If your computer crashes, you know where to continue and when it crashed."
   ]
  },
  {
   "cell_type": "markdown",
   "metadata": {},
   "source": [
    "## Exercise 1: \n",
    "- Make  a python code which is able to scrape multiple pages and save the data in a `.csv` file using Selenium "
   ]
  },
  {
   "cell_type": "code",
   "execution_count": 1,
   "metadata": {},
   "outputs": [
    {
     "output_type": "stream",
     "name": "stdout",
     "text": [
      "[] satu\n[] dua\nEmpty DataFrame\nColumns: [ItemName, Price, Platform]\nIndex: []\n"
     ]
    }
   ],
   "source": [
    "# Web Scraping\n",
    "from selenium import webdriver\n",
    "from selenium.common.exceptions import *\n",
    "# Data manipulation\n",
    "import pandas as pd\n",
    "# Visualization\n",
    "import matplotlib.pyplot as plt\n",
    "import seaborn as sns\n",
    "from selenium.webdriver.common.keys import Keys\n",
    "import time\n",
    "\n",
    "\n",
    "titles_list = []\n",
    "prices_list = []\n",
    "\n",
    "\n",
    "#driver = webdriver.Chrome()\n",
    "\n",
    "#driver = webdriver.Chrome()\n",
    "#driver.get(\"http://search.lppeh.gov.my/\")\n",
    "#wait = WebDriverWait(driver, 10)\n",
    "\n",
    "#Lazada_url = 'https://www.lazada.com.my'\n",
    "\n",
    "#search_item = 'Nescafe Gold refill 170g'\n",
    "\n",
    "\n",
    "## Select custom Chrome options\n",
    "#options = webdriver.ChromeOptions()\n",
    "###options.add_argument('--headless') \n",
    "#options.add_argument('start-maximized') \n",
    "#options.add_argument('disable-infobars')\n",
    "#options.add_argument('--disable-extensions')\n",
    "## Open the Chrome browser\n",
    "#browser = webdriver.Chrome( options=options)\n",
    "#browser.get(Lazada_url)\n",
    "\n",
    "\n",
    "\n",
    "def scrape ():\n",
    " \n",
    "    # finds search bar\n",
    "    search_bar = browser.find_element_by_id('q')\n",
    "\n",
    "    # keys in search item\n",
    "    search_bar.send_keys(search_item)\n",
    "\n",
    "    # clicks the key Enter\n",
    "    search_bar.send_keys(Keys.ENTER)\n",
    "\n",
    "\n",
    "    # obtain title and price\n",
    "    item_titles = browser.find_elements_by_class_name('c16H9d')\n",
    "    item_prices = browser.find_elements_by_class_name('c13VH6')\n",
    "\n",
    "\n",
    "    # place items in lists\n",
    "\n",
    "    # Initialize empty lists\n",
    "    titles_list = []\n",
    "    prices_list = []\n",
    "    # Loop over the item_titles and item_prices\n",
    "    for title in item_titles:\n",
    "        titles_list.append(title.text)\n",
    "    for price in item_prices:\n",
    "        prices_list.append(price.text)\n",
    "\n",
    "def loop_page ():\n",
    "    while True:\n",
    "        scrape()\n",
    "        elm = browser.find_element_by_class_name('ant-pagination-next')\n",
    "        \n",
    "        elm.click()\n",
    "        time.sleep(5)\n",
    "\n",
    "        if 'disabled' in elm.get_attribute('class'):\n",
    "            break;\n",
    "\n",
    "def list_to_df (titles_list, prices_list):\n",
    "\n",
    "    dfL = pd.DataFrame(zip(titles_list, prices_list), columns=[\"ItemName\", \"Price\"])\n",
    "    dfL[\"Price\"] = dfL[\"Price\"].str.replace('RM', '').astype(float)\n",
    "\n",
    "    # This removes any entry with 'x2' in its title\n",
    "    dfL = dfL[dfL['ItemName'].str.contains('x2') == False]\n",
    "\n",
    "    dfL = dfL[dfL['ItemName'].str.contains('170g') == True]\n",
    "\n",
    "    dfL['Platform'] = 'Lazada'\n",
    "\n",
    "    return dfL\n",
    "\n",
    "\n",
    "\n",
    "\n",
    "def main ():\n",
    "\n",
    "    #titles_list = []\n",
    "    #prices_list = []\n",
    "\n",
    "    loop_page ()\n",
    "\n",
    "    print(titles_list, \"satu\")\n",
    "    print(prices_list,\"dua\")\n",
    "    #len(titles_list)\n",
    "\n",
    "    df_lazada = list_to_df(titles_list,prices_list)\n",
    "\n",
    "    print(df_lazada)\n",
    "\n",
    "    df_lazada.to_csv('lazada_akmal.csv', index= False)\n",
    "\n",
    "\n",
    "#if __name__ == \"__main__\":\n",
    "\n",
    "Lazada_url = 'https://www.lazada.com.my'\n",
    "\n",
    "search_item = 'Nescafe Gold refill 170g'\n",
    "\n",
    "\n",
    "# Select custom Chrome options\n",
    "options = webdriver.ChromeOptions()\n",
    "#options.add_argument('--headless') \n",
    "options.add_argument('start-maximized') \n",
    "options.add_argument('disable-infobars')\n",
    "options.add_argument('--disable-extensions')\n",
    "#    Open the Chrome browser\n",
    "browser = webdriver.Chrome( options=options)\n",
    "browser.get(Lazada_url)\n",
    "\n",
    "main()\n",
    "browser.quit()\n",
    "\n",
    "\n"
   ]
  },
  {
   "cell_type": "code",
   "execution_count": 2,
   "metadata": {},
   "outputs": [],
   "source": [
    "# Web Scraping\n",
    "from selenium import webdriver\n",
    "from selenium.common.exceptions import *\n",
    "# Data manipulation\n",
    "import pandas as pd\n",
    "# Visualization\n",
    "import matplotlib.pyplot as plt\n",
    "import seaborn as sns\n",
    "from selenium.webdriver.common.keys import Keys\n",
    "import time\n",
    "\n",
    "\n"
   ]
  },
  {
   "cell_type": "code",
   "execution_count": 17,
   "metadata": {},
   "outputs": [],
   "source": [
    "amazon_url = 'https://www.amazon.com/'\n",
    "search_item = 'laptop'\n"
   ]
  },
  {
   "cell_type": "code",
   "execution_count": 18,
   "metadata": {},
   "outputs": [],
   "source": [
    "# Select custom Chrome options\n",
    "options = webdriver.ChromeOptions()\n",
    "options.add_argument('--headless') \n",
    "options.add_argument('start-maximized') \n",
    "options.add_argument('disable-infobars')\n",
    "options.add_argument('--disable-extensions')\n",
    "# Open the Chrome browser\n",
    "browser = webdriver.Chrome( options=options)\n",
    "browser.get(amazon_url)"
   ]
  },
  {
   "cell_type": "code",
   "execution_count": 19,
   "metadata": {},
   "outputs": [],
   "source": [
    "# finds search bar\n",
    "search_bar = browser.find_element_by_id('twotabsearchtextbox')\n",
    "\n",
    "# keys in search item\n",
    "search_bar.send_keys(search_item)\n",
    "\n",
    "# clicks the key Enter\n",
    "search_bar.send_keys(Keys.ENTER)"
   ]
  },
  {
   "cell_type": "code",
   "execution_count": 20,
   "metadata": {},
   "outputs": [],
   "source": [
    "\n",
    "\n",
    "item_titles = browser.find_elements_by_xpath('//span[@class=\"a-size-medium a-color-base a-text-normal\"]')\n",
    "\n",
    "item_prices = browser.find_elements_by_class_name('a-price-whole')\n",
    "\n",
    "item_global_ratings = browser.find_elements_by_xpath('//span[@class=\"a-size-base\"]')"
   ]
  },
  {
   "cell_type": "code",
   "execution_count": 21,
   "metadata": {},
   "outputs": [],
   "source": [
    "# place items in lists\n",
    "\n",
    "# Initialize empty lists\n",
    "\n",
    "titles_list = []\n",
    "prices_list = []\n",
    "rating =[]\n",
    "\n",
    "# Loop over the item_titles and item_prices\n",
    "\n",
    "for title in item_titles:\n",
    "    titles_list.append(title.text)\n",
    "\n",
    "for price in item_prices:\n",
    "    prices_list.append(price.text)\n",
    "\n",
    "for i in item_global_ratings :\n",
    "    rating.append(i.text)\n",
    "\n"
   ]
  },
  {
   "cell_type": "code",
   "execution_count": 22,
   "metadata": {},
   "outputs": [
    {
     "output_type": "stream",
     "name": "stdout",
     "text": [
      "['Lenovo Chromebook S330 Laptop, 14-Inch FHD (1920 x 1080) Display, MediaTek MT8173C Processor, 4GB LPDDR3, 64GB eMMC, Chrome OS, 81JW0000US, Business Black', 'Lenovo Chromebook Flex 5 13\" Laptop, FHD (1920 x 1080) Touch Display, Intel Core i3-10110U Processor, 4GB DDR4 Onboard RAM, 64GB SSD, Intel Integrated Graphics, Chrome OS, 82B80006UX, Graphite Grey', 'HP Chromebook 14-inch FHD Laptop, Intel Celeron N4000, 4 GB RAM, 32 GB eMMC, Chrome (14a-na0050nr, Mineral Silver)', 'Acer Predator Helios 300 Gaming Laptop, Intel i7-10750H, NVIDIA GeForce RTX 2060 6GB, 15.6\" Full HD 144Hz 3ms IPS Display, 16GB Dual-Channel DDR4, 512GB NVMe SSD, Wi-Fi 6, RGB Keyboard, PH315-53-72XD', 'HP Chromebook 11-inch Laptop - Up to 15 Hour Battery Life - MediaTek - MT8183 - 4 GB RAM - 32 GB eMMC Storage - 11.6-inch HD Display - with Chrome OS - (11a-na0021nr, 2020 Model, Snow White)', '2020 Lenovo IdeaPad Laptop ComputerAMD A6-9220e 1.6GHz 4GB Memory 64GB eMMC Flash Memory 14\" AMD Radeon R4 AC WiFi Microsoft Office 365 Platinum Gray Windows 10 Home', 'Acer Nitro 5 Gaming Laptop, 9th Gen Intel Core i5-9300H, NVIDIA GeForce GTX 1650, 15.6\" Full HD IPS Display, 8GB DDR4, 256GB NVMe SSD, Wi-Fi 6, Backlit Keyboard, Alexa Built-in, AN515-54-5812', '2020 HP 15.6\" HD LED Display Laptop, Intel Pentium Gold 6405U Processor, 4GB DDR4 RAM, 128GB SSD, HDMI, Webcam, WI-FI, Windows 10 S, Scarlet Red', 'ASUS VivoBook 15 Thin & Light Laptop, 15.6” FHD Display, AMD Quad Core R7-3700U CPU, 8GB DDR4 RAM, 512GB PCIe SSD, AMD Radeon Vega 10 Graphics, Fingerprint, Windows 10 Home, Slate Gray, F512DA-NH77', 'Acer Nitro 5 Gaming Laptop, 9th Gen Intel Core i7-9750H, NVIDIA GeForce RTX 2060, 15.6\" Full HD IPS 144Hz Display, 16GB DDR4, 256GB NVMe SSD, Wi-Fi 6, Waves MaxxAudio, Backlit Keyboard, AN515-54-728C', \"Jumper Windows 10 Laptop, Traditional Laptop Computers 13.3'' Mini Laptop Intel N3350 4GB RAM 64GB ROM Laptops on sale Supports up to 256GB TF Card Expansion with Office 365 Personal for 1 Year\", 'SAMSUNG XE310XBA-K02US Chromebook 4 Chrome OS 11.6\" HD Intel Celeron Processor N4000 4GB RAM 64GB eMMC Gigabit Wi-Fi', 'Acer Chromebook Spin 311 Convertible Laptop, Intel Celeron N4020, 11.6\" HD Touch, 4GB LPDDR4, 32GB eMMC, Gigabit Wi-Fi 5, Bluetooth 5.0, Google Chrome, CP311-2H-C679', '2019 HP Stream Laptop 14inch, Intel Celeron N4000, Intel UHD Graphics 600, 4GB SDRAM, 32GB SSD, HDMI, Win10, 14-cb164wm Brilliant Black (Renewed)', 'ASUS Laptop L210 Ultra Thin Laptop, 11.6” HD Display, Intel Celeron N4020 Processor, 4GB RAM, 64GB Storage, NumberPad, Windows 10 Home in S Mode with One Year of Microsoft 365 Personal, L210MA-DB01', 'SAMSUNG XE310XBA-K02US Chromebook 4 Chrome OS 11.6\" HD Intel Celeron Processor N4000 4GB RAM 64GB eMMC Gigabit Wi-Fi', 'Acer Chromebook 314, Intel Celeron N4000, 14\" Full HD Display, 4GB LPDDR4, 64GB eMMC, Gigabit WiFi, Google Chrome, CB314-1H-C884', 'Evoo 14.1” Ultra Slim Notebook - Elite Series, FHD Display, AMD Ryzen 5 3500U Processor with Radeon Vega 8 Graphics, 8GB RAM, 256GB SSD, HD Webcam, Windows 10 Home, Black (EVC141-12BK)', 'HP 15-dy1036nr 10th Gen Intel Core i5-1035G1, 15.6-Inch FHD Laptop, Natural Silver', 'HP Pavilion Laptop, 15.6\" Full HD IPS Touchscreen, 10th Gen Intel Core i5-1035G1 Processor up to 3.60GHz, 12GB RAM, 512GB PCIe NVMe SSD, Backlit Keyboard, HDMI, Wireless-AC, Bluetooth, Windows 10 Home', 'iProda Laptop, 14.1 Inch Notebook (Intel Core i3-6157U 2.4GHz, 8GB RAM, 256GB SSD, Windows 10 Professional) with 1080P FHD Display, Lightweight, Best for Work at Home', 'ConceptD 3 Ezel CC314-72G-72SX Convertible Creator Laptop, Intel i7-10750H, GeForce GTX 1650, 14\" FHD IPS with Gorilla Glass, PANTONE Validated, 100% sRGB, 16GB DDR4, 512GB NVMe SSD, Wacom AES 1.0 Pen']\n"
     ]
    },
    {
     "output_type": "execute_result",
     "data": {
      "text/plain": [
       "22"
      ]
     },
     "metadata": {},
     "execution_count": 22
    }
   ],
   "source": [
    "print(titles_list)\n",
    "len(titles_list)"
   ]
  },
  {
   "cell_type": "code",
   "execution_count": 23,
   "metadata": {},
   "outputs": [
    {
     "output_type": "stream",
     "name": "stdout",
     "text": [
      "['279', '404', '279', '1,175', '263', '498', '489', '', '267', '714', '644', '999', '259', '242', '269', '259', '339', '242', '289', '449', '618', '673', '379', '1,279']\n"
     ]
    },
    {
     "output_type": "execute_result",
     "data": {
      "text/plain": [
       "24"
      ]
     },
     "metadata": {},
     "execution_count": 23
    }
   ],
   "source": [
    "print(prices_list)\n",
    "len(prices_list)"
   ]
  },
  {
   "cell_type": "code",
   "execution_count": 24,
   "metadata": {},
   "outputs": [
    {
     "output_type": "stream",
     "name": "stdout",
     "text": [
      "['1,412', '1,005', '1,951', '1,555', '165', '1,616', '3,515', '', '', '1,143', '1,615', '122', '1,669', '521', '1,061', '1,086', '2,788', '1,541', '4,761', '1,086', '376', '11', '1,544', '451', '9', '54']\n"
     ]
    },
    {
     "output_type": "execute_result",
     "data": {
      "text/plain": [
       "26"
      ]
     },
     "metadata": {},
     "execution_count": 24
    }
   ],
   "source": [
    "print(rating)\n",
    "len(rating)"
   ]
  },
  {
   "cell_type": "code",
   "execution_count": null,
   "metadata": {},
   "outputs": [],
   "source": [
    "while True:\n",
    "    elm = browser.find_element_by_class_name('ant-pagination-next')\n",
    "    elm.click()\n",
    "    \n",
    "    \n",
    "    \n",
    "    \n",
    "    \n",
    "    \n",
    "    \n",
    "    \n",
    "    \n",
    "    if 'disabled' in elm.get_attribute('class'):\n",
    "        break;\n",
    "print(' done scrapping ')"
   ]
  },
  {
   "cell_type": "code",
   "execution_count": 4,
   "metadata": {},
   "outputs": [
    {
     "output_type": "stream",
     "name": "stdout",
     "text": [
      "0\n",
      "1\n",
      "2\n"
     ]
    }
   ],
   "source": [
    "\n",
    "amazon_url = 'https://www.amazon.com/'\n",
    "search_item = 'laptop'\n",
    "\n",
    "# Select custom Chrome options\n",
    "options = webdriver.ChromeOptions()\n",
    "options.add_argument('--headless') \n",
    "options.add_argument('start-maximized') \n",
    "options.add_argument('disable-infobars')\n",
    "options.add_argument('--disable-extensions')\n",
    "# Open the Chrome browser\n",
    "browser = webdriver.Chrome( options=options)\n",
    "browser.get(amazon_url)\n",
    "\n",
    "\n",
    "# finds search bar\n",
    "search_bar = browser.find_element_by_id('twotabsearchtextbox')\n",
    "\n",
    "# keys in search item\n",
    "search_bar.send_keys(search_item)\n",
    "\n",
    "# clicks the key Enter\n",
    "search_bar.send_keys(Keys.ENTER)\n",
    "\n",
    "# item_titles = browser.find_elements_by_xpath('//span[@class=\"a-size-medium a-color-base a-text-normal\"]')\n",
    "\n",
    "# item_prices = browser.find_elements_by_class_name('a-price-whole')\n",
    "\n",
    "# item_global_ratings = browser.find_elements_by_xpath('//span[@class=\"a-size-base\"]')\n",
    "\n",
    "\n",
    "# place items in lists\n",
    "\n",
    "# Initialize empty lists\n",
    "\n",
    "titles_list = []\n",
    "prices_list = []\n",
    "rating =[]\n",
    "\n",
    "# Loop over the item_titles and item_prices\n",
    "\n",
    "# for title in item_titles:\n",
    "#     titles_list.append(title.text)\n",
    "\n",
    "# for price in item_prices:\n",
    "#     prices_list.append(price.text)\n",
    "\n",
    "# for i in item_global_ratings :\n",
    "#     rating.append(i.text)\n",
    "\n",
    "# elm = browser.find_element_by_class_name('a-last')\n",
    "# elm.click()\n",
    "\n",
    "\n",
    "def scrape_berita ():\n",
    "\n",
    "    item_titles = browser.find_elements_by_xpath('//span[@class=\"a-size-medium a-color-base a-text-normal\"]')\n",
    "\n",
    "    item_prices = browser.find_elements_by_class_name('a-price-whole')\n",
    "\n",
    "    item_global_ratings = browser.find_elements_by_xpath('//span[@class=\"a-size-base\"]')\n",
    "\n",
    "    for title in item_titles:\n",
    "        titles_list.append(title.text)\n",
    "\n",
    "    for price in item_prices:\n",
    "        prices_list.append(price.text)\n",
    "\n",
    "    for i in item_global_ratings :\n",
    "        rating.append(i.text)\n",
    "\n",
    "\n",
    "count = 0\n",
    "\n",
    "while count < 3:\n",
    "\n",
    "    print(count)\n",
    "\n",
    "    scrape_berita()\n",
    "    elm = browser.find_element_by_class_name('a-last')\n",
    "    elm.click()\n",
    "    time.sleep(5)\n",
    "    count +=1\n",
    "\n",
    "\n",
    "\n",
    "\n"
   ]
  },
  {
   "cell_type": "code",
   "execution_count": 5,
   "metadata": {},
   "outputs": [
    {
     "output_type": "stream",
     "name": "stdout",
     "text": [
      "['Lenovo Chromebook S330 Laptop, 14-Inch FHD (1920 x 1080) Display, MediaTek MT8173C Processor, 4GB LPDDR3, 64GB eMMC, Chrome OS, 81JW0000US, Business Black', 'Fusion5 14.1inch A90B+ Pro 64GB Windows 10 Laptop - 4GB RAM, 64GB Storage, Full HD IPS, Bluetooth, 2MP Webcam, Dual Band WiFi Laptop', 'Acer Predator Helios 300 Gaming Laptop, Intel i7-10750H, NVIDIA GeForce RTX 2060 6GB, 15.6\" Full HD 144Hz 3ms IPS Display, 16GB Dual-Channel DDR4, 512GB NVMe SSD, Wi-Fi 6, RGB Keyboard, PH315-53-72XD', 'Acer Aspire 5 Slim Laptop, 15.6 inches Full HD IPS Display, AMD Ryzen 3 3200U, Vega 3 Graphics, 4GB DDR4, 128GB SSD, Backlit Keyboard, Windows 10 in S Mode, A515-43-R19L, Silver', 'Acer Nitro 5 Gaming Laptop, 9th Gen Intel Core i5-9300H, NVIDIA GeForce GTX 1650, 15.6\" Full HD IPS Display, 8GB DDR4, 256GB NVMe SSD, Wi-Fi 6, Backlit Keyboard, Alexa Built-in, AN515-54-5812', 'ASUS TUF Gaming Laptop, 15.6” 144Hz Full HD IPS-Type Display, Intel Core i7-9750H Processor, GeForce GTX 1650, 8GB DDR4, 512GB PCIe SSD, Gigabit Wi-Fi 5, Windows 10 Home, FX505GT-AB73', 'HP Pavilion x360 14 Convertible 2-in-1 Laptop, 14” Full HD Touchscreen Display, Intel Core i5, 8 GB DDR4 RAM, 512 GB SSD Storage, Windows 10 Home, Backlit Keyboard (14-dh2011nr, 2020 Model)', 'ASUS VivoBook 15 Thin & Light Laptop, 15.6” FHD Display, AMD Quad Core R7-3700U CPU, 8GB DDR4 RAM, 512GB PCIe SSD, AMD Radeon Vega 10 Graphics, Fingerprint, Windows 10 Home, Slate Gray, F512DA-NH77', 'Acer Nitro 5 Gaming Laptop, 9th Gen Intel Core i7-9750H, NVIDIA GeForce RTX 2060, 17.3\" Full HD IPS 144Hz 3ms Display, 16GB DDR4, 256GB NVMe SSD, Gigabit WiFi 5, Backlit Keyboard, AN517-51-76V6', 'ASUS TUF Gaming A17 Gaming Laptop, 17.3” 120Hz Full HD IPS-Type, AMD Ryzen 7 4800H, GeForce GTX 1650, 16GB DDR4, 512GB PCIe SSD + 1TB HDD, Gigabit Wi-Fi 5, Windows 10 Home, TUF706IH-ES75', '2020 15.6 inch Laptop, IPS Display, Intel 64-bit Quad-core celeron_j3455 Processor, 6GB RAM, 256GB SSD, scalable 1TB SSD Solid State Drive, 10000mAh high Battery Life, Windows 10 Pro', 'Evoo 14.1” Ultra Slim Notebook - Elite Series, FHD Display, AMD Ryzen 5 3500U Processor with Radeon Vega 8 Graphics, 8GB RAM, 256GB SSD, HD Webcam, Windows 10 Home, Black (EVC141-12BK)', 'ASUS F512JA-AS34 VivoBook 15 Thin and Light Laptop, 15.6” FHD Display, Intel i3-1005G1 CPU, 8GB RAM, 128GB SSD, Backlit Keyboard, Fingerprint, Windows 10 Home in S Mode, Slate Gray', 'Newest HP Stream 14inch HD(1366x768) Display, Intel Celeron N4000 Dual-Core Processor, 4GB RAM, 32GB eMMC, HDMI, WiFi, Webcam, Bluetooth, Win10 S, Rose Pink(Renewed)', 'HP Chromebook 14-inch FHD Laptop, Intel Celeron N4000, 4 GB RAM, 32 GB eMMC, Chrome (14a-na0050nr, Mineral Silver)', 'Newest Flagship ASUS VivoBook E12, 11.6\" HD (1366 x 768), Intel Celeron N3060, 4 GB LPDDR4, 64GB eMMC, Intel HD Graphics 500, Windows 10 Home in S Mode, L203NADS04, with KWALICABLE Accessory Bundle', 'HP Chromebook 11-inch Laptop - Up to 15 Hour Battery Life - MediaTek - MT8183 - 4 GB RAM - 32 GB eMMC Storage - 11.6-inch HD Display - with Chrome OS - (11a-na0021nr, 2020 Model, Snow White)', 'Acer Aspire 5 A515-55-56VK, 15.6\" Full HD IPS Display, 10th Gen Intel Core i5-1035G1, 8GB DDR4, 256GB NVMe SSD, WiFi 6, HD Webcam, Fingerprint Reader, Backlit Keyboard, Windows 10 Home', 'ASUS ZenBook 13 Ultra-Slim Laptop, 13.3” FHD NanoEdge Bezel Display, Intel Core i7-1165G7, 16GB LPDDR4X RAM, 1TB PCIe SSD, NumberPad, Thunderbolt 4, Wi-Fi 6, Windows 10 Home, Pine Grey, UX325EA-AH77', 'Dell Inspiron 17 3793 2020 Premium 17.3” FHD Laptop Notebook Computer, 10th Gen 4-Core Intel Core i5-1035G1 1.0 GHz, 16GB RAM, 512GB SSD + 1TB HDD, DVD,Webcam,Bluetooth,Wi-Fi,HDMI, Win 10 Home', 'iProda Laptop, 14.1 Inch Notebook (Intel Core i3-6157U 2.4GHz, 8GB RAM, 256GB SSD, Windows 10 Professional) with 1080P FHD Display, Lightweight, Best for Work at Home', 'SAMSUNG XE310XBA-K02US Chromebook 4 Chrome OS 11.6\" HD Intel Celeron Processor N4000 4GB RAM 64GB eMMC Gigabit Wi-Fi', 'ConceptD 3 Ezel CC314-72G-72SX Convertible Creator Laptop, Intel i7-10750H, GeForce GTX 1650, 14\" FHD IPS with Gorilla Glass, PANTONE Validated, 100% sRGB, 16GB DDR4, 512GB NVMe SSD, Wacom AES 1.0 Pen', 'MSI Prestige 14 A10SC-021 14\" UHD Ultra Thin and Light Professional Laptop Intel Core i7-10710U GTX1650 MAX-Q 16GB DDR4 1TB NVMe SSD Win10Pro', 'Microsoft Surface Laptop Go - 12.4\" Touchscreen - Intel Core i5 - 8GB Memory - 128GB SSD - Platinum', '2020 MSI GF75 Thin Gaming Laptop: 10th Gen Core i5-10300H, 512GB SSD, 17.3\" Full HD 120Hz Display, NVIDIA GTX 1650, 8GB RAM', 'HP 15-dy1036nr 10th Gen Intel Core i5-1035G1, 15.6-Inch FHD Laptop, Natural Silver', 'Acer Spin 5 Convertible Laptop, 13.5\" 2K 2256 x 1504 IPS Touch, 10th Gen Intel Core i7-1065G7, 16GB LPDDR4X, 512GB NVMe SSD, Wi-Fi 6, Backlit KB, FPR, Rechargeable Active Stylus, SP513-54N-74V2', 'HP Pavilion Laptop, 15.6\" Full HD IPS Touchscreen, 10th Gen Intel Core i5-1035G1 Processor up to 3.60GHz, 12GB RAM, 512GB PCIe NVMe SSD, Backlit Keyboard, HDMI, Wireless-AC, Bluetooth, Windows 10 Home', 'Microsoft Surface Laptop 3 – 13.5\" Touch-Screen – Intel Core i5 - 8GB Memory - 256GB Solid State Drive (Latest Model) – Cobalt Blue with Alcantara (Renewed)', 'Evoo 14.1” Ultra Slim Notebook - Elite Series, FHD Display, AMD Ryzen 5 3500U Processor with Radeon Vega 8 Graphics, 8GB RAM, 256GB SSD, HD Webcam, Windows 10 Home, Silver, EVC141-12SL', 'Lenovo IdeaPad 3 14\" Laptop, 14.0\" FHD 1920 x 1080 Display, AMD Ryzen 5 3500U Processor, 8GB DDR4 RAM, 256GB SSD, AMD Radeon Vega 8 Graphics, Narrow Bezel, Windows 10, 81W0003QUS, Abyss Blue', 'Acer Chromebook 314, Intel Celeron N4000, 14\" Full HD Display, 4GB LPDDR4, 64GB eMMC, Gigabit WiFi, Google Chrome, CB314-1H-C884', 'Lenovo Chromebook C330 2-in-1 Convertible Laptop, 11.6-Inch HD (1366 x 768) IPS Display, MediaTek MT8173C Processor, 4GB LPDDR3, 64 GB eMMC, Chrome OS, 81HY0000US, Blizzard White', '2020 Lenovo IdeaPad 3 15\" HD Touch Screen Laptop, Intel 10th Gen Dual-Core i5-1035G1 CPU, 12GB DDR4 RAM, 256GB PCI-e SSD, Webcam, WiFi 5, Bluetooth, Windows 10 S Platinum Grey', '2020 HP 15 15.6\" HD Touchscreen Premium Laptop - 10th Gen Intel Core i5-1035G1, 16GB DDR4, 512GB SSD, USB Type-C, HDMI, Windows 10 - Silver W', 'HP Stream 14-inch Laptop, Intel Celeron N4000, 4 GB RAM, 64 GB eMMC, Windows 10 Home in S Mode with Office 365 Personal for 1 Year (14-cb185nr, Royal Blue)', 'Acer Predator Helios 300 Gaming Laptop, Intel Core i7-9750H, GeForce GTX 1660 Ti, 15.6\" Full HD 144Hz Display, 3ms Response Time, 16GB DDR4, 512GB PCIe NVMe SSD, RGB Backlit Keyboard, PH315-52-710B', 'ASUS Laptop L210 Ultra Thin Laptop, 11.6” HD Display, Intel Celeron N4020 Processor, 4GB RAM, 64GB Storage, NumberPad, Windows 10 Home in S Mode with One Year of Microsoft 365 Personal, L210MA-DB01', 'OMEN 15 Gaming Laptop, NVIDIA GeForce RTX 2070 Super Max-Q, Intel Core i7-10750H, 32 GB DDR4 RAM, 512 GB PCIe NVMe SSD, 15.6\" Full HD 300Hz, Windows 10 Home, RGB Keyboard (15-dh1019nr, 2020 Model)', 'Dell Gaming G3 15 3500 - 15 Inch FHD, Intel Core i7-10750H 10th Gen, 16GB DDR4 RAM, 512GB SSD, Nvidia Geforce GTX 1650 Ti 4GB GDDR6, Windows 10 Home Eclipse Black', 'Razer Blade 15 Base Gaming Laptop 2020: Intel Core i7-10750H 6-Core, NVIDIA GeForce RTX 2060, 15.6\" FHD 1080p 144Hz, 16GB RAM, 512GB SSD, CNC Aluminum, Chroma RGB Lighting, Thunderbolt 3, Black', 'MSI Creator 15 A10SFS-287 15.6\" UHD 4K Ultra Thin Bezel Adobe 100% Thin and Light Professional Laptop Intel Core i7-10875H GeForce RTX 2070 Super 32GB DDR4 1TB NVMe SSD TB3 Win10PRO VR Ready', 'MSI Prestige 14 A10SC-231 14\" UHD 4k Ultra Thin and Light Professional Laptop Intel Core i7-10510U GTX1650 MAX-Q 16GB DDR4 512GB NVMe SSD Win10Pro TB3, Rose Pink', 'Dell Latitude 5490 / Intel 1.7 GHz Core i5-8350U Quad Core CPU / 16GB RAM / 512GB SSD / 14\" FHD (1920 x 1080) Display / HDMI / USB-C / Webcam / Windows 10 Pro (Renewed)', 'Hippo & Frog Aluminum Laptop Stand,Computer Stand, Tablet Stand,6 Levels Adjustable Foldable Portable Desktop Stand Compatible with Macbooks,HP,Dell, Acer, Asus,Lenovo and up to 10-15.6\" Laptops', 'HP - Pavilion 15.6\" Gaming Laptop - AMD Ryzen 5 - 8GB Memory - NVIDIA GeForce GTX 1650 - 256GB SSD - Shadow Black', 'ASUS TUF VR Ready Gaming Laptop, 15.6\" IPS FHD, AMD Ryzen 7-4800H Octa-Core up to 4.20 GHz, NVIDIA RTX 2060, 32GB RAM, 2TB SSD, RGB Backlit KB, RJ-45 Ethernet, Win 10', '2020 Lenovo ThinkPad E15 15.6\" FHD Full HD (1920x1080) Business Laptop (Intel 10th Quad Core i5-10210U, 16GB DDR4 RAM, 512GB PCIe SSD) Type-C, HDMI, Windows 10 Pro + IST Computers HDMI Cable', '2020 HP 15.6\" HD LED Display Laptop, Intel Pentium Gold 6405U Processor, 4GB DDR4 RAM, 128GB SSD, HDMI, Webcam, WI-FI, Windows 10 S, Scarlet Red', 'Evoo Gaming 15.6” Laptop, FHD, 60Hz, Intel Core i5-10300H Processor, NVIDIA GeForce GTX 1650, THX Spatial Audio, 256GB SSD, 8GB RAM, RGB Backlit Keyboard, HD Camera, Windows 10 Home, Black, EG-LP10-BK', 'MSI GL65 Leopard 10SFK-062 15.6\" FHD 144Hz 3ms Thin Bezel Gaming Laptop Intel Core i7-10750H RTX2070 16GB 512GB NVMe SSD Win 10', 'Microsoft Surface Laptop 3 – 13.5\" Touch-Screen – Intel Core i7 - 16GB Memory - 256GB Solid State Drive (Latest Model) – Platinum with Alcantara', 'Acer Chromebook Spin 311 Convertible Laptop, Intel Celeron N4020, 11.6\" HD Touch, 4GB LPDDR4, 32GB eMMC, Gigabit Wi-Fi 5, Bluetooth 5.0, Google Chrome, CP311-2H-C679', 'Latest_Dell_G5 15 15.6\" FHD Gaming Laptop PC, i7-10750H (up to 5.0 GHz, 6 cores), 16GB RAM, 256GB PCIe SSD, Backlit Keyboard, Bluetooth, HDMI, GTX 1650Ti, Win 10 Home with Santax Accessories', '13.3 inch Laptop (Intel Celeron N3350 64 bit ,6GB DDR3 RAM ,64GB eMMC ,10000mAH Battery ,HD Webcam ,Windows 10 OS Preinstalled ,1366 768 FHD IPS Display ) Notebook (Silver)', 'Lenovo - IdeaPad L340 15 Gaming Laptop - Intel Core i5 - 8GB Memory - NVIDIA GeForce GTX 1650 - 256GB Solid State Drive - Black', 'Asus X512DA-BTS2020RL 15.6\" Full HD Laptop – AMD Ryzen 5 - AMD Radeon Vega 8 - 512GB PCIe SSD – 8GB RAM', 'ASUS TUF506IV-AS76 TUF Gaming A15 Gaming Laptop, 15.6” 144Hz Full HD IPS-Type, AMD Ryzen 7 4800H, GeForce RTX 2060, 16GB DDR4, 1TB PCIe SSD, 90WHr Battery, RGB Backlit KB, Windows 10 Home', 'Apple MacBook Air MJVM2LL/A 11.6-Inch 128GB Laptop (Renewed)', 'Lenovo Flex 5 14\" 2-in-1 Laptop, 14.0\" FHD (1920 x 1080) Touch Display, AMD Ryzen 5 4500U Processor, 16GB DDR4, 256GB SSD, AMD Radeon Graphics, Digital Pen Included, Win 10, 81X20005US, Graphite Grey', 'ASUS ProArt StudioBook 15 Mobile Workstation Laptop, 15.6” 4K UHD NanoEdge Bezel, Intel Core i7-9750H, 32GB DDR4, 512G+512GB RAID 0 SSD, NVIDIA GeForce RTX 2060, Windows 10 Pro, Star Grey, H500GV-XS76', 'New HP 15.6\" HD Touchscreen Laptop Intel Core i3-1005G1 8GB DDR4 RAM 128GB SSD HDMI Bluetooth 802.11/b/g/n/ac Windows 10 15-dy1731ms Silver', '2020 Lenovo IdeaPad Laptop ComputerAMD A6-9220e 1.6GHz 4GB Memory 64GB eMMC Flash Memory 14\" AMD Radeon R4 AC WiFi Microsoft Office 365 Platinum Gray Windows 10 Home', '14.1\" Full HD Windows 10 Professional Slim n Light Laptop, Revolutionary Design - 4GB RAM, 64GB Storage S14+ Model Lapbook, Intel Celeron, USB 3.0, 5GHz WiFi, Expandable Storage', 'Samsung Chromebook 4 Chrome OS 11.6\" HD Intel Celeron Processor N4000 6GB RAM 64GB eMMC Gigabit Wi-Fi - XE310XBA-K03US']\n"
     ]
    },
    {
     "output_type": "execute_result",
     "data": {
      "text/plain": [
       "66"
      ]
     },
     "metadata": {},
     "execution_count": 5
    }
   ],
   "source": [
    "print(titles_list)\n",
    "len(titles_list)"
   ]
  },
  {
   "cell_type": "code",
   "execution_count": 6,
   "metadata": {},
   "outputs": [
    {
     "output_type": "stream",
     "name": "stdout",
     "text": [
      "['279', '257', '1,174', '364', '714', '498', '489', '', '', '839', '738', '644', '1,127', '1,018', '368', '449', '489', '298', '280', '249', '263', '668', '999', '895', '379', '242', '1,279', '1,699', '698', '849', '618', '1,099', '673', '839', '449', '498', '289', '295', '729', '312', '1,253', '339', '1,575', '1,169', '1,349', '1,879', '1,342', '629', '12', '1,356', '897', '729', '1,316', '269', '1,099', '239', '646', '556', '1,199', '499', '769', '1,999', '508', '265', '259', '279']\n"
     ]
    },
    {
     "output_type": "execute_result",
     "data": {
      "text/plain": [
       "66"
      ]
     },
     "metadata": {},
     "execution_count": 6
    }
   ],
   "source": [
    "print(prices_list)\n",
    "len(prices_list)"
   ]
  },
  {
   "cell_type": "code",
   "execution_count": 7,
   "metadata": {},
   "outputs": [
    {
     "output_type": "stream",
     "name": "stdout",
     "text": [
      "['1,415', '169', '1,571', '19,376', '1,624', '1,630', '3,519', '', '', '386', '543', '1,675', '526', '109', '14', '11', '3,519', '2,505', '1,961', '8', '169', '434', '105', '211', '10', '1,092', '55', '98', '116', '38', '1,548', '260', '451', '47', '6', '1,630', '386', '5,599', '5', '1,127', '1,518', '1,415', '4,775', '19', '91', '552', '11', '20', '4', '314', '1', '213', '90', '124', '1,112', '1,082', '2,798', '28', '6', '24', '384', '32', '2,767', '38', '858', '1,146', '57', '1,092']\n"
     ]
    },
    {
     "output_type": "execute_result",
     "data": {
      "text/plain": [
       "68"
      ]
     },
     "metadata": {},
     "execution_count": 7
    }
   ],
   "source": [
    "print(rating)\n",
    "len(rating)"
   ]
  },
  {
   "cell_type": "code",
   "execution_count": 10,
   "metadata": {},
   "outputs": [],
   "source": [
    "dfL = pd.DataFrame(zip(titles_list, prices_list), columns=[\"ItemName\", \"Price (USD)\"])\n",
    "#dfL[\"Price\"] = dfL[\"Price\"].str.replace('RM', '').astype(float)\n",
    "\n",
    "# This removes any entry with 'x2' in its title\n",
    "dfL['Platform'] = 'Amazon'\n",
    "\n",
    "\n",
    "dfL.to_csv('amazon_akmal.csv', index= False)\n"
   ]
  },
  {
   "cell_type": "code",
   "execution_count": null,
   "metadata": {},
   "outputs": [],
   "source": []
  }
 ],
 "metadata": {
  "kernelspec": {
   "display_name": "Python 3.7.5 64-bit",
   "language": "python",
   "name": "python37564bit78260c2933a848af8571fd98d2c806cf"
  },
  "language_info": {
   "codemirror_mode": {
    "name": "ipython",
    "version": 3
   },
   "file_extension": ".py",
   "mimetype": "text/x-python",
   "name": "python",
   "nbconvert_exporter": "python",
   "pygments_lexer": "ipython3",
   "version": "3.7.5-final"
  }
 },
 "nbformat": 4,
 "nbformat_minor": 4
}