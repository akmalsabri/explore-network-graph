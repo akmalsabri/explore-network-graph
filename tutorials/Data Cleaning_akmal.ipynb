{
 "cells": [
  {
   "cell_type": "markdown",
   "metadata": {},
   "source": [
    "# Data Cleaning"
   ]
  },
  {
   "cell_type": "markdown",
   "metadata": {},
   "source": [
    "Data in the real world is not always obtained in a beautiful organized form. This is actually very rare. \n",
    "\n",
    "In most casses data is \"dirty\" and requires a significant amount of cleaning before it can be useful. \n",
    "\n",
    "The process of obtaining good data from \"dirty\" data is called **Data Cleaning**. The process of data cleaning actually takes a significant amount of time of a Data Scientist."
   ]
  },
  {
   "cell_type": "markdown",
   "metadata": {},
   "source": [
    "[Cleaning Big Data: Most Time-Consuming, Least Enjoyable Data Science Task, Survey Says](https://www.forbes.com/sites/gilpress/2016/03/23/data-preparation-most-time-consuming-least-enjoyable-data-science-task-survey-says/#ecedbfe6f637m)\n"
   ]
  },
  {
   "cell_type": "markdown",
   "metadata": {},
   "source": [
    "<img src=\"assets/most_time_ds.jpg\" width=600 height=600 />\n",
    "<img src=\"assets/least_enjoyable_ds.jpg\" width=600 height=600 />\n"
   ]
  },
  {
   "cell_type": "markdown",
   "metadata": {},
   "source": [
    "## What is \"Dirty Data\" ???"
   ]
  },
  {
   "cell_type": "markdown",
   "metadata": {},
   "source": [
    "Examples of dirty data is as follows: \n",
    "- Null values (NAN, nan, empty values ) \n",
    "- Mistakes and inconsistancies in spelling ( \"Malaysia\", \"Msia\",\"MALAYSIA\", \"MY\", \"MalAySIA\", \"M laysia\", \"malaysia______\")\n",
    "- Inconsistant types of data, in a column -( Int, Float, \"string\" )"
   ]
  },
  {
   "cell_type": "markdown",
   "metadata": {},
   "source": [
    "### Why do I need Python, when I have Excel (for Data Cleaning)?\n",
    "\n",
    "#### Excel \n",
    "- Excel is good for viewing data, performing basic analysis, and drawing simple graphs\n",
    "- Audit trail of what was done is not known in Excel \n",
    "- Prone to error\n",
    "- You have to pay for Excel\n",
    "\n",
    "#### Python\n",
    "- Would know exactly what has been done in python \n",
    "- Repeatability \n",
    "- Transparency and sharing \n",
    "- Easier to clean data (missing data, dates in different formats, no headers)\n",
    "- Cleaning big amount of data is easier \n",
    "- Python is free and open source\n"
   ]
  },
  {
   "cell_type": "code",
   "execution_count": 1,
   "metadata": {},
   "outputs": [],
   "source": [
    "import pandas as pd \n",
    "import numpy as np"
   ]
  },
  {
   "cell_type": "markdown",
   "metadata": {},
   "source": [
    "### Dealing with Null data "
   ]
  },
  {
   "cell_type": "code",
   "execution_count": 2,
   "metadata": {},
   "outputs": [],
   "source": [
    "# Here we are creating a series with np.nan as well as None in it\n",
    "np.random.seed(501)\n",
    "data = [1,2,4,5,6,7,4,np.nan,None]\n",
    "n_data =pd.Series(np.random.choice(data, 500))"
   ]
  },
  {
   "cell_type": "code",
   "execution_count": 3,
   "metadata": {},
   "outputs": [
    {
     "output_type": "execute_result",
     "data": {
      "text/plain": [
       "0      NaN\n",
       "1      NaN\n",
       "2        1\n",
       "3        5\n",
       "4        7\n",
       "      ... \n",
       "495      7\n",
       "496      4\n",
       "497    NaN\n",
       "498      7\n",
       "499      6\n",
       "Length: 500, dtype: object"
      ]
     },
     "metadata": {},
     "execution_count": 3
    }
   ],
   "source": [
    "n_data"
   ]
  },
  {
   "cell_type": "code",
   "execution_count": 4,
   "metadata": {},
   "outputs": [
    {
     "output_type": "execute_result",
     "data": {
      "text/plain": [
       "500"
      ]
     },
     "metadata": {},
     "execution_count": 4
    }
   ],
   "source": [
    "len(n_data)"
   ]
  },
  {
   "cell_type": "markdown",
   "metadata": {},
   "source": [
    "### Checking Null data in series"
   ]
  },
  {
   "cell_type": "code",
   "execution_count": 5,
   "metadata": {},
   "outputs": [
    {
     "output_type": "execute_result",
     "data": {
      "text/plain": [
       "True"
      ]
     },
     "metadata": {},
     "execution_count": 5
    }
   ],
   "source": [
    "# Checking at a glance if there is any null values\n",
    "n_data.isnull().values.any()"
   ]
  },
  {
   "cell_type": "code",
   "execution_count": 6,
   "metadata": {},
   "outputs": [
    {
     "output_type": "execute_result",
     "data": {
      "text/plain": [
       "112"
      ]
     },
     "metadata": {},
     "execution_count": 6
    }
   ],
   "source": [
    "# Counting the number of null values in the column. It should be noted that np.nan as well as None are both seen as null values\n",
    "# in python\n",
    "n_data.isnull().sum()"
   ]
  },
  {
   "cell_type": "markdown",
   "metadata": {},
   "source": [
    "### Dealing with Null values.\n",
    "There are a few ways of dealing with null values, depending on the data as well as the use case. You can....\n",
    "- `drop()` the rows which have null values. \n",
    "    - A general rule of thumb, if the null values are **less then 10%** of the data, it can be dropped.\n",
    "    - But this really depends on your data and use case. The 10% rule cannot be used all the time. \n",
    "- If the data is valuable, then you should replace the data accordingly, with reference to your use case.\n"
   ]
  },
  {
   "cell_type": "markdown",
   "metadata": {},
   "source": [
    "#### Method 1 : Using `.dropna()` to remove the `Null` values"
   ]
  },
  {
   "cell_type": "code",
   "execution_count": 7,
   "metadata": {},
   "outputs": [],
   "source": [
    "n_data_drop = n_data.dropna()"
   ]
  },
  {
   "cell_type": "code",
   "execution_count": 8,
   "metadata": {},
   "outputs": [
    {
     "output_type": "execute_result",
     "data": {
      "text/plain": [
       "2      1\n",
       "3      5\n",
       "4      7\n",
       "5      6\n",
       "6      4\n",
       "      ..\n",
       "494    2\n",
       "495    7\n",
       "496    4\n",
       "498    7\n",
       "499    6\n",
       "Length: 388, dtype: object"
      ]
     },
     "metadata": {},
     "execution_count": 8
    }
   ],
   "source": [
    "n_data_drop"
   ]
  },
  {
   "cell_type": "code",
   "execution_count": 9,
   "metadata": {},
   "outputs": [
    {
     "output_type": "execute_result",
     "data": {
      "text/plain": [
       "388"
      ]
     },
     "metadata": {},
     "execution_count": 9
    }
   ],
   "source": [
    "# we can see that the length of the dataset has changed as the null values have been dropped\n",
    "len(n_data_drop)"
   ]
  },
  {
   "cell_type": "markdown",
   "metadata": {},
   "source": [
    "#### Method 2 : Replacing the null values using `fillna()`"
   ]
  },
  {
   "cell_type": "code",
   "execution_count": 13,
   "metadata": {},
   "outputs": [],
   "source": [
    "n_data_0 = n_data.fillna(0)\n"
   ]
  },
  {
   "cell_type": "code",
   "execution_count": 14,
   "metadata": {},
   "outputs": [
    {
     "output_type": "execute_result",
     "data": {
      "text/plain": [
       "0      0\n",
       "1      0\n",
       "2      1\n",
       "3      5\n",
       "4      7\n",
       "      ..\n",
       "495    7\n",
       "496    4\n",
       "497    0\n",
       "498    7\n",
       "499    6\n",
       "Length: 500, dtype: int64"
      ]
     },
     "metadata": {},
     "execution_count": 14
    }
   ],
   "source": [
    "n_data_0"
   ]
  },
  {
   "cell_type": "code",
   "execution_count": 16,
   "metadata": {},
   "outputs": [
    {
     "output_type": "execute_result",
     "data": {
      "text/plain": [
       "500"
      ]
     },
     "metadata": {},
     "execution_count": 16
    }
   ],
   "source": [
    "# we can see that the lenght of the series remains the same.\n",
    "\n",
    "\"\"\" salah taip , n_data_f \"\"\"\n",
    "\n",
    "len(n_data_0)"
   ]
  },
  {
   "cell_type": "markdown",
   "metadata": {},
   "source": [
    "#### `back fill`  and `forward fill` \n",
    "- These are both methods of dealing with null values"
   ]
  },
  {
   "cell_type": "markdown",
   "metadata": {},
   "source": [
    "`bfill` (back fill) is when the value in the series is used to fill in the null values previous to it. "
   ]
  },
  {
   "cell_type": "code",
   "execution_count": 17,
   "metadata": {},
   "outputs": [],
   "source": [
    "n_data_b = n_data.fillna(method='bfill')\n"
   ]
  },
  {
   "cell_type": "code",
   "execution_count": 18,
   "metadata": {},
   "outputs": [
    {
     "output_type": "execute_result",
     "data": {
      "text/plain": [
       "0      NaN\n",
       "1      NaN\n",
       "2        1\n",
       "3        5\n",
       "4        7\n",
       "      ... \n",
       "495      7\n",
       "496      4\n",
       "497    NaN\n",
       "498      7\n",
       "499      6\n",
       "Length: 500, dtype: object"
      ]
     },
     "metadata": {},
     "execution_count": 18
    }
   ],
   "source": [
    "n_data"
   ]
  },
  {
   "cell_type": "code",
   "execution_count": 19,
   "metadata": {},
   "outputs": [
    {
     "output_type": "execute_result",
     "data": {
      "text/plain": [
       "0      1\n",
       "1      1\n",
       "2      1\n",
       "3      5\n",
       "4      7\n",
       "      ..\n",
       "495    7\n",
       "496    4\n",
       "497    7\n",
       "498    7\n",
       "499    6\n",
       "Length: 500, dtype: int64"
      ]
     },
     "metadata": {},
     "execution_count": 19
    }
   ],
   "source": [
    "## from the data we can see that the values in the series replace the values previous to it which are NaN\n",
    "n_data_b"
   ]
  },
  {
   "cell_type": "markdown",
   "metadata": {},
   "source": [
    "`ffill` (forward fill) is when the value in the series is used to fill in the null values after it. "
   ]
  },
  {
   "cell_type": "code",
   "execution_count": 20,
   "metadata": {},
   "outputs": [],
   "source": [
    "n_data_f = n_data.fillna(method='ffill')\n"
   ]
  },
  {
   "cell_type": "code",
   "execution_count": 21,
   "metadata": {},
   "outputs": [
    {
     "output_type": "execute_result",
     "data": {
      "text/plain": [
       "0      NaN\n",
       "1      NaN\n",
       "2      1.0\n",
       "3      5.0\n",
       "4      7.0\n",
       "      ... \n",
       "495    7.0\n",
       "496    4.0\n",
       "497    4.0\n",
       "498    7.0\n",
       "499    6.0\n",
       "Length: 500, dtype: float64"
      ]
     },
     "metadata": {},
     "execution_count": 21
    }
   ],
   "source": [
    "n_data_f"
   ]
  },
  {
   "cell_type": "markdown",
   "metadata": {},
   "source": [
    "#### Exercise 1"
   ]
  },
  {
   "cell_type": "code",
   "execution_count": 23,
   "metadata": {},
   "outputs": [
    {
     "output_type": "execute_result",
     "data": {
      "text/plain": [
       "2"
      ]
     },
     "metadata": {},
     "execution_count": 23
    }
   ],
   "source": [
    "# Check how many null values are in `n_data_f`\n",
    "\n",
    "n_data_f.isnull().values.sum()\n"
   ]
  },
  {
   "cell_type": "code",
   "execution_count": 24,
   "metadata": {},
   "outputs": [
    {
     "output_type": "execute_result",
     "data": {
      "text/plain": [
       "0      NaN\n",
       "1      NaN\n",
       "2      1.0\n",
       "3      5.0\n",
       "4      7.0\n",
       "      ... \n",
       "495    7.0\n",
       "496    4.0\n",
       "497    4.0\n",
       "498    7.0\n",
       "499    6.0\n",
       "Length: 500, dtype: float64"
      ]
     },
     "metadata": {},
     "execution_count": 24
    }
   ],
   "source": [
    "n_data_f"
   ]
  },
  {
   "cell_type": "code",
   "execution_count": null,
   "metadata": {},
   "outputs": [],
   "source": [
    "# Explain why the values at 0 and 1 are empty in `n_data_f` ?\n",
    "ffill method take the last list and move it forward.."
   ]
  },
  {
   "cell_type": "code",
   "execution_count": null,
   "metadata": {},
   "outputs": [],
   "source": [
    "# How would you deal with the NaN values in `n_data_f`?\n",
    "use bfill method"
   ]
  },
  {
   "cell_type": "code",
   "execution_count": 26,
   "metadata": {},
   "outputs": [
    {
     "output_type": "execute_result",
     "data": {
      "text/plain": [
       "0      1.0\n",
       "1      1.0\n",
       "2      1.0\n",
       "3      5.0\n",
       "4      7.0\n",
       "      ... \n",
       "495    7.0\n",
       "496    4.0\n",
       "497    4.0\n",
       "498    7.0\n",
       "499    6.0\n",
       "Length: 500, dtype: float64"
      ]
     },
     "metadata": {},
     "execution_count": 26
    }
   ],
   "source": [
    "# Replace the NaN values in `n_data_f`.\n",
    "new_n_data_f = n_data_f.fillna(method = 'bfill')\n",
    "new_n_data_f"
   ]
  },
  {
   "cell_type": "markdown",
   "metadata": {},
   "source": [
    "### String Data "
   ]
  },
  {
   "cell_type": "code",
   "execution_count": 33,
   "metadata": {},
   "outputs": [],
   "source": [
    "strings = pd.Series(['Argentina      ', 'MALA  YSIA', 'USA$$$','United KINGdom', \"Ayam\" ])"
   ]
  },
  {
   "cell_type": "code",
   "execution_count": 34,
   "metadata": {},
   "outputs": [
    {
     "output_type": "execute_result",
     "data": {
      "text/plain": [
       "0    Argentina      \n",
       "1         MALA  YSIA\n",
       "2             USA$$$\n",
       "3     United KINGdom\n",
       "4               Ayam\n",
       "dtype: object"
      ]
     },
     "metadata": {},
     "execution_count": 34
    }
   ],
   "source": [
    "strings"
   ]
  },
  {
   "cell_type": "markdown",
   "metadata": {},
   "source": [
    "Dropping last element of data"
   ]
  },
  {
   "cell_type": "code",
   "execution_count": 35,
   "metadata": {},
   "outputs": [
    {
     "output_type": "execute_result",
     "data": {
      "text/plain": [
       "0    Argentina      \n",
       "1         MALA  YSIA\n",
       "2             USA$$$\n",
       "3     United KINGdom\n",
       "dtype: object"
      ]
     },
     "metadata": {},
     "execution_count": 35
    }
   ],
   "source": [
    "strings.drop(4)"
   ]
  },
  {
   "cell_type": "markdown",
   "metadata": {},
   "source": [
    "Removing extra spaces "
   ]
  },
  {
   "cell_type": "code",
   "execution_count": 36,
   "metadata": {},
   "outputs": [
    {
     "output_type": "execute_result",
     "data": {
      "text/plain": [
       "0         Argentina\n",
       "1        MALA  YSIA\n",
       "2            USA$$$\n",
       "3    United KINGdom\n",
       "4              Ayam\n",
       "dtype: object"
      ]
     },
     "metadata": {},
     "execution_count": 36
    }
   ],
   "source": [
    "strings.str.strip()"
   ]
  },
  {
   "cell_type": "markdown",
   "metadata": {},
   "source": [
    "making everything lower case\n"
   ]
  },
  {
   "cell_type": "code",
   "execution_count": 37,
   "metadata": {},
   "outputs": [
    {
     "output_type": "execute_result",
     "data": {
      "text/plain": [
       "0    argentina      \n",
       "1         mala  ysia\n",
       "2             usa$$$\n",
       "3     united kingdom\n",
       "4               ayam\n",
       "dtype: object"
      ]
     },
     "metadata": {},
     "execution_count": 37
    }
   ],
   "source": [
    "strings.str.lower()"
   ]
  },
  {
   "cell_type": "markdown",
   "metadata": {},
   "source": [
    "Replacing the special character.\n"
   ]
  },
  {
   "cell_type": "code",
   "execution_count": 38,
   "metadata": {},
   "outputs": [
    {
     "output_type": "execute_result",
     "data": {
      "text/plain": [
       "0    Argentina      \n",
       "1         MALA  YSIA\n",
       "2                USA\n",
       "3     United KINGdom\n",
       "4               Ayam\n",
       "dtype: object"
      ]
     },
     "metadata": {},
     "execution_count": 38
    }
   ],
   "source": [
    "strings.str.replace('$', '')"
   ]
  },
  {
   "cell_type": "markdown",
   "metadata": {},
   "source": [
    "`[^A-Za-z0-9]+` this is the representation of letter and numbers. The code below is replacing anything which is not a letter or a number."
   ]
  },
  {
   "cell_type": "code",
   "execution_count": 39,
   "metadata": {},
   "outputs": [
    {
     "output_type": "execute_result",
     "data": {
      "text/plain": [
       "0        Argentina\n",
       "1         MALAYSIA\n",
       "2              USA\n",
       "3    UnitedKINGdom\n",
       "4             Ayam\n",
       "dtype: object"
      ]
     },
     "metadata": {},
     "execution_count": 39
    }
   ],
   "source": [
    "\n",
    "strings.str.replace('[^A-Za-z0-9]+', '')"
   ]
  },
  {
   "cell_type": "markdown",
   "metadata": {},
   "source": [
    "### Exercise 2\n"
   ]
  },
  {
   "cell_type": "code",
   "execution_count": 47,
   "metadata": {},
   "outputs": [
    {
     "output_type": "execute_result",
     "data": {
      "text/plain": [
       "0    Argentina      \n",
       "1         MALA  YSIA\n",
       "2             USA$$$\n",
       "3     United KINGdom\n",
       "dtype: object"
      ]
     },
     "metadata": {},
     "execution_count": 47
    }
   ],
   "source": [
    "# Clean the data in the variable `strings` above and save it as `strings_clean`\n",
    "strings_v1 = strings.drop(4)\n",
    "strings_v1"
   ]
  },
  {
   "cell_type": "code",
   "execution_count": 57,
   "metadata": {},
   "outputs": [
    {
     "output_type": "stream",
     "name": "stdout",
     "text": [
      "0        argentina\n1         malaysia\n2              usa\n3    unitedkingdom\ndtype: object\n"
     ]
    }
   ],
   "source": [
    "\n",
    "\n",
    "new=strings_v1.str.strip()\n",
    "new=new.str.replace('$','')\n",
    "new = new.str.replace('[^A-Za-z0-9]+', '')\n",
    "new = new.str.lower()\n",
    "\n",
    "strings_clean = new\n",
    "print(strings_clean)\n",
    "\n",
    "\n",
    "\n",
    "\n"
   ]
  },
  {
   "cell_type": "code",
   "execution_count": 94,
   "metadata": {},
   "outputs": [
    {
     "output_type": "execute_result",
     "data": {
      "text/plain": [
       "' nak buat for loop tapi tak jadi '"
      ]
     },
     "metadata": {},
     "execution_count": 94
    }
   ],
   "source": [
    "\n",
    "\"\"\" nak buat for loop tapi tak jadi \"\"\"\n",
    "\n",
    "\n"
   ]
  },
  {
   "cell_type": "markdown",
   "metadata": {},
   "source": [
    "### Datetime \n",
    "`datetime` is a data type for dates."
   ]
  },
  {
   "cell_type": "code",
   "execution_count": 59,
   "metadata": {},
   "outputs": [],
   "source": [
    "# Note that here the format of the date is mm-dd-yyyy\n",
    "dates = pd.date_range('1/1/2020', '2/1/2020', freq='h').to_series().reset_index(drop=True)"
   ]
  },
  {
   "cell_type": "code",
   "execution_count": 60,
   "metadata": {},
   "outputs": [
    {
     "output_type": "execute_result",
     "data": {
      "text/plain": [
       "0     2020-01-01 00:00:00\n",
       "1     2020-01-01 01:00:00\n",
       "2     2020-01-01 02:00:00\n",
       "3     2020-01-01 03:00:00\n",
       "4     2020-01-01 04:00:00\n",
       "              ...        \n",
       "740   2020-01-31 20:00:00\n",
       "741   2020-01-31 21:00:00\n",
       "742   2020-01-31 22:00:00\n",
       "743   2020-01-31 23:00:00\n",
       "744   2020-02-01 00:00:00\n",
       "Length: 745, dtype: datetime64[ns]"
      ]
     },
     "metadata": {},
     "execution_count": 60
    }
   ],
   "source": [
    "dates"
   ]
  },
  {
   "cell_type": "code",
   "execution_count": 61,
   "metadata": {},
   "outputs": [
    {
     "output_type": "execute_result",
     "data": {
      "text/plain": [
       "0      1\n",
       "1      1\n",
       "2      1\n",
       "3      1\n",
       "4      1\n",
       "      ..\n",
       "740    1\n",
       "741    1\n",
       "742    1\n",
       "743    1\n",
       "744    2\n",
       "Length: 745, dtype: int64"
      ]
     },
     "metadata": {},
     "execution_count": 61
    }
   ],
   "source": [
    "# extract the month of the date\n",
    "dates.dt.month"
   ]
  },
  {
   "cell_type": "code",
   "execution_count": 62,
   "metadata": {},
   "outputs": [
    {
     "output_type": "execute_result",
     "data": {
      "text/plain": [
       "0       0\n",
       "1       1\n",
       "2       2\n",
       "3       3\n",
       "4       4\n",
       "       ..\n",
       "740    20\n",
       "741    21\n",
       "742    22\n",
       "743    23\n",
       "744     0\n",
       "Length: 745, dtype: int64"
      ]
     },
     "metadata": {},
     "execution_count": 62
    }
   ],
   "source": [
    "#obtain the hour of the date\n",
    "dates.dt.hour"
   ]
  },
  {
   "cell_type": "markdown",
   "metadata": {},
   "source": [
    "### Using functions to modify data"
   ]
  },
  {
   "cell_type": "code",
   "execution_count": 63,
   "metadata": {},
   "outputs": [
    {
     "output_type": "execute_result",
     "data": {
      "text/plain": [
       "0      0\n",
       "1      0\n",
       "2      1\n",
       "3      5\n",
       "4      7\n",
       "      ..\n",
       "495    7\n",
       "496    4\n",
       "497    0\n",
       "498    7\n",
       "499    6\n",
       "Length: 500, dtype: int64"
      ]
     },
     "metadata": {},
     "execution_count": 63
    }
   ],
   "source": [
    "# Lets use the data from above\n",
    "n_data_0"
   ]
  },
  {
   "cell_type": "code",
   "execution_count": 64,
   "metadata": {},
   "outputs": [],
   "source": [
    "def calc(n):\n",
    "    return (n +5.4) /n.mean()"
   ]
  },
  {
   "cell_type": "code",
   "execution_count": 65,
   "metadata": {},
   "outputs": [
    {
     "output_type": "execute_result",
     "data": {
      "text/plain": [
       "3.122"
      ]
     },
     "metadata": {},
     "execution_count": 65
    }
   ],
   "source": [
    "n_data_0.mean()"
   ]
  },
  {
   "cell_type": "code",
   "execution_count": 66,
   "metadata": {},
   "outputs": [
    {
     "output_type": "execute_result",
     "data": {
      "text/plain": [
       "1.7296604740550932"
      ]
     },
     "metadata": {},
     "execution_count": 66
    }
   ],
   "source": [
    "(0+5.4)/3.122"
   ]
  },
  {
   "cell_type": "code",
   "execution_count": 67,
   "metadata": {},
   "outputs": [],
   "source": [
    "n_new = calc(n_data_0)"
   ]
  },
  {
   "cell_type": "code",
   "execution_count": 68,
   "metadata": {},
   "outputs": [
    {
     "output_type": "execute_result",
     "data": {
      "text/plain": [
       "0    1.72966\n",
       "1    1.72966\n",
       "dtype: float64"
      ]
     },
     "metadata": {},
     "execution_count": 68
    }
   ],
   "source": [
    "n_new.head(2)"
   ]
  },
  {
   "cell_type": "markdown",
   "metadata": {},
   "source": [
    "Making the 2 new series into a `dataframe` "
   ]
  },
  {
   "cell_type": "code",
   "execution_count": 69,
   "metadata": {},
   "outputs": [],
   "source": [
    "df = pd.DataFrame(columns = ['old_data', 'modified_data'])"
   ]
  },
  {
   "cell_type": "code",
   "execution_count": 70,
   "metadata": {},
   "outputs": [],
   "source": [
    "df['old_data'] = n_data_0\n",
    "df['modified_data'] = n_new"
   ]
  },
  {
   "cell_type": "code",
   "execution_count": 71,
   "metadata": {},
   "outputs": [
    {
     "output_type": "execute_result",
     "data": {
      "text/plain": [
       "   old_data  modified_data\n",
       "0         0       1.729660\n",
       "1         0       1.729660\n",
       "2         1       2.049968\n",
       "3         5       3.331198\n",
       "4         7       3.971813"
      ],
      "text/html": "<div>\n<style scoped>\n    .dataframe tbody tr th:only-of-type {\n        vertical-align: middle;\n    }\n\n    .dataframe tbody tr th {\n        vertical-align: top;\n    }\n\n    .dataframe thead th {\n        text-align: right;\n    }\n</style>\n<table border=\"1\" class=\"dataframe\">\n  <thead>\n    <tr style=\"text-align: right;\">\n      <th></th>\n      <th>old_data</th>\n      <th>modified_data</th>\n    </tr>\n  </thead>\n  <tbody>\n    <tr>\n      <th>0</th>\n      <td>0</td>\n      <td>1.729660</td>\n    </tr>\n    <tr>\n      <th>1</th>\n      <td>0</td>\n      <td>1.729660</td>\n    </tr>\n    <tr>\n      <th>2</th>\n      <td>1</td>\n      <td>2.049968</td>\n    </tr>\n    <tr>\n      <th>3</th>\n      <td>5</td>\n      <td>3.331198</td>\n    </tr>\n    <tr>\n      <th>4</th>\n      <td>7</td>\n      <td>3.971813</td>\n    </tr>\n  </tbody>\n</table>\n</div>"
     },
     "metadata": {},
     "execution_count": 71
    }
   ],
   "source": [
    "df.head()"
   ]
  },
  {
   "cell_type": "markdown",
   "metadata": {},
   "source": [
    "### `apply`\n",
    "- `apply` can be used to modify a pandas table."
   ]
  },
  {
   "cell_type": "code",
   "execution_count": 72,
   "metadata": {},
   "outputs": [],
   "source": [
    "def add(n):\n",
    "    return (n +3) /5"
   ]
  },
  {
   "cell_type": "code",
   "execution_count": 78,
   "metadata": {},
   "outputs": [
    {
     "output_type": "execute_result",
     "data": {
      "text/plain": [
       "0      0.6\n",
       "1      0.6\n",
       "2      0.8\n",
       "3      1.6\n",
       "4      2.0\n",
       "      ... \n",
       "495    2.0\n",
       "496    1.4\n",
       "497    0.6\n",
       "498    2.0\n",
       "499    1.8\n",
       "Name: old_data, Length: 500, dtype: float64"
      ]
     },
     "metadata": {},
     "execution_count": 78
    }
   ],
   "source": [
    "# for 1 column\n",
    "df['old_data'].apply(add)"
   ]
  },
  {
   "cell_type": "code",
   "execution_count": 74,
   "metadata": {},
   "outputs": [
    {
     "output_type": "execute_result",
     "data": {
      "text/plain": [
       "     old_data  modified_data\n",
       "0         0.6       0.945932\n",
       "1         0.6       0.945932\n",
       "2         0.8       1.009994\n",
       "3         1.6       1.266240\n",
       "4         2.0       1.394363\n",
       "..        ...            ...\n",
       "495       2.0       1.394363\n",
       "496       1.4       1.202178\n",
       "497       0.6       0.945932\n",
       "498       2.0       1.394363\n",
       "499       1.8       1.330301\n",
       "\n",
       "[500 rows x 2 columns]"
      ],
      "text/html": "<div>\n<style scoped>\n    .dataframe tbody tr th:only-of-type {\n        vertical-align: middle;\n    }\n\n    .dataframe tbody tr th {\n        vertical-align: top;\n    }\n\n    .dataframe thead th {\n        text-align: right;\n    }\n</style>\n<table border=\"1\" class=\"dataframe\">\n  <thead>\n    <tr style=\"text-align: right;\">\n      <th></th>\n      <th>old_data</th>\n      <th>modified_data</th>\n    </tr>\n  </thead>\n  <tbody>\n    <tr>\n      <th>0</th>\n      <td>0.6</td>\n      <td>0.945932</td>\n    </tr>\n    <tr>\n      <th>1</th>\n      <td>0.6</td>\n      <td>0.945932</td>\n    </tr>\n    <tr>\n      <th>2</th>\n      <td>0.8</td>\n      <td>1.009994</td>\n    </tr>\n    <tr>\n      <th>3</th>\n      <td>1.6</td>\n      <td>1.266240</td>\n    </tr>\n    <tr>\n      <th>4</th>\n      <td>2.0</td>\n      <td>1.394363</td>\n    </tr>\n    <tr>\n      <th>...</th>\n      <td>...</td>\n      <td>...</td>\n    </tr>\n    <tr>\n      <th>495</th>\n      <td>2.0</td>\n      <td>1.394363</td>\n    </tr>\n    <tr>\n      <th>496</th>\n      <td>1.4</td>\n      <td>1.202178</td>\n    </tr>\n    <tr>\n      <th>497</th>\n      <td>0.6</td>\n      <td>0.945932</td>\n    </tr>\n    <tr>\n      <th>498</th>\n      <td>2.0</td>\n      <td>1.394363</td>\n    </tr>\n    <tr>\n      <th>499</th>\n      <td>1.8</td>\n      <td>1.330301</td>\n    </tr>\n  </tbody>\n</table>\n<p>500 rows × 2 columns</p>\n</div>"
     },
     "metadata": {},
     "execution_count": 74
    }
   ],
   "source": [
    "# for all columns\n",
    "df.apply(add)"
   ]
  },
  {
   "cell_type": "markdown",
   "metadata": {},
   "source": [
    "# `lambda`\n",
    "We can also use `lambda` as an alternative to making out own function"
   ]
  },
  {
   "cell_type": "markdown",
   "metadata": {},
   "source": [
    "Good example of `lambda` usage:\n",
    "- [w3school python lambda](https://www.w3schools.com/python/python_lambda.asp)"
   ]
  },
  {
   "cell_type": "code",
   "execution_count": 75,
   "metadata": {},
   "outputs": [
    {
     "output_type": "execute_result",
     "data": {
      "text/plain": [
       "     old_data  modified_data\n",
       "0         0.6       0.945932\n",
       "1         0.6       0.945932\n",
       "2         0.8       1.009994\n",
       "3         1.6       1.266240\n",
       "4         2.0       1.394363\n",
       "..        ...            ...\n",
       "495       2.0       1.394363\n",
       "496       1.4       1.202178\n",
       "497       0.6       0.945932\n",
       "498       2.0       1.394363\n",
       "499       1.8       1.330301\n",
       "\n",
       "[500 rows x 2 columns]"
      ],
      "text/html": "<div>\n<style scoped>\n    .dataframe tbody tr th:only-of-type {\n        vertical-align: middle;\n    }\n\n    .dataframe tbody tr th {\n        vertical-align: top;\n    }\n\n    .dataframe thead th {\n        text-align: right;\n    }\n</style>\n<table border=\"1\" class=\"dataframe\">\n  <thead>\n    <tr style=\"text-align: right;\">\n      <th></th>\n      <th>old_data</th>\n      <th>modified_data</th>\n    </tr>\n  </thead>\n  <tbody>\n    <tr>\n      <th>0</th>\n      <td>0.6</td>\n      <td>0.945932</td>\n    </tr>\n    <tr>\n      <th>1</th>\n      <td>0.6</td>\n      <td>0.945932</td>\n    </tr>\n    <tr>\n      <th>2</th>\n      <td>0.8</td>\n      <td>1.009994</td>\n    </tr>\n    <tr>\n      <th>3</th>\n      <td>1.6</td>\n      <td>1.266240</td>\n    </tr>\n    <tr>\n      <th>4</th>\n      <td>2.0</td>\n      <td>1.394363</td>\n    </tr>\n    <tr>\n      <th>...</th>\n      <td>...</td>\n      <td>...</td>\n    </tr>\n    <tr>\n      <th>495</th>\n      <td>2.0</td>\n      <td>1.394363</td>\n    </tr>\n    <tr>\n      <th>496</th>\n      <td>1.4</td>\n      <td>1.202178</td>\n    </tr>\n    <tr>\n      <th>497</th>\n      <td>0.6</td>\n      <td>0.945932</td>\n    </tr>\n    <tr>\n      <th>498</th>\n      <td>2.0</td>\n      <td>1.394363</td>\n    </tr>\n    <tr>\n      <th>499</th>\n      <td>1.8</td>\n      <td>1.330301</td>\n    </tr>\n  </tbody>\n</table>\n<p>500 rows × 2 columns</p>\n</div>"
     },
     "metadata": {},
     "execution_count": 75
    }
   ],
   "source": [
    "df.apply(lambda n : (n +3) /5)"
   ]
  },
  {
   "cell_type": "markdown",
   "metadata": {},
   "source": [
    "### Exercise 3 \n",
    "- Build a lambda function from this `x = y*3`and apply it to the `old_data` column of the df table"
   ]
  },
  {
   "cell_type": "code",
   "execution_count": 80,
   "metadata": {},
   "outputs": [
    {
     "output_type": "execute_result",
     "data": {
      "text/plain": [
       "0      0\n",
       "1      0\n",
       "2      1\n",
       "3      5\n",
       "4      7\n",
       "      ..\n",
       "495    7\n",
       "496    4\n",
       "497    0\n",
       "498    7\n",
       "499    6\n",
       "Name: old_data, Length: 500, dtype: int64"
      ]
     },
     "metadata": {},
     "execution_count": 80
    }
   ],
   "source": [
    "df['old_data'].apply(lambda x :x*3)\n",
    "\n",
    "df['old_data']"
   ]
  },
  {
   "cell_type": "markdown",
   "metadata": {},
   "source": [
    "### References:"
   ]
  },
  {
   "cell_type": "markdown",
   "metadata": {},
   "source": [
    "- [Handling Missing Data](https://jakevdp.github.io/PythonDataScienceHandbook/03.04-missing-values.html)\n",
    "- [\n",
    "Using Functions and lambda example](https://www.kite.com/python/answers/how-to-modify-all-the-values-in-a-pandas-dataframe-column-in-python)"
   ]
  }
 ],
 "metadata": {
  "kernelspec": {
   "display_name": "Python 3.7.5 64-bit",
   "language": "python",
   "name": "python37564bit78260c2933a848af8571fd98d2c806cf"
  },
  "language_info": {
   "codemirror_mode": {
    "name": "ipython",
    "version": 3
   },
   "file_extension": ".py",
   "mimetype": "text/x-python",
   "name": "python",
   "nbconvert_exporter": "python",
   "pygments_lexer": "ipython3",
   "version": "3.7.5-final"
  }
 },
 "nbformat": 4,
 "nbformat_minor": 4
}